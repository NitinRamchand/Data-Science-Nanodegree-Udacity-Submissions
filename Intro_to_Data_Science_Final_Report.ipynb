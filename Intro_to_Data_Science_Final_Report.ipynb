{
 "cells": [
  {
   "cell_type": "markdown",
   "metadata": {},
   "source": [
    "# Udacity Data Science Project - CRISP - DM - Looking into Seattle Airbnb Data - Nitin Ramchand Lalwani"
   ]
  },
  {
   "cell_type": "markdown",
   "metadata": {},
   "source": [
    "## Business Understanding"
   ]
  },
  {
   "cell_type": "markdown",
   "metadata": {},
   "source": [
    "The seattle Airbnb data set contains data about Airbnb listings in Seattle. There are three csv files in the dataset. The calendar dataset contains data regarding the calendar date and price of a listing in AirBnb in the Seattle region; the Listing dataset contains descriptive data for each registered type of property found in the Seattle region; and finally the Review dataset contains data regarding the reviews left by the guests in the property in the Seattle region."
   ]
  },
  {
   "cell_type": "markdown",
   "metadata": {},
   "source": [
    "The questions that I will answer using Data Science techniques in the project are the following:\n",
    "\n",
    "__1) Price trends:__ <br>\n",
    "    In particular: <br>\n",
    "    - Price flucations for each month during the year. <br>\n",
    "    - Price fluctuations for the Jan 2016 to Jan 2017 different neighbourhoods in Seattle <br>\n",
    "    - Price fluctuations for the different property types. <br>\n",
    "    \n",
    "__2)  Sentiment Analysis and Text Mining of the Reviews__ <br>\n",
    "    In Particular: <br>\n",
    "    - Identifying a quantified sentiment metric for an Airbnnb comment based on text mining <br>\n",
    "    - What is the relationship between reviews and neihbourhoods <br>\n",
    "    - What is the relationship between reviews and property types <br>\n",
    "    \n",
    "__3) Price prediction__ <br>\n",
    "    Implemeting a Machine Learning algorithm to predict the price for new listings.\n",
    "   "
   ]
  },
  {
   "cell_type": "markdown",
   "metadata": {},
   "source": [
    "# Data Understanding"
   ]
  },
  {
   "cell_type": "code",
   "execution_count": 167,
   "metadata": {},
   "outputs": [],
   "source": [
    "import pandas as pd\n",
    "import numpy as np\n",
    "from pprint import pprint\n",
    "from datetime import datetime"
   ]
  },
  {
   "cell_type": "code",
   "execution_count": 168,
   "metadata": {},
   "outputs": [],
   "source": [
    "df_Seattle_calendar = pd.read_csv('C:\\\\Users\\\\RAMCHAND_N\\\\Udacity\\\\Data_Science_Nanodegree\\\\Intro to Data Science Module\\\\Seattle\\\\calendar.csv')\n",
    "df_Seattle_listings = pd.read_csv('C:\\\\Users\\\\RAMCHAND_N\\\\Udacity\\\\Data_Science_Nanodegree\\\\Intro to Data Science Module\\\\Seattle\\\\listings.csv')\n",
    "df_Seattle_reviews = pd.read_csv('C:\\\\Users\\\\RAMCHAND_N\\\\Udacity\\\\Data_Science_Nanodegree\\\\Intro to Data Science Module\\\\Seattle\\\\reviews.csv')"
   ]
  },
  {
   "cell_type": "markdown",
   "metadata": {},
   "source": [
    "#### Looking into the Calendar dataset"
   ]
  },
  {
   "cell_type": "code",
   "execution_count": 169,
   "metadata": {},
   "outputs": [
    {
     "data": {
      "text/html": [
       "<div>\n",
       "<style scoped>\n",
       "    .dataframe tbody tr th:only-of-type {\n",
       "        vertical-align: middle;\n",
       "    }\n",
       "\n",
       "    .dataframe tbody tr th {\n",
       "        vertical-align: top;\n",
       "    }\n",
       "\n",
       "    .dataframe thead th {\n",
       "        text-align: right;\n",
       "    }\n",
       "</style>\n",
       "<table border=\"1\" class=\"dataframe\">\n",
       "  <thead>\n",
       "    <tr style=\"text-align: right;\">\n",
       "      <th></th>\n",
       "      <th>listing_id</th>\n",
       "      <th>date</th>\n",
       "      <th>available</th>\n",
       "      <th>price</th>\n",
       "    </tr>\n",
       "  </thead>\n",
       "  <tbody>\n",
       "    <tr>\n",
       "      <th>0</th>\n",
       "      <td>241032</td>\n",
       "      <td>2016-01-04</td>\n",
       "      <td>t</td>\n",
       "      <td>$85.00</td>\n",
       "    </tr>\n",
       "    <tr>\n",
       "      <th>1</th>\n",
       "      <td>241032</td>\n",
       "      <td>2016-01-05</td>\n",
       "      <td>t</td>\n",
       "      <td>$85.00</td>\n",
       "    </tr>\n",
       "    <tr>\n",
       "      <th>2</th>\n",
       "      <td>241032</td>\n",
       "      <td>2016-01-06</td>\n",
       "      <td>f</td>\n",
       "      <td>NaN</td>\n",
       "    </tr>\n",
       "    <tr>\n",
       "      <th>3</th>\n",
       "      <td>241032</td>\n",
       "      <td>2016-01-07</td>\n",
       "      <td>f</td>\n",
       "      <td>NaN</td>\n",
       "    </tr>\n",
       "    <tr>\n",
       "      <th>4</th>\n",
       "      <td>241032</td>\n",
       "      <td>2016-01-08</td>\n",
       "      <td>f</td>\n",
       "      <td>NaN</td>\n",
       "    </tr>\n",
       "  </tbody>\n",
       "</table>\n",
       "</div>"
      ],
      "text/plain": [
       "   listing_id        date available   price\n",
       "0      241032  2016-01-04         t  $85.00\n",
       "1      241032  2016-01-05         t  $85.00\n",
       "2      241032  2016-01-06         f     NaN\n",
       "3      241032  2016-01-07         f     NaN\n",
       "4      241032  2016-01-08         f     NaN"
      ]
     },
     "execution_count": 169,
     "metadata": {},
     "output_type": "execute_result"
    }
   ],
   "source": [
    "df_Seattle_calendar.head()"
   ]
  },
  {
   "cell_type": "code",
   "execution_count": 170,
   "metadata": {},
   "outputs": [
    {
     "data": {
      "text/plain": [
       "(1393570, 4)"
      ]
     },
     "execution_count": 170,
     "metadata": {},
     "output_type": "execute_result"
    }
   ],
   "source": [
    "df_Seattle_calendar.shape"
   ]
  },
  {
   "cell_type": "code",
   "execution_count": 171,
   "metadata": {},
   "outputs": [
    {
     "data": {
      "text/html": [
       "<div>\n",
       "<style scoped>\n",
       "    .dataframe tbody tr th:only-of-type {\n",
       "        vertical-align: middle;\n",
       "    }\n",
       "\n",
       "    .dataframe tbody tr th {\n",
       "        vertical-align: top;\n",
       "    }\n",
       "\n",
       "    .dataframe thead th {\n",
       "        text-align: right;\n",
       "    }\n",
       "</style>\n",
       "<table border=\"1\" class=\"dataframe\">\n",
       "  <thead>\n",
       "    <tr style=\"text-align: right;\">\n",
       "      <th></th>\n",
       "      <th>listing_id</th>\n",
       "      <th>date</th>\n",
       "      <th>available</th>\n",
       "      <th>price</th>\n",
       "    </tr>\n",
       "  </thead>\n",
       "  <tbody>\n",
       "    <tr>\n",
       "      <th>count</th>\n",
       "      <td>1.393570e+06</td>\n",
       "      <td>1393570</td>\n",
       "      <td>1393570</td>\n",
       "      <td>934542</td>\n",
       "    </tr>\n",
       "    <tr>\n",
       "      <th>unique</th>\n",
       "      <td>NaN</td>\n",
       "      <td>365</td>\n",
       "      <td>2</td>\n",
       "      <td>669</td>\n",
       "    </tr>\n",
       "    <tr>\n",
       "      <th>top</th>\n",
       "      <td>NaN</td>\n",
       "      <td>2016-12-10</td>\n",
       "      <td>t</td>\n",
       "      <td>$150.00</td>\n",
       "    </tr>\n",
       "    <tr>\n",
       "      <th>freq</th>\n",
       "      <td>NaN</td>\n",
       "      <td>3818</td>\n",
       "      <td>934542</td>\n",
       "      <td>36646</td>\n",
       "    </tr>\n",
       "    <tr>\n",
       "      <th>mean</th>\n",
       "      <td>5.550111e+06</td>\n",
       "      <td>NaN</td>\n",
       "      <td>NaN</td>\n",
       "      <td>NaN</td>\n",
       "    </tr>\n",
       "    <tr>\n",
       "      <th>std</th>\n",
       "      <td>2.962274e+06</td>\n",
       "      <td>NaN</td>\n",
       "      <td>NaN</td>\n",
       "      <td>NaN</td>\n",
       "    </tr>\n",
       "    <tr>\n",
       "      <th>min</th>\n",
       "      <td>3.335000e+03</td>\n",
       "      <td>NaN</td>\n",
       "      <td>NaN</td>\n",
       "      <td>NaN</td>\n",
       "    </tr>\n",
       "    <tr>\n",
       "      <th>25%</th>\n",
       "      <td>3.258213e+06</td>\n",
       "      <td>NaN</td>\n",
       "      <td>NaN</td>\n",
       "      <td>NaN</td>\n",
       "    </tr>\n",
       "    <tr>\n",
       "      <th>50%</th>\n",
       "      <td>6.118244e+06</td>\n",
       "      <td>NaN</td>\n",
       "      <td>NaN</td>\n",
       "      <td>NaN</td>\n",
       "    </tr>\n",
       "    <tr>\n",
       "      <th>75%</th>\n",
       "      <td>8.035212e+06</td>\n",
       "      <td>NaN</td>\n",
       "      <td>NaN</td>\n",
       "      <td>NaN</td>\n",
       "    </tr>\n",
       "    <tr>\n",
       "      <th>max</th>\n",
       "      <td>1.034016e+07</td>\n",
       "      <td>NaN</td>\n",
       "      <td>NaN</td>\n",
       "      <td>NaN</td>\n",
       "    </tr>\n",
       "  </tbody>\n",
       "</table>\n",
       "</div>"
      ],
      "text/plain": [
       "          listing_id        date available    price\n",
       "count   1.393570e+06     1393570   1393570   934542\n",
       "unique           NaN         365         2      669\n",
       "top              NaN  2016-12-10         t  $150.00\n",
       "freq             NaN        3818    934542    36646\n",
       "mean    5.550111e+06         NaN       NaN      NaN\n",
       "std     2.962274e+06         NaN       NaN      NaN\n",
       "min     3.335000e+03         NaN       NaN      NaN\n",
       "25%     3.258213e+06         NaN       NaN      NaN\n",
       "50%     6.118244e+06         NaN       NaN      NaN\n",
       "75%     8.035212e+06         NaN       NaN      NaN\n",
       "max     1.034016e+07         NaN       NaN      NaN"
      ]
     },
     "execution_count": 171,
     "metadata": {},
     "output_type": "execute_result"
    }
   ],
   "source": [
    "df_Seattle_calendar.describe(include='all')"
   ]
  },
  {
   "cell_type": "markdown",
   "metadata": {},
   "source": [
    "As we can see in the graph below, it is just the price column that has around 30% of NaN values. "
   ]
  },
  {
   "cell_type": "code",
   "execution_count": 172,
   "metadata": {},
   "outputs": [
    {
     "data": {
      "image/png": "[encoded data removed]",
      "text/plain": [
       "<Figure size 432x288 with 1 Axes>"
      ]
     },
     "metadata": {
      "needs_background": "light"
     },
     "output_type": "display_data"
    }
   ],
   "source": [
    "(100*df_Seattle_calendar.notna().mean()).plot(kind='bar', title='Percentage of column field that have non NaN rows', color=['black', 'red', 'green', 'blue', 'cyan']);"
   ]
  },
  {
   "cell_type": "markdown",
   "metadata": {},
   "source": [
    "Now we will check whether the non filled in values of price occur at the same time that the listing is unavailable. If this is the case then it makes sense since at times that the listing is unavailable, then it is not surprising to not have a price value."
   ]
  },
  {
   "cell_type": "code",
   "execution_count": 173,
   "metadata": {},
   "outputs": [
    {
     "data": {
      "text/html": [
       "<div>\n",
       "<style scoped>\n",
       "    .dataframe tbody tr th:only-of-type {\n",
       "        vertical-align: middle;\n",
       "    }\n",
       "\n",
       "    .dataframe tbody tr th {\n",
       "        vertical-align: top;\n",
       "    }\n",
       "\n",
       "    .dataframe thead th {\n",
       "        text-align: right;\n",
       "    }\n",
       "</style>\n",
       "<table border=\"1\" class=\"dataframe\">\n",
       "  <thead>\n",
       "    <tr style=\"text-align: right;\">\n",
       "      <th></th>\n",
       "      <th>listing_id</th>\n",
       "      <th>date</th>\n",
       "      <th>available</th>\n",
       "      <th>price</th>\n",
       "    </tr>\n",
       "  </thead>\n",
       "  <tbody>\n",
       "    <tr>\n",
       "      <th>count</th>\n",
       "      <td>4.590280e+05</td>\n",
       "      <td>459028</td>\n",
       "      <td>459028</td>\n",
       "      <td>0</td>\n",
       "    </tr>\n",
       "    <tr>\n",
       "      <th>unique</th>\n",
       "      <td>NaN</td>\n",
       "      <td>365</td>\n",
       "      <td>1</td>\n",
       "      <td>0</td>\n",
       "    </tr>\n",
       "    <tr>\n",
       "      <th>top</th>\n",
       "      <td>NaN</td>\n",
       "      <td>2016-01-04</td>\n",
       "      <td>f</td>\n",
       "      <td>NaN</td>\n",
       "    </tr>\n",
       "    <tr>\n",
       "      <th>freq</th>\n",
       "      <td>NaN</td>\n",
       "      <td>2083</td>\n",
       "      <td>459028</td>\n",
       "      <td>NaN</td>\n",
       "    </tr>\n",
       "    <tr>\n",
       "      <th>mean</th>\n",
       "      <td>6.048085e+06</td>\n",
       "      <td>NaN</td>\n",
       "      <td>NaN</td>\n",
       "      <td>NaN</td>\n",
       "    </tr>\n",
       "    <tr>\n",
       "      <th>std</th>\n",
       "      <td>2.872915e+06</td>\n",
       "      <td>NaN</td>\n",
       "      <td>NaN</td>\n",
       "      <td>NaN</td>\n",
       "    </tr>\n",
       "    <tr>\n",
       "      <th>min</th>\n",
       "      <td>3.335000e+03</td>\n",
       "      <td>NaN</td>\n",
       "      <td>NaN</td>\n",
       "      <td>NaN</td>\n",
       "    </tr>\n",
       "    <tr>\n",
       "      <th>25%</th>\n",
       "      <td>3.961077e+06</td>\n",
       "      <td>NaN</td>\n",
       "      <td>NaN</td>\n",
       "      <td>NaN</td>\n",
       "    </tr>\n",
       "    <tr>\n",
       "      <th>50%</th>\n",
       "      <td>6.727846e+06</td>\n",
       "      <td>NaN</td>\n",
       "      <td>NaN</td>\n",
       "      <td>NaN</td>\n",
       "    </tr>\n",
       "    <tr>\n",
       "      <th>75%</th>\n",
       "      <td>8.342429e+06</td>\n",
       "      <td>NaN</td>\n",
       "      <td>NaN</td>\n",
       "      <td>NaN</td>\n",
       "    </tr>\n",
       "    <tr>\n",
       "      <th>max</th>\n",
       "      <td>1.034016e+07</td>\n",
       "      <td>NaN</td>\n",
       "      <td>NaN</td>\n",
       "      <td>NaN</td>\n",
       "    </tr>\n",
       "  </tbody>\n",
       "</table>\n",
       "</div>"
      ],
      "text/plain": [
       "          listing_id        date available price\n",
       "count   4.590280e+05      459028    459028     0\n",
       "unique           NaN         365         1     0\n",
       "top              NaN  2016-01-04         f   NaN\n",
       "freq             NaN        2083    459028   NaN\n",
       "mean    6.048085e+06         NaN       NaN   NaN\n",
       "std     2.872915e+06         NaN       NaN   NaN\n",
       "min     3.335000e+03         NaN       NaN   NaN\n",
       "25%     3.961077e+06         NaN       NaN   NaN\n",
       "50%     6.727846e+06         NaN       NaN   NaN\n",
       "75%     8.342429e+06         NaN       NaN   NaN\n",
       "max     1.034016e+07         NaN       NaN   NaN"
      ]
     },
     "execution_count": 173,
     "metadata": {},
     "output_type": "execute_result"
    }
   ],
   "source": [
    "df_Seattle_calendar_nanprices = df_Seattle_calendar[df_Seattle_calendar['price'].isna()]\n",
    "\n",
    "df_Seattle_calendar_nanprices.describe(include='all')"
   ]
  },
  {
   "cell_type": "markdown",
   "metadata": {},
   "source": [
    "As we can see for all the price values that are NaN's there is only 1 unique availablity value which is false, which means that the listing is __unavailable__. So there is no clean up to do with this regard."
   ]
  },
  {
   "cell_type": "markdown",
   "metadata": {},
   "source": [
    "However we do realize that the date available and price columns have strings as values so this will changed to the most conveninent type in the Data Preparation section below."
   ]
  },
  {
   "cell_type": "code",
   "execution_count": 174,
   "metadata": {},
   "outputs": [
    {
     "data": {
      "text/plain": [
       "listing_id     int64\n",
       "date          object\n",
       "available     object\n",
       "price         object\n",
       "dtype: object"
      ]
     },
     "execution_count": 174,
     "metadata": {},
     "output_type": "execute_result"
    }
   ],
   "source": [
    "df_Seattle_calendar.dtypes"
   ]
  },
  {
   "cell_type": "code",
   "execution_count": 175,
   "metadata": {},
   "outputs": [
    {
     "data": {
      "text/plain": [
       "str"
      ]
     },
     "execution_count": 175,
     "metadata": {},
     "output_type": "execute_result"
    }
   ],
   "source": [
    "type(df_Seattle_calendar.loc[0,'price'])"
   ]
  },
  {
   "cell_type": "code",
   "execution_count": 176,
   "metadata": {},
   "outputs": [
    {
     "data": {
      "text/plain": [
       "str"
      ]
     },
     "execution_count": 176,
     "metadata": {},
     "output_type": "execute_result"
    }
   ],
   "source": [
    "type(df_Seattle_calendar.loc[0,'available'])"
   ]
  },
  {
   "cell_type": "code",
   "execution_count": 177,
   "metadata": {},
   "outputs": [
    {
     "data": {
      "text/plain": [
       "str"
      ]
     },
     "execution_count": 177,
     "metadata": {},
     "output_type": "execute_result"
    }
   ],
   "source": [
    "type(df_Seattle_calendar.loc[0,'date'])"
   ]
  },
  {
   "cell_type": "markdown",
   "metadata": {},
   "source": [
    "We will know check whether all the price lsitings that have a value for price have the $ symbol or not."
   ]
  },
  {
   "cell_type": "code",
   "execution_count": 178,
   "metadata": {},
   "outputs": [
    {
     "data": {
      "text/plain": [
       "934542"
      ]
     },
     "execution_count": 178,
     "metadata": {},
     "output_type": "execute_result"
    }
   ],
   "source": [
    "num_nonNaN_price_rows = df_Seattle_calendar[df_Seattle_calendar['price'].notna()].shape[0]\n",
    "num_nonNaN_price_rows"
   ]
  },
  {
   "cell_type": "code",
   "execution_count": 179,
   "metadata": {},
   "outputs": [
    {
     "data": {
      "text/plain": [
       "0          $85.00\n",
       "1          $85.00\n",
       "9          $85.00\n",
       "10         $85.00\n",
       "14         $85.00\n",
       "            ...  \n",
       "1393207    $87.00\n",
       "1393208    $87.00\n",
       "1393211    $87.00\n",
       "1393212    $87.00\n",
       "1393213    $87.00\n",
       "Name: price, Length: 934542, dtype: object"
      ]
     },
     "execution_count": 179,
     "metadata": {},
     "output_type": "execute_result"
    }
   ],
   "source": [
    "df_Seattle_calendar[df_Seattle_calendar['price'].notna()]['price']"
   ]
  },
  {
   "cell_type": "code",
   "execution_count": 180,
   "metadata": {},
   "outputs": [
    {
     "data": {
      "text/plain": [
       "100.0"
      ]
     },
     "execution_count": 180,
     "metadata": {},
     "output_type": "execute_result"
    }
   ],
   "source": [
    "(df_Seattle_calendar[df_Seattle_calendar['price'].notna()]['price'].str.contains('$').sum() / num_nonNaN_price_rows ) * 100"
   ]
  },
  {
   "cell_type": "markdown",
   "metadata": {},
   "source": [
    "We see that 100% all number of non NaN price values containing the $"
   ]
  },
  {
   "cell_type": "markdown",
   "metadata": {},
   "source": [
    "### Looking into the Listing Dataset"
   ]
  },
  {
   "cell_type": "code",
   "execution_count": 181,
   "metadata": {},
   "outputs": [
    {
     "data": {
      "text/html": [
       "<div>\n",
       "<style scoped>\n",
       "    .dataframe tbody tr th:only-of-type {\n",
       "        vertical-align: middle;\n",
       "    }\n",
       "\n",
       "    .dataframe tbody tr th {\n",
       "        vertical-align: top;\n",
       "    }\n",
       "\n",
       "    .dataframe thead th {\n",
       "        text-align: right;\n",
       "    }\n",
       "</style>\n",
       "<table border=\"1\" class=\"dataframe\">\n",
       "  <thead>\n",
       "    <tr style=\"text-align: right;\">\n",
       "      <th></th>\n",
       "      <th>id</th>\n",
       "      <th>listing_url</th>\n",
       "      <th>scrape_id</th>\n",
       "      <th>last_scraped</th>\n",
       "      <th>name</th>\n",
       "      <th>summary</th>\n",
       "      <th>space</th>\n",
       "      <th>description</th>\n",
       "      <th>experiences_offered</th>\n",
       "      <th>neighborhood_overview</th>\n",
       "      <th>...</th>\n",
       "      <th>review_scores_value</th>\n",
       "      <th>requires_license</th>\n",
       "      <th>license</th>\n",
       "      <th>jurisdiction_names</th>\n",
       "      <th>instant_bookable</th>\n",
       "      <th>cancellation_policy</th>\n",
       "      <th>require_guest_profile_picture</th>\n",
       "      <th>require_guest_phone_verification</th>\n",
       "      <th>calculated_host_listings_count</th>\n",
       "      <th>reviews_per_month</th>\n",
       "    </tr>\n",
       "  </thead>\n",
       "  <tbody>\n",
       "    <tr>\n",
       "      <th>0</th>\n",
       "      <td>241032</td>\n",
       "      <td>https://www.airbnb.com/rooms/241032</td>\n",
       "      <td>20160104002432</td>\n",
       "      <td>2016-01-04</td>\n",
       "      <td>Stylish Queen Anne Apartment</td>\n",
       "      <td>NaN</td>\n",
       "      <td>Make your self at home in this charming one-be...</td>\n",
       "      <td>Make your self at home in this charming one-be...</td>\n",
       "      <td>none</td>\n",
       "      <td>NaN</td>\n",
       "      <td>...</td>\n",
       "      <td>10.0</td>\n",
       "      <td>f</td>\n",
       "      <td>NaN</td>\n",
       "      <td>WASHINGTON</td>\n",
       "      <td>f</td>\n",
       "      <td>moderate</td>\n",
       "      <td>f</td>\n",
       "      <td>f</td>\n",
       "      <td>2</td>\n",
       "      <td>4.07</td>\n",
       "    </tr>\n",
       "    <tr>\n",
       "      <th>1</th>\n",
       "      <td>953595</td>\n",
       "      <td>https://www.airbnb.com/rooms/953595</td>\n",
       "      <td>20160104002432</td>\n",
       "      <td>2016-01-04</td>\n",
       "      <td>Bright &amp; Airy Queen Anne Apartment</td>\n",
       "      <td>Chemically sensitive? We've removed the irrita...</td>\n",
       "      <td>Beautiful, hypoallergenic apartment in an extr...</td>\n",
       "      <td>Chemically sensitive? We've removed the irrita...</td>\n",
       "      <td>none</td>\n",
       "      <td>Queen Anne is a wonderful, truly functional vi...</td>\n",
       "      <td>...</td>\n",
       "      <td>10.0</td>\n",
       "      <td>f</td>\n",
       "      <td>NaN</td>\n",
       "      <td>WASHINGTON</td>\n",
       "      <td>f</td>\n",
       "      <td>strict</td>\n",
       "      <td>t</td>\n",
       "      <td>t</td>\n",
       "      <td>6</td>\n",
       "      <td>1.48</td>\n",
       "    </tr>\n",
       "    <tr>\n",
       "      <th>2</th>\n",
       "      <td>3308979</td>\n",
       "      <td>https://www.airbnb.com/rooms/3308979</td>\n",
       "      <td>20160104002432</td>\n",
       "      <td>2016-01-04</td>\n",
       "      <td>New Modern House-Amazing water view</td>\n",
       "      <td>New modern house built in 2013.  Spectacular s...</td>\n",
       "      <td>Our house is modern, light and fresh with a wa...</td>\n",
       "      <td>New modern house built in 2013.  Spectacular s...</td>\n",
       "      <td>none</td>\n",
       "      <td>Upper Queen Anne is a charming neighborhood fu...</td>\n",
       "      <td>...</td>\n",
       "      <td>10.0</td>\n",
       "      <td>f</td>\n",
       "      <td>NaN</td>\n",
       "      <td>WASHINGTON</td>\n",
       "      <td>f</td>\n",
       "      <td>strict</td>\n",
       "      <td>f</td>\n",
       "      <td>f</td>\n",
       "      <td>2</td>\n",
       "      <td>1.15</td>\n",
       "    </tr>\n",
       "    <tr>\n",
       "      <th>3</th>\n",
       "      <td>7421966</td>\n",
       "      <td>https://www.airbnb.com/rooms/7421966</td>\n",
       "      <td>20160104002432</td>\n",
       "      <td>2016-01-04</td>\n",
       "      <td>Queen Anne Chateau</td>\n",
       "      <td>A charming apartment that sits atop Queen Anne...</td>\n",
       "      <td>NaN</td>\n",
       "      <td>A charming apartment that sits atop Queen Anne...</td>\n",
       "      <td>none</td>\n",
       "      <td>NaN</td>\n",
       "      <td>...</td>\n",
       "      <td>NaN</td>\n",
       "      <td>f</td>\n",
       "      <td>NaN</td>\n",
       "      <td>WASHINGTON</td>\n",
       "      <td>f</td>\n",
       "      <td>flexible</td>\n",
       "      <td>f</td>\n",
       "      <td>f</td>\n",
       "      <td>1</td>\n",
       "      <td>NaN</td>\n",
       "    </tr>\n",
       "    <tr>\n",
       "      <th>4</th>\n",
       "      <td>278830</td>\n",
       "      <td>https://www.airbnb.com/rooms/278830</td>\n",
       "      <td>20160104002432</td>\n",
       "      <td>2016-01-04</td>\n",
       "      <td>Charming craftsman 3 bdm house</td>\n",
       "      <td>Cozy family craftman house in beautiful neighb...</td>\n",
       "      <td>Cozy family craftman house in beautiful neighb...</td>\n",
       "      <td>Cozy family craftman house in beautiful neighb...</td>\n",
       "      <td>none</td>\n",
       "      <td>We are in the beautiful neighborhood of Queen ...</td>\n",
       "      <td>...</td>\n",
       "      <td>9.0</td>\n",
       "      <td>f</td>\n",
       "      <td>NaN</td>\n",
       "      <td>WASHINGTON</td>\n",
       "      <td>f</td>\n",
       "      <td>strict</td>\n",
       "      <td>f</td>\n",
       "      <td>f</td>\n",
       "      <td>1</td>\n",
       "      <td>0.89</td>\n",
       "    </tr>\n",
       "  </tbody>\n",
       "</table>\n",
       "<p>5 rows × 92 columns</p>\n",
       "</div>"
      ],
      "text/plain": [
       "        id                           listing_url       scrape_id last_scraped  \\\n",
       "0   241032   https://www.airbnb.com/rooms/241032  20160104002432   2016-01-04   \n",
       "1   953595   https://www.airbnb.com/rooms/953595  20160104002432   2016-01-04   \n",
       "2  3308979  https://www.airbnb.com/rooms/3308979  20160104002432   2016-01-04   \n",
       "3  7421966  https://www.airbnb.com/rooms/7421966  20160104002432   2016-01-04   \n",
       "4   278830   https://www.airbnb.com/rooms/278830  20160104002432   2016-01-04   \n",
       "\n",
       "                                  name  \\\n",
       "0         Stylish Queen Anne Apartment   \n",
       "1   Bright & Airy Queen Anne Apartment   \n",
       "2  New Modern House-Amazing water view   \n",
       "3                   Queen Anne Chateau   \n",
       "4       Charming craftsman 3 bdm house   \n",
       "\n",
       "                                             summary  \\\n",
       "0                                                NaN   \n",
       "1  Chemically sensitive? We've removed the irrita...   \n",
       "2  New modern house built in 2013.  Spectacular s...   \n",
       "3  A charming apartment that sits atop Queen Anne...   \n",
       "4  Cozy family craftman house in beautiful neighb...   \n",
       "\n",
       "                                               space  \\\n",
       "0  Make your self at home in this charming one-be...   \n",
       "1  Beautiful, hypoallergenic apartment in an extr...   \n",
       "2  Our house is modern, light and fresh with a wa...   \n",
       "3                                                NaN   \n",
       "4  Cozy family craftman house in beautiful neighb...   \n",
       "\n",
       "                                         description experiences_offered  \\\n",
       "0  Make your self at home in this charming one-be...                none   \n",
       "1  Chemically sensitive? We've removed the irrita...                none   \n",
       "2  New modern house built in 2013.  Spectacular s...                none   \n",
       "3  A charming apartment that sits atop Queen Anne...                none   \n",
       "4  Cozy family craftman house in beautiful neighb...                none   \n",
       "\n",
       "                               neighborhood_overview  ... review_scores_value  \\\n",
       "0                                                NaN  ...                10.0   \n",
       "1  Queen Anne is a wonderful, truly functional vi...  ...                10.0   \n",
       "2  Upper Queen Anne is a charming neighborhood fu...  ...                10.0   \n",
       "3                                                NaN  ...                 NaN   \n",
       "4  We are in the beautiful neighborhood of Queen ...  ...                 9.0   \n",
       "\n",
       "  requires_license license jurisdiction_names instant_bookable  \\\n",
       "0                f     NaN         WASHINGTON                f   \n",
       "1                f     NaN         WASHINGTON                f   \n",
       "2                f     NaN         WASHINGTON                f   \n",
       "3                f     NaN         WASHINGTON                f   \n",
       "4                f     NaN         WASHINGTON                f   \n",
       "\n",
       "  cancellation_policy  require_guest_profile_picture  \\\n",
       "0            moderate                              f   \n",
       "1              strict                              t   \n",
       "2              strict                              f   \n",
       "3            flexible                              f   \n",
       "4              strict                              f   \n",
       "\n",
       "  require_guest_phone_verification calculated_host_listings_count  \\\n",
       "0                                f                              2   \n",
       "1                                t                              6   \n",
       "2                                f                              2   \n",
       "3                                f                              1   \n",
       "4                                f                              1   \n",
       "\n",
       "  reviews_per_month  \n",
       "0              4.07  \n",
       "1              1.48  \n",
       "2              1.15  \n",
       "3               NaN  \n",
       "4              0.89  \n",
       "\n",
       "[5 rows x 92 columns]"
      ]
     },
     "execution_count": 181,
     "metadata": {},
     "output_type": "execute_result"
    }
   ],
   "source": [
    "df_Seattle_listings.head()"
   ]
  },
  {
   "cell_type": "code",
   "execution_count": 182,
   "metadata": {},
   "outputs": [
    {
     "data": {
      "text/plain": [
       "Index(['id', 'listing_url', 'scrape_id', 'last_scraped', 'name', 'summary',\n",
       "       'space', 'description', 'experiences_offered', 'neighborhood_overview',\n",
       "       'notes', 'transit', 'thumbnail_url', 'medium_url', 'picture_url',\n",
       "       'xl_picture_url', 'host_id', 'host_url', 'host_name', 'host_since',\n",
       "       'host_location', 'host_about', 'host_response_time',\n",
       "       'host_response_rate', 'host_acceptance_rate', 'host_is_superhost',\n",
       "       'host_thumbnail_url', 'host_picture_url', 'host_neighbourhood',\n",
       "       'host_listings_count', 'host_total_listings_count',\n",
       "       'host_verifications', 'host_has_profile_pic', 'host_identity_verified',\n",
       "       'street', 'neighbourhood', 'neighbourhood_cleansed',\n",
       "       'neighbourhood_group_cleansed', 'city', 'state', 'zipcode', 'market',\n",
       "       'smart_location', 'country_code', 'country', 'latitude', 'longitude',\n",
       "       'is_location_exact', 'property_type', 'room_type', 'accommodates',\n",
       "       'bathrooms', 'bedrooms', 'beds', 'bed_type', 'amenities', 'square_feet',\n",
       "       'price', 'weekly_price', 'monthly_price', 'security_deposit',\n",
       "       'cleaning_fee', 'guests_included', 'extra_people', 'minimum_nights',\n",
       "       'maximum_nights', 'calendar_updated', 'has_availability',\n",
       "       'availability_30', 'availability_60', 'availability_90',\n",
       "       'availability_365', 'calendar_last_scraped', 'number_of_reviews',\n",
       "       'first_review', 'last_review', 'review_scores_rating',\n",
       "       'review_scores_accuracy', 'review_scores_cleanliness',\n",
       "       'review_scores_checkin', 'review_scores_communication',\n",
       "       'review_scores_location', 'review_scores_value', 'requires_license',\n",
       "       'license', 'jurisdiction_names', 'instant_bookable',\n",
       "       'cancellation_policy', 'require_guest_profile_picture',\n",
       "       'require_guest_phone_verification', 'calculated_host_listings_count',\n",
       "       'reviews_per_month'],\n",
       "      dtype='object')"
      ]
     },
     "execution_count": 182,
     "metadata": {},
     "output_type": "execute_result"
    }
   ],
   "source": [
    "df_Seattle_listings.columns"
   ]
  },
  {
   "cell_type": "code",
   "execution_count": 183,
   "metadata": {},
   "outputs": [
    {
     "data": {
      "text/plain": [
       "(3818, 92)"
      ]
     },
     "execution_count": 183,
     "metadata": {},
     "output_type": "execute_result"
    }
   ],
   "source": [
    "df_Seattle_listings.shape"
   ]
  },
  {
   "cell_type": "markdown",
   "metadata": {},
   "source": [
    "Here below the features that have less than 50% of data available out of the 3818 listings"
   ]
  },
  {
   "cell_type": "code",
   "execution_count": 184,
   "metadata": {},
   "outputs": [
    {
     "data": {
      "text/plain": [
       "Index(['square_feet', 'monthly_price', 'security_deposit', 'license'], dtype='object')"
      ]
     },
     "execution_count": 184,
     "metadata": {},
     "output_type": "execute_result"
    }
   ],
   "source": [
    "df_Seattle_listings.columns[df_Seattle_listings.isna().mean() > 0.5]"
   ]
  },
  {
   "cell_type": "markdown",
   "metadata": {},
   "source": [
    "Since there are so many features, so far we will look into some features in more detail that would seem intuiative to have a strong correlation with the price just to have an intial feel of the data. This process will then be iterated once we go deeper into the project. "
   ]
  },
  {
   "cell_type": "markdown",
   "metadata": {},
   "source": [
    "One of the features that first comes up in mind is neighbourhood. As we know in big cities location is considered to be key. Below we filter for the listings which have more than 50 counts per neighbourgood. We see that the one with most data is Capitol Hill. "
   ]
  },
  {
   "cell_type": "code",
   "execution_count": 185,
   "metadata": {},
   "outputs": [
    {
     "data": {
      "text/plain": [
       "Capitol Hill                 351\n",
       "Ballard                      213\n",
       "Belltown                     204\n",
       "Minor                        192\n",
       "Queen Anne                   187\n",
       "Fremont                      148\n",
       "Wallingford                  143\n",
       "University District          107\n",
       "First Hill                   105\n",
       "Stevens                       98\n",
       "North Beacon Hill             95\n",
       "Lower Queen Anne              83\n",
       "Central Business District     81\n",
       "Greenwood                     79\n",
       "Columbia City                 61\n",
       "Ravenna                       59\n",
       "Phinney Ridge                 56\n",
       "Magnolia                      55\n",
       "Green Lake                    52\n",
       "Name: neighbourhood, dtype: int64"
      ]
     },
     "execution_count": 185,
     "metadata": {},
     "output_type": "execute_result"
    }
   ],
   "source": [
    "df_Seattle_listings['neighbourhood'].value_counts()[df_Seattle_listings['neighbourhood'].value_counts() > 50]"
   ]
  },
  {
   "cell_type": "code",
   "execution_count": 186,
   "metadata": {},
   "outputs": [
    {
     "data": {
      "image/png": "[encoded data removed]",
      "text/plain": [
       "<Figure size 432x288 with 1 Axes>"
      ]
     },
     "metadata": {
      "needs_background": "light"
     },
     "output_type": "display_data"
    }
   ],
   "source": [
    "(df_Seattle_listings['neighbourhood'].value_counts()[df_Seattle_listings['neighbourhood'].value_counts() > 50]).plot(kind='bar', title='Neighbourhood Listings Counts', color=['black', 'red', 'green', 'blue', 'cyan']);"
   ]
  },
  {
   "cell_type": "code",
   "execution_count": 187,
   "metadata": {},
   "outputs": [
    {
     "data": {
      "text/plain": [
       "10.0    1775\n",
       "9.0     1137\n",
       "8.0      190\n",
       "7.0       38\n",
       "6.0       16\n",
       "4.0        4\n",
       "5.0        1\n",
       "2.0        1\n",
       "Name: review_scores_value, dtype: int64"
      ]
     },
     "execution_count": 187,
     "metadata": {},
     "output_type": "execute_result"
    }
   ],
   "source": [
    "df_Seattle_listings['review_scores_value'].value_counts()"
   ]
  },
  {
   "cell_type": "code",
   "execution_count": 188,
   "metadata": {},
   "outputs": [
    {
     "data": {
      "image/png": "[encoded data removed]",
      "text/plain": [
       "<Figure size 432x288 with 1 Axes>"
      ]
     },
     "metadata": {
      "needs_background": "light"
     },
     "output_type": "display_data"
    }
   ],
   "source": [
    "(df_Seattle_listings['review_scores_value'].value_counts()).plot(kind='bar', title='Review Score Values of Listings Counts', color=['black', 'red', 'green', 'blue', 'cyan']);"
   ]
  },
  {
   "cell_type": "code",
   "execution_count": 189,
   "metadata": {},
   "outputs": [
    {
     "data": {
      "text/plain": [
       "100.0    781\n",
       "98.0     292\n",
       "96.0     278\n",
       "97.0     266\n",
       "95.0     260\n",
       "94.0     198\n",
       "93.0     184\n",
       "99.0     146\n",
       "90.0     138\n",
       "80.0     111\n",
       "92.0     105\n",
       "91.0      97\n",
       "87.0      55\n",
       "89.0      53\n",
       "88.0      47\n",
       "85.0      24\n",
       "84.0      23\n",
       "86.0      17\n",
       "83.0      13\n",
       "60.0      12\n",
       "82.0      10\n",
       "70.0       8\n",
       "73.0       7\n",
       "76.0       5\n",
       "72.0       4\n",
       "78.0       4\n",
       "77.0       4\n",
       "40.0       4\n",
       "75.0       3\n",
       "71.0       3\n",
       "81.0       3\n",
       "68.0       2\n",
       "74.0       2\n",
       "67.0       2\n",
       "79.0       2\n",
       "66.0       2\n",
       "64.0       1\n",
       "20.0       1\n",
       "53.0       1\n",
       "65.0       1\n",
       "55.0       1\n",
       "57.0       1\n",
       "Name: review_scores_rating, dtype: int64"
      ]
     },
     "execution_count": 189,
     "metadata": {},
     "output_type": "execute_result"
    }
   ],
   "source": [
    "df_Seattle_listings['review_scores_rating'].value_counts()"
   ]
  },
  {
   "cell_type": "code",
   "execution_count": 190,
   "metadata": {},
   "outputs": [
    {
     "data": {
      "text/plain": [
       "{}                                                                                                                                                                                                                                                                                                                            45\n",
       "{Internet,\"Wireless Internet\",Kitchen,\"Free Parking on Premises\",Heating,Washer,Dryer}                                                                                                                                                                                                                                        11\n",
       "{TV,\"Cable TV\",Internet,\"Wireless Internet\",Pool,Kitchen,\"Free Parking on Premises\",Gym,\"Elevator in Building\",\"Hot Tub\",Heating,\"Family/Kid Friendly\",Washer,Dryer,\"Smoke Detector\",\"Carbon Monoxide Detector\",\"Fire Extinguisher\",Essentials,Shampoo,\"24-Hour Check-in\",Hangers,\"Hair Dryer\",Iron}                          10\n",
       "{TV,\"Cable TV\",Internet,\"Wireless Internet\",Kitchen,\"Buzzer/Wireless Intercom\",Heating,Washer,Dryer,Essentials,\"24-Hour Check-in\",Hangers,\"Hair Dryer\",Iron,\"Laptop Friendly Workspace\"}                                                                                                                                       8\n",
       "{TV,Internet,\"Wireless Internet\",\"Air Conditioning\",Kitchen,\"Free Parking on Premises\",Heating,Washer,Dryer,\"Smoke Detector\",\"Carbon Monoxide Detector\",\"First Aid Kit\",\"Fire Extinguisher\",Essentials,Shampoo}                                                                                                                7\n",
       "                                                                                                                                                                                                                                                                                                                              ..\n",
       "{TV,\"Cable TV\",Internet,\"Wireless Internet\",\"Air Conditioning\",Kitchen,\"Free Parking on Premises\",\"Elevator in Building\",\"Buzzer/Wireless Intercom\",Heating,\"Family/Kid Friendly\",Washer,Dryer,\"Smoke Detector\",\"Carbon Monoxide Detector\",\"Safety Card\",\"Fire Extinguisher\",Essentials,Shampoo,Hangers,\"Hair Dryer\",Iron}     1\n",
       "{TV,\"Cable TV\",Internet,\"Wireless Internet\",Kitchen,\"Free Parking on Premises\",\"Indoor Fireplace\",Heating,Dryer,\"Smoke Detector\",\"Carbon Monoxide Detector\",\"First Aid Kit\",\"Safety Card\",Essentials,Shampoo}                                                                                                                  1\n",
       "{TV,Internet,\"Wireless Internet\",Heating,Washer,Dryer,\"Smoke Detector\",\"Carbon Monoxide Detector\",Essentials}                                                                                                                                                                                                                  1\n",
       "{TV,\"Cable TV\",Internet,\"Wireless Internet\",Kitchen,\"Elevator in Building\",Heating,\"Smoke Detector\",\"Carbon Monoxide Detector\",\"First Aid Kit\",\"Safety Card\",Essentials}                                                                                                                                                       1\n",
       "{\"Cable TV\",\"Wireless Internet\",\"Wheelchair Accessible\",Kitchen,\"Free Parking on Premises\",\"Pets live on this property\",Cat(s),Heating,\"Family/Kid Friendly\",Washer,Dryer,\"Smoke Detector\",Essentials}                                                                                                                         1\n",
       "Name: amenities, Length: 3284, dtype: int64"
      ]
     },
     "execution_count": 190,
     "metadata": {},
     "output_type": "execute_result"
    }
   ],
   "source": [
    "df_Seattle_listings['amenities'].value_counts()"
   ]
  },
  {
   "cell_type": "code",
   "execution_count": 191,
   "metadata": {},
   "outputs": [
    {
     "data": {
      "text/plain": [
       "f    3227\n",
       "t     591\n",
       "Name: instant_bookable, dtype: int64"
      ]
     },
     "execution_count": 191,
     "metadata": {},
     "output_type": "execute_result"
    }
   ],
   "source": [
    "df_Seattle_listings['instant_bookable'].value_counts()"
   ]
  },
  {
   "cell_type": "code",
   "execution_count": 192,
   "metadata": {},
   "outputs": [
    {
     "data": {
      "text/plain": [
       "House              1733\n",
       "Apartment          1708\n",
       "Townhouse           118\n",
       "Condominium          91\n",
       "Loft                 40\n",
       "Bed & Breakfast      37\n",
       "Other                22\n",
       "Cabin                21\n",
       "Camper/RV            13\n",
       "Bungalow             13\n",
       "Boat                  8\n",
       "Tent                  5\n",
       "Treehouse             3\n",
       "Dorm                  2\n",
       "Chalet                2\n",
       "Yurt                  1\n",
       "Name: property_type, dtype: int64"
      ]
     },
     "execution_count": 192,
     "metadata": {},
     "output_type": "execute_result"
    }
   ],
   "source": [
    "df_Seattle_listings['property_type'].value_counts()"
   ]
  },
  {
   "cell_type": "code",
   "execution_count": 193,
   "metadata": {},
   "outputs": [
    {
     "data": {
      "image/png": "[encoded data removed]",
      "text/plain": [
       "<Figure size 432x288 with 1 Axes>"
      ]
     },
     "metadata": {
      "needs_background": "light"
     },
     "output_type": "display_data"
    }
   ],
   "source": [
    "(df_Seattle_listings['property_type'].value_counts()).plot(kind='bar', title='Number of listings for Property Type', color=['black', 'red', 'green', 'blue', 'cyan']);"
   ]
  },
  {
   "cell_type": "code",
   "execution_count": 194,
   "metadata": {},
   "outputs": [
    {
     "data": {
      "text/plain": [
       "none    3818\n",
       "Name: experiences_offered, dtype: int64"
      ]
     },
     "execution_count": 194,
     "metadata": {},
     "output_type": "execute_result"
    }
   ],
   "source": [
    "df_Seattle_listings['experiences_offered'].value_counts()"
   ]
  },
  {
   "cell_type": "markdown",
   "metadata": {},
   "source": [
    "We already see below that for the host_location column there are many irregularities and some work can be done there to harmonize the names. "
   ]
  },
  {
   "cell_type": "code",
   "execution_count": 195,
   "metadata": {},
   "outputs": [
    {
     "data": {
      "text/plain": [
       "Seattle, Washington, United States          3259\n",
       "US                                           246\n",
       "Spokane, Washington, United States            41\n",
       "Kent, Washington, United States               34\n",
       "Los Angeles, California, United States        13\n",
       "                                            ... \n",
       "West New York, New Jersey, United States       1\n",
       "Newcastle, Washington, United States           1\n",
       "Kenilworth, Illinois, United States            1\n",
       "Vashon Island, Seattle, WA                     1\n",
       "Gig Harbor, Washington, United States          1\n",
       "Name: host_location, Length: 120, dtype: int64"
      ]
     },
     "execution_count": 195,
     "metadata": {},
     "output_type": "execute_result"
    }
   ],
   "source": [
    "df_Seattle_listings['host_location'].value_counts()"
   ]
  },
  {
   "cell_type": "code",
   "execution_count": 196,
   "metadata": {},
   "outputs": [
    {
     "data": {
      "text/plain": [
       "100%    2371\n",
       "90%      165\n",
       "80%      104\n",
       "99%       78\n",
       "88%       66\n",
       "50%       52\n",
       "94%       46\n",
       "67%       41\n",
       "89%       32\n",
       "75%       32\n",
       "86%       30\n",
       "96%       28\n",
       "98%       28\n",
       "70%       25\n",
       "97%       21\n",
       "60%       20\n",
       "83%       20\n",
       "93%       18\n",
       "92%       18\n",
       "33%       14\n",
       "40%       12\n",
       "63%       11\n",
       "71%        8\n",
       "95%        8\n",
       "78%        8\n",
       "91%        5\n",
       "43%        4\n",
       "25%        3\n",
       "64%        3\n",
       "76%        3\n",
       "87%        3\n",
       "58%        2\n",
       "17%        2\n",
       "82%        2\n",
       "57%        2\n",
       "30%        1\n",
       "81%        1\n",
       "68%        1\n",
       "38%        1\n",
       "69%        1\n",
       "31%        1\n",
       "56%        1\n",
       "55%        1\n",
       "53%        1\n",
       "65%        1\n",
       "Name: host_response_rate, dtype: int64"
      ]
     },
     "execution_count": 196,
     "metadata": {},
     "output_type": "execute_result"
    }
   ],
   "source": [
    "df_Seattle_listings['host_response_rate'].value_counts()"
   ]
  },
  {
   "cell_type": "code",
   "execution_count": 197,
   "metadata": {},
   "outputs": [
    {
     "data": {
      "text/plain": [
       "within an hour        1692\n",
       "within a few hours     968\n",
       "within a day           597\n",
       "a few days or more      38\n",
       "Name: host_response_time, dtype: int64"
      ]
     },
     "execution_count": 197,
     "metadata": {},
     "output_type": "execute_result"
    }
   ],
   "source": [
    "df_Seattle_listings['host_response_time'].value_counts()"
   ]
  },
  {
   "cell_type": "code",
   "execution_count": 198,
   "metadata": {},
   "outputs": [
    {
     "data": {
      "image/png": "[encoded data removed]",
      "text/plain": [
       "<Figure size 432x288 with 1 Axes>"
      ]
     },
     "metadata": {
      "needs_background": "light"
     },
     "output_type": "display_data"
    }
   ],
   "source": [
    "(df_Seattle_listings['host_response_time'].value_counts()).plot(kind='bar', title='Host Reponse Time counts', color=['black', 'red', 'green', 'blue', 'cyan']);"
   ]
  },
  {
   "cell_type": "code",
   "execution_count": 199,
   "metadata": {},
   "outputs": [
    {
     "data": {
      "text/plain": [
       "0      627\n",
       "1      310\n",
       "2      224\n",
       "4      160\n",
       "3      157\n",
       "      ... \n",
       "244      1\n",
       "270      1\n",
       "278      1\n",
       "294      1\n",
       "353      1\n",
       "Name: number_of_reviews, Length: 195, dtype: int64"
      ]
     },
     "execution_count": 199,
     "metadata": {},
     "output_type": "execute_result"
    }
   ],
   "source": [
    "df_Seattle_listings['number_of_reviews'].value_counts() "
   ]
  },
  {
   "cell_type": "code",
   "execution_count": 200,
   "metadata": {},
   "outputs": [
    {
     "data": {
      "text/plain": [
       "strict      1417\n",
       "moderate    1251\n",
       "flexible    1150\n",
       "Name: cancellation_policy, dtype: int64"
      ]
     },
     "execution_count": 200,
     "metadata": {},
     "output_type": "execute_result"
    }
   ],
   "source": [
    "df_Seattle_listings['cancellation_policy'].value_counts()"
   ]
  },
  {
   "cell_type": "code",
   "execution_count": 201,
   "metadata": {},
   "outputs": [
    {
     "data": {
      "image/png": "[encoded data removed]",
      "text/plain": [
       "<Figure size 432x288 with 1 Axes>"
      ]
     },
     "metadata": {
      "needs_background": "light"
     },
     "output_type": "display_data"
    }
   ],
   "source": [
    "(df_Seattle_listings['cancellation_policy'].value_counts()).plot(kind='bar', title='Cancellation Policy Counts', color=['black', 'red', 'green', 'blue', 'cyan']);"
   ]
  },
  {
   "cell_type": "code",
   "execution_count": 202,
   "metadata": {},
   "outputs": [
    {
     "data": {
      "text/plain": [
       "1125    2453\n",
       "30       183\n",
       "365      148\n",
       "14       123\n",
       "7        108\n",
       "        ... \n",
       "500        1\n",
       "234        1\n",
       "260        1\n",
       "330        1\n",
       "1825       1\n",
       "Name: maximum_nights, Length: 68, dtype: int64"
      ]
     },
     "execution_count": 202,
     "metadata": {},
     "output_type": "execute_result"
    }
   ],
   "source": [
    "df_Seattle_listings['maximum_nights'].value_counts()"
   ]
  },
  {
   "cell_type": "code",
   "execution_count": 203,
   "metadata": {},
   "outputs": [
    {
     "data": {
      "text/plain": [
       "1       1610\n",
       "2       1423\n",
       "3        480\n",
       "4        122\n",
       "5         67\n",
       "7         50\n",
       "6         16\n",
       "14        16\n",
       "20        11\n",
       "30         6\n",
       "10         5\n",
       "13         2\n",
       "1000       1\n",
       "29         1\n",
       "28         1\n",
       "26         1\n",
       "11         1\n",
       "12         1\n",
       "8          1\n",
       "15         1\n",
       "21         1\n",
       "31         1\n",
       "Name: minimum_nights, dtype: int64"
      ]
     },
     "execution_count": 203,
     "metadata": {},
     "output_type": "execute_result"
    }
   ],
   "source": [
    "df_Seattle_listings['minimum_nights'].value_counts()"
   ]
  },
  {
   "cell_type": "code",
   "execution_count": 204,
   "metadata": {},
   "outputs": [
    {
     "data": {
      "image/png": "[encoded data removed]",
      "text/plain": [
       "<Figure size 432x288 with 1 Axes>"
      ]
     },
     "metadata": {
      "needs_background": "light"
     },
     "output_type": "display_data"
    }
   ],
   "source": [
    "(df_Seattle_listings['minimum_nights'].value_counts()).plot(kind='bar', title='Minimum number of nights Listings Counts', color=['black', 'red', 'green', 'blue', 'cyan']);"
   ]
  },
  {
   "cell_type": "code",
   "execution_count": 205,
   "metadata": {},
   "outputs": [
    {
     "data": {
      "text/plain": [
       "Entire home/apt    2541\n",
       "Private room       1160\n",
       "Shared room         117\n",
       "Name: room_type, dtype: int64"
      ]
     },
     "execution_count": 205,
     "metadata": {},
     "output_type": "execute_result"
    }
   ],
   "source": [
    "df_Seattle_listings['room_type'].value_counts()"
   ]
  },
  {
   "cell_type": "code",
   "execution_count": 206,
   "metadata": {},
   "outputs": [
    {
     "data": {
      "image/png": "[encoded data removed]",
      "text/plain": [
       "<Figure size 432x288 with 1 Axes>"
      ]
     },
     "metadata": {
      "needs_background": "light"
     },
     "output_type": "display_data"
    }
   ],
   "source": [
    "(df_Seattle_listings['room_type'].value_counts()).plot(kind='bar', title='Room Type Listings Counts', color=['black', 'red', 'green', 'blue', 'cyan']);"
   ]
  },
  {
   "cell_type": "markdown",
   "metadata": {},
   "source": [
    "### Looking into the Review Dataset"
   ]
  },
  {
   "cell_type": "code",
   "execution_count": 207,
   "metadata": {},
   "outputs": [
    {
     "data": {
      "text/html": [
       "<div>\n",
       "<style scoped>\n",
       "    .dataframe tbody tr th:only-of-type {\n",
       "        vertical-align: middle;\n",
       "    }\n",
       "\n",
       "    .dataframe tbody tr th {\n",
       "        vertical-align: top;\n",
       "    }\n",
       "\n",
       "    .dataframe thead th {\n",
       "        text-align: right;\n",
       "    }\n",
       "</style>\n",
       "<table border=\"1\" class=\"dataframe\">\n",
       "  <thead>\n",
       "    <tr style=\"text-align: right;\">\n",
       "      <th></th>\n",
       "      <th>listing_id</th>\n",
       "      <th>id</th>\n",
       "      <th>date</th>\n",
       "      <th>reviewer_id</th>\n",
       "      <th>reviewer_name</th>\n",
       "      <th>comments</th>\n",
       "    </tr>\n",
       "  </thead>\n",
       "  <tbody>\n",
       "    <tr>\n",
       "      <th>0</th>\n",
       "      <td>7202016</td>\n",
       "      <td>38917982</td>\n",
       "      <td>2015-07-19</td>\n",
       "      <td>28943674</td>\n",
       "      <td>Bianca</td>\n",
       "      <td>Cute and cozy place. Perfect location to every...</td>\n",
       "    </tr>\n",
       "    <tr>\n",
       "      <th>1</th>\n",
       "      <td>7202016</td>\n",
       "      <td>39087409</td>\n",
       "      <td>2015-07-20</td>\n",
       "      <td>32440555</td>\n",
       "      <td>Frank</td>\n",
       "      <td>Kelly has a great room in a very central locat...</td>\n",
       "    </tr>\n",
       "    <tr>\n",
       "      <th>2</th>\n",
       "      <td>7202016</td>\n",
       "      <td>39820030</td>\n",
       "      <td>2015-07-26</td>\n",
       "      <td>37722850</td>\n",
       "      <td>Ian</td>\n",
       "      <td>Very spacious apartment, and in a great neighb...</td>\n",
       "    </tr>\n",
       "    <tr>\n",
       "      <th>3</th>\n",
       "      <td>7202016</td>\n",
       "      <td>40813543</td>\n",
       "      <td>2015-08-02</td>\n",
       "      <td>33671805</td>\n",
       "      <td>George</td>\n",
       "      <td>Close to Seattle Center and all it has to offe...</td>\n",
       "    </tr>\n",
       "    <tr>\n",
       "      <th>4</th>\n",
       "      <td>7202016</td>\n",
       "      <td>41986501</td>\n",
       "      <td>2015-08-10</td>\n",
       "      <td>34959538</td>\n",
       "      <td>Ming</td>\n",
       "      <td>Kelly was a great host and very accommodating ...</td>\n",
       "    </tr>\n",
       "  </tbody>\n",
       "</table>\n",
       "</div>"
      ],
      "text/plain": [
       "   listing_id        id        date  reviewer_id reviewer_name  \\\n",
       "0     7202016  38917982  2015-07-19     28943674        Bianca   \n",
       "1     7202016  39087409  2015-07-20     32440555         Frank   \n",
       "2     7202016  39820030  2015-07-26     37722850           Ian   \n",
       "3     7202016  40813543  2015-08-02     33671805        George   \n",
       "4     7202016  41986501  2015-08-10     34959538          Ming   \n",
       "\n",
       "                                            comments  \n",
       "0  Cute and cozy place. Perfect location to every...  \n",
       "1  Kelly has a great room in a very central locat...  \n",
       "2  Very spacious apartment, and in a great neighb...  \n",
       "3  Close to Seattle Center and all it has to offe...  \n",
       "4  Kelly was a great host and very accommodating ...  "
      ]
     },
     "execution_count": 207,
     "metadata": {},
     "output_type": "execute_result"
    }
   ],
   "source": [
    "df_Seattle_reviews.head()"
   ]
  },
  {
   "cell_type": "code",
   "execution_count": 208,
   "metadata": {},
   "outputs": [
    {
     "data": {
      "text/plain": [
       "(84849, 6)"
      ]
     },
     "execution_count": 208,
     "metadata": {},
     "output_type": "execute_result"
    }
   ],
   "source": [
    "df_Seattle_reviews.shape"
   ]
  },
  {
   "cell_type": "code",
   "execution_count": 209,
   "metadata": {},
   "outputs": [
    {
     "data": {
      "text/plain": [
       "listing_id        0\n",
       "id                0\n",
       "date              0\n",
       "reviewer_id       0\n",
       "reviewer_name     0\n",
       "comments         18\n",
       "dtype: int64"
      ]
     },
     "execution_count": 209,
     "metadata": {},
     "output_type": "execute_result"
    }
   ],
   "source": [
    "df_Seattle_reviews.isna().sum()"
   ]
  },
  {
   "cell_type": "markdown",
   "metadata": {},
   "source": [
    "# Data Preparation"
   ]
  },
  {
   "cell_type": "markdown",
   "metadata": {},
   "source": [
    "__Question 1: Price trends:__ <br>\n",
    "_Price flucations for each month during the year._ <br>"
   ]
  },
  {
   "cell_type": "code",
   "execution_count": 210,
   "metadata": {},
   "outputs": [
    {
     "data": {
      "text/html": [
       "<div>\n",
       "<style scoped>\n",
       "    .dataframe tbody tr th:only-of-type {\n",
       "        vertical-align: middle;\n",
       "    }\n",
       "\n",
       "    .dataframe tbody tr th {\n",
       "        vertical-align: top;\n",
       "    }\n",
       "\n",
       "    .dataframe thead th {\n",
       "        text-align: right;\n",
       "    }\n",
       "</style>\n",
       "<table border=\"1\" class=\"dataframe\">\n",
       "  <thead>\n",
       "    <tr style=\"text-align: right;\">\n",
       "      <th></th>\n",
       "      <th>listing_id</th>\n",
       "      <th>date</th>\n",
       "      <th>available</th>\n",
       "      <th>price</th>\n",
       "    </tr>\n",
       "  </thead>\n",
       "  <tbody>\n",
       "    <tr>\n",
       "      <th>0</th>\n",
       "      <td>241032</td>\n",
       "      <td>2016-01-04</td>\n",
       "      <td>t</td>\n",
       "      <td>$85.00</td>\n",
       "    </tr>\n",
       "    <tr>\n",
       "      <th>1</th>\n",
       "      <td>241032</td>\n",
       "      <td>2016-01-05</td>\n",
       "      <td>t</td>\n",
       "      <td>$85.00</td>\n",
       "    </tr>\n",
       "    <tr>\n",
       "      <th>2</th>\n",
       "      <td>241032</td>\n",
       "      <td>2016-01-06</td>\n",
       "      <td>f</td>\n",
       "      <td>NaN</td>\n",
       "    </tr>\n",
       "    <tr>\n",
       "      <th>3</th>\n",
       "      <td>241032</td>\n",
       "      <td>2016-01-07</td>\n",
       "      <td>f</td>\n",
       "      <td>NaN</td>\n",
       "    </tr>\n",
       "    <tr>\n",
       "      <th>4</th>\n",
       "      <td>241032</td>\n",
       "      <td>2016-01-08</td>\n",
       "      <td>f</td>\n",
       "      <td>NaN</td>\n",
       "    </tr>\n",
       "  </tbody>\n",
       "</table>\n",
       "</div>"
      ],
      "text/plain": [
       "   listing_id        date available   price\n",
       "0      241032  2016-01-04         t  $85.00\n",
       "1      241032  2016-01-05         t  $85.00\n",
       "2      241032  2016-01-06         f     NaN\n",
       "3      241032  2016-01-07         f     NaN\n",
       "4      241032  2016-01-08         f     NaN"
      ]
     },
     "execution_count": 210,
     "metadata": {},
     "output_type": "execute_result"
    }
   ],
   "source": [
    "df_Seattle_calendar.head()"
   ]
  },
  {
   "cell_type": "code",
   "execution_count": 211,
   "metadata": {},
   "outputs": [],
   "source": [
    "df_Seattle_calendar['date'] = pd.to_datetime(df_Seattle_calendar['date'])"
   ]
  },
  {
   "cell_type": "code",
   "execution_count": 212,
   "metadata": {},
   "outputs": [],
   "source": [
    "df_Seattle_calendar['price'] = pd.to_numeric(df_Seattle_calendar['price'].str.replace('\\$|,',''))"
   ]
  },
  {
   "cell_type": "code",
   "execution_count": 213,
   "metadata": {},
   "outputs": [],
   "source": [
    "df_Seattle_calendar_nonnullvalues = df_Seattle_calendar[df_Seattle_calendar['available'] == 't']"
   ]
  },
  {
   "cell_type": "code",
   "execution_count": 214,
   "metadata": {},
   "outputs": [],
   "source": [
    "df_Seattle_mean_price_month = df_Seattle_calendar_nonnullvalues.groupby(pd.Grouper(key='date', freq='1M')).mean()"
   ]
  },
  {
   "cell_type": "code",
   "execution_count": 215,
   "metadata": {},
   "outputs": [
    {
     "data": {
      "text/html": [
       "<div>\n",
       "<style scoped>\n",
       "    .dataframe tbody tr th:only-of-type {\n",
       "        vertical-align: middle;\n",
       "    }\n",
       "\n",
       "    .dataframe tbody tr th {\n",
       "        vertical-align: top;\n",
       "    }\n",
       "\n",
       "    .dataframe thead th {\n",
       "        text-align: right;\n",
       "    }\n",
       "</style>\n",
       "<table border=\"1\" class=\"dataframe\">\n",
       "  <thead>\n",
       "    <tr style=\"text-align: right;\">\n",
       "      <th></th>\n",
       "      <th>listing_id</th>\n",
       "      <th>price</th>\n",
       "    </tr>\n",
       "    <tr>\n",
       "      <th>date</th>\n",
       "      <th></th>\n",
       "      <th></th>\n",
       "    </tr>\n",
       "  </thead>\n",
       "  <tbody>\n",
       "    <tr>\n",
       "      <th>2016-01-31</th>\n",
       "      <td>5.403012e+06</td>\n",
       "      <td>121.568409</td>\n",
       "    </tr>\n",
       "    <tr>\n",
       "      <th>2016-02-29</th>\n",
       "      <td>5.416562e+06</td>\n",
       "      <td>124.293927</td>\n",
       "    </tr>\n",
       "    <tr>\n",
       "      <th>2016-03-31</th>\n",
       "      <td>5.383965e+06</td>\n",
       "      <td>128.644488</td>\n",
       "    </tr>\n",
       "    <tr>\n",
       "      <th>2016-04-30</th>\n",
       "      <td>5.244016e+06</td>\n",
       "      <td>135.097005</td>\n",
       "    </tr>\n",
       "    <tr>\n",
       "      <th>2016-05-31</th>\n",
       "      <td>5.234380e+06</td>\n",
       "      <td>139.538183</td>\n",
       "    </tr>\n",
       "    <tr>\n",
       "      <th>2016-06-30</th>\n",
       "      <td>5.170853e+06</td>\n",
       "      <td>147.473137</td>\n",
       "    </tr>\n",
       "    <tr>\n",
       "      <th>2016-07-31</th>\n",
       "      <td>5.200952e+06</td>\n",
       "      <td>152.094150</td>\n",
       "    </tr>\n",
       "    <tr>\n",
       "      <th>2016-08-31</th>\n",
       "      <td>5.240480e+06</td>\n",
       "      <td>150.656594</td>\n",
       "    </tr>\n",
       "    <tr>\n",
       "      <th>2016-09-30</th>\n",
       "      <td>5.279361e+06</td>\n",
       "      <td>143.255949</td>\n",
       "    </tr>\n",
       "    <tr>\n",
       "      <th>2016-10-31</th>\n",
       "      <td>5.310734e+06</td>\n",
       "      <td>137.031939</td>\n",
       "    </tr>\n",
       "    <tr>\n",
       "      <th>2016-11-30</th>\n",
       "      <td>5.349253e+06</td>\n",
       "      <td>135.688738</td>\n",
       "    </tr>\n",
       "    <tr>\n",
       "      <th>2016-12-31</th>\n",
       "      <td>5.421078e+06</td>\n",
       "      <td>137.251835</td>\n",
       "    </tr>\n",
       "    <tr>\n",
       "      <th>2017-01-31</th>\n",
       "      <td>5.471252e+06</td>\n",
       "      <td>136.882590</td>\n",
       "    </tr>\n",
       "  </tbody>\n",
       "</table>\n",
       "</div>"
      ],
      "text/plain": [
       "              listing_id       price\n",
       "date                                \n",
       "2016-01-31  5.403012e+06  121.568409\n",
       "2016-02-29  5.416562e+06  124.293927\n",
       "2016-03-31  5.383965e+06  128.644488\n",
       "2016-04-30  5.244016e+06  135.097005\n",
       "2016-05-31  5.234380e+06  139.538183\n",
       "2016-06-30  5.170853e+06  147.473137\n",
       "2016-07-31  5.200952e+06  152.094150\n",
       "2016-08-31  5.240480e+06  150.656594\n",
       "2016-09-30  5.279361e+06  143.255949\n",
       "2016-10-31  5.310734e+06  137.031939\n",
       "2016-11-30  5.349253e+06  135.688738\n",
       "2016-12-31  5.421078e+06  137.251835\n",
       "2017-01-31  5.471252e+06  136.882590"
      ]
     },
     "execution_count": 215,
     "metadata": {},
     "output_type": "execute_result"
    }
   ],
   "source": [
    "df_Seattle_mean_price_month"
   ]
  },
  {
   "cell_type": "markdown",
   "metadata": {},
   "source": [
    "As we can see in the bar chart below, in average the priciest months are the summer months."
   ]
  },
  {
   "cell_type": "code",
   "execution_count": 216,
   "metadata": {},
   "outputs": [
    {
     "data": {
      "image/png": "[encoded data removed]",
      "text/plain": [
       "<Figure size 432x288 with 1 Axes>"
      ]
     },
     "metadata": {
      "needs_background": "light"
     },
     "output_type": "display_data"
    }
   ],
   "source": [
    "import matplotlib.pyplot as plt\n",
    "import matplotlib.dates as mdates\n",
    "\n",
    "\n",
    "#plt.gca().xaxis.set_major_formatter(mdates.DateFormatter('%m/%d/%Y'))\n",
    "#plt.gca().xaxis.set_major_locator(mdates.DayLocator())\n",
    "plt.bar(x=df_Seattle_mean_price_month.index, height=df_Seattle_mean_price_month['price'], width = 15.5)\n",
    "#plt.gcf().autofmt_xdate()\n",
    "#ax.set_xticklabels(df_Seattle_mean_price_month.index, rotation=45)\n",
    "plt.xticks(rotation=45)\n",
    "plt.title('Price Flutations averages for different Time Periods in Seattle')\n",
    "plt.xlabel('Year-Month')\n",
    "plt.ylabel('Average Price of all available listings')\n",
    "plt.show()\n"
   ]
  },
  {
   "cell_type": "markdown",
   "metadata": {},
   "source": [
    "It makes sense that the most costly months are the ones during the summer since the weather is nicer and the lowest season cold month of January has the lowest average price. "
   ]
  },
  {
   "cell_type": "markdown",
   "metadata": {},
   "source": [
    "_Price fluctuations for the Jan 2016 to Jan 2017 different neighbourhoods in Seattle_"
   ]
  },
  {
   "cell_type": "code",
   "execution_count": 217,
   "metadata": {},
   "outputs": [],
   "source": [
    "df_Seattle_merge_listings = df_Seattle_calendar.merge(df_Seattle_listings[['id','neighbourhood', 'property_type']], left_on='listing_id', right_on='id', how='left')"
   ]
  },
  {
   "cell_type": "code",
   "execution_count": 218,
   "metadata": {},
   "outputs": [],
   "source": [
    "df_Seattle_merge_listings = df_Seattle_merge_listings[df_Seattle_merge_listings['available'] == 't']"
   ]
  },
  {
   "cell_type": "code",
   "execution_count": 219,
   "metadata": {},
   "outputs": [
    {
     "data": {
      "text/html": [
       "<div>\n",
       "<style scoped>\n",
       "    .dataframe tbody tr th:only-of-type {\n",
       "        vertical-align: middle;\n",
       "    }\n",
       "\n",
       "    .dataframe tbody tr th {\n",
       "        vertical-align: top;\n",
       "    }\n",
       "\n",
       "    .dataframe thead th {\n",
       "        text-align: right;\n",
       "    }\n",
       "</style>\n",
       "<table border=\"1\" class=\"dataframe\">\n",
       "  <thead>\n",
       "    <tr style=\"text-align: right;\">\n",
       "      <th></th>\n",
       "      <th>listing_id</th>\n",
       "      <th>date</th>\n",
       "      <th>available</th>\n",
       "      <th>price</th>\n",
       "      <th>id</th>\n",
       "      <th>neighbourhood</th>\n",
       "      <th>property_type</th>\n",
       "    </tr>\n",
       "  </thead>\n",
       "  <tbody>\n",
       "    <tr>\n",
       "      <th>0</th>\n",
       "      <td>241032</td>\n",
       "      <td>2016-01-04</td>\n",
       "      <td>t</td>\n",
       "      <td>85.0</td>\n",
       "      <td>241032</td>\n",
       "      <td>Queen Anne</td>\n",
       "      <td>Apartment</td>\n",
       "    </tr>\n",
       "    <tr>\n",
       "      <th>1</th>\n",
       "      <td>241032</td>\n",
       "      <td>2016-01-05</td>\n",
       "      <td>t</td>\n",
       "      <td>85.0</td>\n",
       "      <td>241032</td>\n",
       "      <td>Queen Anne</td>\n",
       "      <td>Apartment</td>\n",
       "    </tr>\n",
       "    <tr>\n",
       "      <th>9</th>\n",
       "      <td>241032</td>\n",
       "      <td>2016-01-13</td>\n",
       "      <td>t</td>\n",
       "      <td>85.0</td>\n",
       "      <td>241032</td>\n",
       "      <td>Queen Anne</td>\n",
       "      <td>Apartment</td>\n",
       "    </tr>\n",
       "    <tr>\n",
       "      <th>10</th>\n",
       "      <td>241032</td>\n",
       "      <td>2016-01-14</td>\n",
       "      <td>t</td>\n",
       "      <td>85.0</td>\n",
       "      <td>241032</td>\n",
       "      <td>Queen Anne</td>\n",
       "      <td>Apartment</td>\n",
       "    </tr>\n",
       "    <tr>\n",
       "      <th>14</th>\n",
       "      <td>241032</td>\n",
       "      <td>2016-01-18</td>\n",
       "      <td>t</td>\n",
       "      <td>85.0</td>\n",
       "      <td>241032</td>\n",
       "      <td>Queen Anne</td>\n",
       "      <td>Apartment</td>\n",
       "    </tr>\n",
       "  </tbody>\n",
       "</table>\n",
       "</div>"
      ],
      "text/plain": [
       "    listing_id       date available  price      id neighbourhood property_type\n",
       "0       241032 2016-01-04         t   85.0  241032    Queen Anne     Apartment\n",
       "1       241032 2016-01-05         t   85.0  241032    Queen Anne     Apartment\n",
       "9       241032 2016-01-13         t   85.0  241032    Queen Anne     Apartment\n",
       "10      241032 2016-01-14         t   85.0  241032    Queen Anne     Apartment\n",
       "14      241032 2016-01-18         t   85.0  241032    Queen Anne     Apartment"
      ]
     },
     "execution_count": 219,
     "metadata": {},
     "output_type": "execute_result"
    }
   ],
   "source": [
    "df_Seattle_merge_listings.head()"
   ]
  },
  {
   "cell_type": "code",
   "execution_count": 220,
   "metadata": {},
   "outputs": [],
   "source": [
    "df_Seattle_mean_price_neighbourhood = df_Seattle_merge_listings.groupby('neighbourhood').mean()"
   ]
  },
  {
   "cell_type": "code",
   "execution_count": 221,
   "metadata": {},
   "outputs": [
    {
     "data": {
      "text/html": [
       "<div>\n",
       "<style scoped>\n",
       "    .dataframe tbody tr th:only-of-type {\n",
       "        vertical-align: middle;\n",
       "    }\n",
       "\n",
       "    .dataframe tbody tr th {\n",
       "        vertical-align: top;\n",
       "    }\n",
       "\n",
       "    .dataframe thead th {\n",
       "        text-align: right;\n",
       "    }\n",
       "</style>\n",
       "<table border=\"1\" class=\"dataframe\">\n",
       "  <thead>\n",
       "    <tr style=\"text-align: right;\">\n",
       "      <th></th>\n",
       "      <th>listing_id</th>\n",
       "      <th>price</th>\n",
       "      <th>id</th>\n",
       "    </tr>\n",
       "    <tr>\n",
       "      <th>neighbourhood</th>\n",
       "      <th></th>\n",
       "      <th></th>\n",
       "      <th></th>\n",
       "    </tr>\n",
       "  </thead>\n",
       "  <tbody>\n",
       "    <tr>\n",
       "      <th>Alki</th>\n",
       "      <td>5.373617e+06</td>\n",
       "      <td>226.410733</td>\n",
       "      <td>5.373617e+06</td>\n",
       "    </tr>\n",
       "    <tr>\n",
       "      <th>Arbor Heights</th>\n",
       "      <td>3.290610e+06</td>\n",
       "      <td>127.230769</td>\n",
       "      <td>3.290610e+06</td>\n",
       "    </tr>\n",
       "    <tr>\n",
       "      <th>Atlantic</th>\n",
       "      <td>4.858098e+06</td>\n",
       "      <td>125.779920</td>\n",
       "      <td>4.858098e+06</td>\n",
       "    </tr>\n",
       "    <tr>\n",
       "      <th>Ballard</th>\n",
       "      <td>4.810632e+06</td>\n",
       "      <td>126.249822</td>\n",
       "      <td>4.810632e+06</td>\n",
       "    </tr>\n",
       "    <tr>\n",
       "      <th>Belltown</th>\n",
       "      <td>4.901600e+06</td>\n",
       "      <td>207.985532</td>\n",
       "      <td>4.901600e+06</td>\n",
       "    </tr>\n",
       "  </tbody>\n",
       "</table>\n",
       "</div>"
      ],
      "text/plain": [
       "                 listing_id       price            id\n",
       "neighbourhood                                        \n",
       "Alki           5.373617e+06  226.410733  5.373617e+06\n",
       "Arbor Heights  3.290610e+06  127.230769  3.290610e+06\n",
       "Atlantic       4.858098e+06  125.779920  4.858098e+06\n",
       "Ballard        4.810632e+06  126.249822  4.810632e+06\n",
       "Belltown       4.901600e+06  207.985532  4.901600e+06"
      ]
     },
     "execution_count": 221,
     "metadata": {},
     "output_type": "execute_result"
    }
   ],
   "source": [
    "df_Seattle_mean_price_neighbourhood.head()"
   ]
  },
  {
   "cell_type": "code",
   "execution_count": 222,
   "metadata": {},
   "outputs": [],
   "source": [
    "df_Seattle_mean_price_neighbourhood_sorted = df_Seattle_mean_price_neighbourhood.sort_values(by='price', ascending = False)"
   ]
  },
  {
   "cell_type": "code",
   "execution_count": 223,
   "metadata": {},
   "outputs": [
    {
     "data": {
      "text/html": [
       "<div>\n",
       "<style scoped>\n",
       "    .dataframe tbody tr th:only-of-type {\n",
       "        vertical-align: middle;\n",
       "    }\n",
       "\n",
       "    .dataframe tbody tr th {\n",
       "        vertical-align: top;\n",
       "    }\n",
       "\n",
       "    .dataframe thead th {\n",
       "        text-align: right;\n",
       "    }\n",
       "</style>\n",
       "<table border=\"1\" class=\"dataframe\">\n",
       "  <thead>\n",
       "    <tr style=\"text-align: right;\">\n",
       "      <th></th>\n",
       "      <th>listing_id</th>\n",
       "      <th>price</th>\n",
       "      <th>id</th>\n",
       "    </tr>\n",
       "    <tr>\n",
       "      <th>neighbourhood</th>\n",
       "      <th></th>\n",
       "      <th></th>\n",
       "      <th></th>\n",
       "    </tr>\n",
       "  </thead>\n",
       "  <tbody>\n",
       "    <tr>\n",
       "      <th>Fairmount Park</th>\n",
       "      <td>6.920800e+05</td>\n",
       "      <td>370.000000</td>\n",
       "      <td>6.920800e+05</td>\n",
       "    </tr>\n",
       "    <tr>\n",
       "      <th>Portage Bay</th>\n",
       "      <td>5.430984e+06</td>\n",
       "      <td>250.885285</td>\n",
       "      <td>5.430984e+06</td>\n",
       "    </tr>\n",
       "    <tr>\n",
       "      <th>Industrial District</th>\n",
       "      <td>3.391297e+06</td>\n",
       "      <td>245.875441</td>\n",
       "      <td>3.391297e+06</td>\n",
       "    </tr>\n",
       "    <tr>\n",
       "      <th>Windermere</th>\n",
       "      <td>5.774818e+06</td>\n",
       "      <td>227.516092</td>\n",
       "      <td>5.774818e+06</td>\n",
       "    </tr>\n",
       "    <tr>\n",
       "      <th>Alki</th>\n",
       "      <td>5.373617e+06</td>\n",
       "      <td>226.410733</td>\n",
       "      <td>5.373617e+06</td>\n",
       "    </tr>\n",
       "    <tr>\n",
       "      <th>...</th>\n",
       "      <td>...</td>\n",
       "      <td>...</td>\n",
       "      <td>...</td>\n",
       "    </tr>\n",
       "    <tr>\n",
       "      <th>Holly Park</th>\n",
       "      <td>6.124913e+06</td>\n",
       "      <td>78.184594</td>\n",
       "      <td>6.124913e+06</td>\n",
       "    </tr>\n",
       "    <tr>\n",
       "      <th>Georgetown</th>\n",
       "      <td>4.109944e+06</td>\n",
       "      <td>78.025107</td>\n",
       "      <td>4.109944e+06</td>\n",
       "    </tr>\n",
       "    <tr>\n",
       "      <th>Riverview</th>\n",
       "      <td>4.137325e+06</td>\n",
       "      <td>77.346276</td>\n",
       "      <td>4.137325e+06</td>\n",
       "    </tr>\n",
       "    <tr>\n",
       "      <th>Olympic Hills</th>\n",
       "      <td>5.899044e+06</td>\n",
       "      <td>66.256790</td>\n",
       "      <td>5.899044e+06</td>\n",
       "    </tr>\n",
       "    <tr>\n",
       "      <th>Roxhill</th>\n",
       "      <td>8.194164e+06</td>\n",
       "      <td>60.000000</td>\n",
       "      <td>8.194164e+06</td>\n",
       "    </tr>\n",
       "  </tbody>\n",
       "</table>\n",
       "<p>81 rows × 3 columns</p>\n",
       "</div>"
      ],
      "text/plain": [
       "                       listing_id       price            id\n",
       "neighbourhood                                              \n",
       "Fairmount Park       6.920800e+05  370.000000  6.920800e+05\n",
       "Portage Bay          5.430984e+06  250.885285  5.430984e+06\n",
       "Industrial District  3.391297e+06  245.875441  3.391297e+06\n",
       "Windermere           5.774818e+06  227.516092  5.774818e+06\n",
       "Alki                 5.373617e+06  226.410733  5.373617e+06\n",
       "...                           ...         ...           ...\n",
       "Holly Park           6.124913e+06   78.184594  6.124913e+06\n",
       "Georgetown           4.109944e+06   78.025107  4.109944e+06\n",
       "Riverview            4.137325e+06   77.346276  4.137325e+06\n",
       "Olympic Hills        5.899044e+06   66.256790  5.899044e+06\n",
       "Roxhill              8.194164e+06   60.000000  8.194164e+06\n",
       "\n",
       "[81 rows x 3 columns]"
      ]
     },
     "execution_count": 223,
     "metadata": {},
     "output_type": "execute_result"
    }
   ],
   "source": [
    "df_Seattle_mean_price_neighbourhood_sorted"
   ]
  },
  {
   "cell_type": "code",
   "execution_count": 224,
   "metadata": {},
   "outputs": [],
   "source": [
    "df_Seattle_mean_price_neighbourhood_sorted_mt_150 = df_Seattle_mean_price_neighbourhood_sorted[df_Seattle_mean_price_neighbourhood_sorted['price'] >150]"
   ]
  },
  {
   "cell_type": "code",
   "execution_count": 225,
   "metadata": {},
   "outputs": [
    {
     "data": {
      "image/png": "[encoded data removed]",
      "text/plain": [
       "<Figure size 432x288 with 1 Axes>"
      ]
     },
     "metadata": {
      "needs_background": "light"
     },
     "output_type": "display_data"
    }
   ],
   "source": [
    "plt.bar(x=df_Seattle_mean_price_neighbourhood_sorted_mt_150.index, height=df_Seattle_mean_price_neighbourhood_sorted_mt_150['price'])\n",
    "plt.xticks(rotation=90)\n",
    "plt.title('Price Flutations averages for neighbourhoods in Seattle with average above $150')\n",
    "plt.xlabel('Neighbourhoods')\n",
    "plt.ylabel('Average Price of all available listings')\n",
    "plt.show()"
   ]
  },
  {
   "cell_type": "code",
   "execution_count": 226,
   "metadata": {},
   "outputs": [
    {
     "data": {
      "text/plain": [
       "679995    370.0\n",
       "679996    370.0\n",
       "679997    370.0\n",
       "679998    370.0\n",
       "679999    370.0\n",
       "          ...  \n",
       "680355    370.0\n",
       "680356    370.0\n",
       "680357    370.0\n",
       "680358    370.0\n",
       "680359    370.0\n",
       "Name: price, Length: 365, dtype: float64"
      ]
     },
     "execution_count": 226,
     "metadata": {},
     "output_type": "execute_result"
    }
   ],
   "source": [
    "df_Seattle_merge_listings[df_Seattle_merge_listings['neighbourhood'] == 'Fairmount Park']['price']"
   ]
  },
  {
   "cell_type": "code",
   "execution_count": 227,
   "metadata": {},
   "outputs": [
    {
     "data": {
      "text/plain": [
       "1863    $370.00\n",
       "Name: price, dtype: object"
      ]
     },
     "execution_count": 227,
     "metadata": {},
     "output_type": "execute_result"
    }
   ],
   "source": [
    "df_Seattle_listings[df_Seattle_listings['neighbourhood'] == 'Fairmount Park']['price']"
   ]
  },
  {
   "cell_type": "code",
   "execution_count": 228,
   "metadata": {},
   "outputs": [
    {
     "data": {
      "text/plain": [
       "1105    $150.00\n",
       "1115    $300.00\n",
       "2514    $120.00\n",
       "2515    $525.00\n",
       "2516     $99.00\n",
       "2517     $90.00\n",
       "2518    $750.00\n",
       "2519    $250.00\n",
       "2521    $380.00\n",
       "2522    $130.00\n",
       "2524    $257.00\n",
       "2525     $90.00\n",
       "2526    $160.00\n",
       "3814     $79.00\n",
       "Name: price, dtype: object"
      ]
     },
     "execution_count": 228,
     "metadata": {},
     "output_type": "execute_result"
    }
   ],
   "source": [
    "df_Seattle_listings[df_Seattle_listings['neighbourhood'] == 'Portage Bay']['price']"
   ]
  },
  {
   "cell_type": "markdown",
   "metadata": {},
   "source": [
    "The price for the Fairmont Park neighbourhood is the highest because as we see there is only one listings in this neighbourhood as has a price of \\$370 for all days of the year. So maybe for this analysis we have to have this in mind. We see for another neighourood, the second most costly one has several listings. "
   ]
  },
  {
   "cell_type": "markdown",
   "metadata": {},
   "source": [
    "_Price fluctuations for the different property types_"
   ]
  },
  {
   "cell_type": "code",
   "execution_count": 229,
   "metadata": {},
   "outputs": [],
   "source": [
    "df_Seattle_mean_price_property_type = df_Seattle_merge_listings.groupby('property_type').mean()"
   ]
  },
  {
   "cell_type": "code",
   "execution_count": 230,
   "metadata": {},
   "outputs": [
    {
     "data": {
      "text/html": [
       "<div>\n",
       "<style scoped>\n",
       "    .dataframe tbody tr th:only-of-type {\n",
       "        vertical-align: middle;\n",
       "    }\n",
       "\n",
       "    .dataframe tbody tr th {\n",
       "        vertical-align: top;\n",
       "    }\n",
       "\n",
       "    .dataframe thead th {\n",
       "        text-align: right;\n",
       "    }\n",
       "</style>\n",
       "<table border=\"1\" class=\"dataframe\">\n",
       "  <thead>\n",
       "    <tr style=\"text-align: right;\">\n",
       "      <th></th>\n",
       "      <th>listing_id</th>\n",
       "      <th>price</th>\n",
       "      <th>id</th>\n",
       "    </tr>\n",
       "    <tr>\n",
       "      <th>property_type</th>\n",
       "      <th></th>\n",
       "      <th></th>\n",
       "      <th></th>\n",
       "    </tr>\n",
       "  </thead>\n",
       "  <tbody>\n",
       "    <tr>\n",
       "      <th>Boat</th>\n",
       "      <td>4.424096e+06</td>\n",
       "      <td>330.618901</td>\n",
       "      <td>4.424096e+06</td>\n",
       "    </tr>\n",
       "    <tr>\n",
       "      <th>Condominium</th>\n",
       "      <td>7.537962e+06</td>\n",
       "      <td>169.646416</td>\n",
       "      <td>7.537962e+06</td>\n",
       "    </tr>\n",
       "    <tr>\n",
       "      <th>Apartment</th>\n",
       "      <td>5.476826e+06</td>\n",
       "      <td>139.285106</td>\n",
       "      <td>5.476826e+06</td>\n",
       "    </tr>\n",
       "    <tr>\n",
       "      <th>House</th>\n",
       "      <td>4.941563e+06</td>\n",
       "      <td>136.627935</td>\n",
       "      <td>4.941563e+06</td>\n",
       "    </tr>\n",
       "    <tr>\n",
       "      <th>Loft</th>\n",
       "      <td>5.529949e+06</td>\n",
       "      <td>133.465979</td>\n",
       "      <td>5.529949e+06</td>\n",
       "    </tr>\n",
       "    <tr>\n",
       "      <th>Townhouse</th>\n",
       "      <td>7.240591e+06</td>\n",
       "      <td>133.011563</td>\n",
       "      <td>7.240591e+06</td>\n",
       "    </tr>\n",
       "    <tr>\n",
       "      <th>Camper/RV</th>\n",
       "      <td>5.817348e+06</td>\n",
       "      <td>126.931055</td>\n",
       "      <td>5.817348e+06</td>\n",
       "    </tr>\n",
       "    <tr>\n",
       "      <th>Bungalow</th>\n",
       "      <td>8.278973e+06</td>\n",
       "      <td>124.330813</td>\n",
       "      <td>8.278973e+06</td>\n",
       "    </tr>\n",
       "    <tr>\n",
       "      <th>Bed &amp; Breakfast</th>\n",
       "      <td>5.512862e+06</td>\n",
       "      <td>116.048976</td>\n",
       "      <td>5.512862e+06</td>\n",
       "    </tr>\n",
       "    <tr>\n",
       "      <th>Cabin</th>\n",
       "      <td>2.743640e+06</td>\n",
       "      <td>114.292208</td>\n",
       "      <td>2.743640e+06</td>\n",
       "    </tr>\n",
       "    <tr>\n",
       "      <th>Other</th>\n",
       "      <td>4.413686e+06</td>\n",
       "      <td>106.402906</td>\n",
       "      <td>4.413686e+06</td>\n",
       "    </tr>\n",
       "    <tr>\n",
       "      <th>Yurt</th>\n",
       "      <td>7.563243e+06</td>\n",
       "      <td>105.423729</td>\n",
       "      <td>7.563243e+06</td>\n",
       "    </tr>\n",
       "    <tr>\n",
       "      <th>Chalet</th>\n",
       "      <td>5.524455e+05</td>\n",
       "      <td>93.509009</td>\n",
       "      <td>5.524455e+05</td>\n",
       "    </tr>\n",
       "    <tr>\n",
       "      <th>Treehouse</th>\n",
       "      <td>7.033763e+06</td>\n",
       "      <td>64.346211</td>\n",
       "      <td>7.033763e+06</td>\n",
       "    </tr>\n",
       "    <tr>\n",
       "      <th>Tent</th>\n",
       "      <td>7.269693e+06</td>\n",
       "      <td>57.540046</td>\n",
       "      <td>7.269693e+06</td>\n",
       "    </tr>\n",
       "    <tr>\n",
       "      <th>Dorm</th>\n",
       "      <td>6.532558e+06</td>\n",
       "      <td>39.384977</td>\n",
       "      <td>6.532558e+06</td>\n",
       "    </tr>\n",
       "  </tbody>\n",
       "</table>\n",
       "</div>"
      ],
      "text/plain": [
       "                   listing_id       price            id\n",
       "property_type                                          \n",
       "Boat             4.424096e+06  330.618901  4.424096e+06\n",
       "Condominium      7.537962e+06  169.646416  7.537962e+06\n",
       "Apartment        5.476826e+06  139.285106  5.476826e+06\n",
       "House            4.941563e+06  136.627935  4.941563e+06\n",
       "Loft             5.529949e+06  133.465979  5.529949e+06\n",
       "Townhouse        7.240591e+06  133.011563  7.240591e+06\n",
       "Camper/RV        5.817348e+06  126.931055  5.817348e+06\n",
       "Bungalow         8.278973e+06  124.330813  8.278973e+06\n",
       "Bed & Breakfast  5.512862e+06  116.048976  5.512862e+06\n",
       "Cabin            2.743640e+06  114.292208  2.743640e+06\n",
       "Other            4.413686e+06  106.402906  4.413686e+06\n",
       "Yurt             7.563243e+06  105.423729  7.563243e+06\n",
       "Chalet           5.524455e+05   93.509009  5.524455e+05\n",
       "Treehouse        7.033763e+06   64.346211  7.033763e+06\n",
       "Tent             7.269693e+06   57.540046  7.269693e+06\n",
       "Dorm             6.532558e+06   39.384977  6.532558e+06"
      ]
     },
     "execution_count": 230,
     "metadata": {},
     "output_type": "execute_result"
    }
   ],
   "source": [
    "df_Seattle_mean_price_property_type_sorted = df_Seattle_mean_price_property_type.sort_values(by='price', ascending = False)\n",
    "df_Seattle_mean_price_property_type_sorted"
   ]
  },
  {
   "cell_type": "code",
   "execution_count": 231,
   "metadata": {},
   "outputs": [
    {
     "data": {
      "image/png": "[encoded data removed]",
      "text/plain": [
       "<Figure size 432x288 with 1 Axes>"
      ]
     },
     "metadata": {
      "needs_background": "light"
     },
     "output_type": "display_data"
    }
   ],
   "source": [
    "plt.bar(x=df_Seattle_mean_price_property_type_sorted.index, height=df_Seattle_mean_price_property_type_sorted['price'])\n",
    "plt.xticks(rotation=90)\n",
    "plt.title('Price Flutations averages for different propoerty types in Seattle')\n",
    "plt.xlabel('Property types')\n",
    "plt.ylabel('Average Price of all available listings')\n",
    "plt.show()"
   ]
  },
  {
   "cell_type": "markdown",
   "metadata": {},
   "source": [
    "As we saw before that apartment and house are the property types that dominate the listings on Airbnb however the boat property type has the largest average of price."
   ]
  },
  {
   "cell_type": "code",
   "execution_count": 232,
   "metadata": {},
   "outputs": [
    {
     "data": {
      "text/html": [
       "<div>\n",
       "<style scoped>\n",
       "    .dataframe tbody tr th:only-of-type {\n",
       "        vertical-align: middle;\n",
       "    }\n",
       "\n",
       "    .dataframe tbody tr th {\n",
       "        vertical-align: top;\n",
       "    }\n",
       "\n",
       "    .dataframe thead th {\n",
       "        text-align: right;\n",
       "    }\n",
       "</style>\n",
       "<table border=\"1\" class=\"dataframe\">\n",
       "  <thead>\n",
       "    <tr style=\"text-align: right;\">\n",
       "      <th></th>\n",
       "      <th>listing_id</th>\n",
       "      <th>date</th>\n",
       "      <th>available</th>\n",
       "      <th>price</th>\n",
       "      <th>id</th>\n",
       "      <th>neighbourhood</th>\n",
       "      <th>property_type</th>\n",
       "    </tr>\n",
       "  </thead>\n",
       "  <tbody>\n",
       "    <tr>\n",
       "      <th>0</th>\n",
       "      <td>241032</td>\n",
       "      <td>2016-01-04</td>\n",
       "      <td>t</td>\n",
       "      <td>85.0</td>\n",
       "      <td>241032</td>\n",
       "      <td>Queen Anne</td>\n",
       "      <td>Apartment</td>\n",
       "    </tr>\n",
       "    <tr>\n",
       "      <th>1</th>\n",
       "      <td>241032</td>\n",
       "      <td>2016-01-05</td>\n",
       "      <td>t</td>\n",
       "      <td>85.0</td>\n",
       "      <td>241032</td>\n",
       "      <td>Queen Anne</td>\n",
       "      <td>Apartment</td>\n",
       "    </tr>\n",
       "    <tr>\n",
       "      <th>9</th>\n",
       "      <td>241032</td>\n",
       "      <td>2016-01-13</td>\n",
       "      <td>t</td>\n",
       "      <td>85.0</td>\n",
       "      <td>241032</td>\n",
       "      <td>Queen Anne</td>\n",
       "      <td>Apartment</td>\n",
       "    </tr>\n",
       "    <tr>\n",
       "      <th>10</th>\n",
       "      <td>241032</td>\n",
       "      <td>2016-01-14</td>\n",
       "      <td>t</td>\n",
       "      <td>85.0</td>\n",
       "      <td>241032</td>\n",
       "      <td>Queen Anne</td>\n",
       "      <td>Apartment</td>\n",
       "    </tr>\n",
       "    <tr>\n",
       "      <th>14</th>\n",
       "      <td>241032</td>\n",
       "      <td>2016-01-18</td>\n",
       "      <td>t</td>\n",
       "      <td>85.0</td>\n",
       "      <td>241032</td>\n",
       "      <td>Queen Anne</td>\n",
       "      <td>Apartment</td>\n",
       "    </tr>\n",
       "  </tbody>\n",
       "</table>\n",
       "</div>"
      ],
      "text/plain": [
       "    listing_id       date available  price      id neighbourhood property_type\n",
       "0       241032 2016-01-04         t   85.0  241032    Queen Anne     Apartment\n",
       "1       241032 2016-01-05         t   85.0  241032    Queen Anne     Apartment\n",
       "9       241032 2016-01-13         t   85.0  241032    Queen Anne     Apartment\n",
       "10      241032 2016-01-14         t   85.0  241032    Queen Anne     Apartment\n",
       "14      241032 2016-01-18         t   85.0  241032    Queen Anne     Apartment"
      ]
     },
     "execution_count": 232,
     "metadata": {},
     "output_type": "execute_result"
    }
   ],
   "source": [
    "df_Seattle_merge_listings.head()"
   ]
  },
  {
   "cell_type": "markdown",
   "metadata": {},
   "source": [
    "There are in total 2275 available price entries for boat however we will see below that they belong to just 8 listings in the listings dataset."
   ]
  },
  {
   "cell_type": "code",
   "execution_count": 233,
   "metadata": {},
   "outputs": [
    {
     "data": {
      "text/plain": [
       "(2275, 7)"
      ]
     },
     "execution_count": 233,
     "metadata": {},
     "output_type": "execute_result"
    }
   ],
   "source": [
    "df_Seattle_merge_listings[df_Seattle_merge_listings['property_type'] == 'Boat'].shape"
   ]
  },
  {
   "cell_type": "code",
   "execution_count": 234,
   "metadata": {},
   "outputs": [
    {
     "data": {
      "text/plain": [
       "212      $85.00\n",
       "319     $680.00\n",
       "561     $150.00\n",
       "565     $775.00\n",
       "567     $249.00\n",
       "1917     $95.00\n",
       "3263    $150.00\n",
       "3303     $75.00\n",
       "Name: price, dtype: object"
      ]
     },
     "execution_count": 234,
     "metadata": {},
     "output_type": "execute_result"
    }
   ],
   "source": [
    "df_Seattle_listings[df_Seattle_listings['property_type'] == 'Boat']['price']"
   ]
  },
  {
   "cell_type": "markdown",
   "metadata": {},
   "source": [
    "_Combining the property type and the neighbourood information_ "
   ]
  },
  {
   "cell_type": "code",
   "execution_count": 235,
   "metadata": {},
   "outputs": [],
   "source": [
    "df_Seattle_sorted_neighbourhood_and_property_type = df_Seattle_merge_listings.groupby(['neighbourhood','property_type']).mean().sort_values('price', ascending = False)"
   ]
  },
  {
   "cell_type": "code",
   "execution_count": 236,
   "metadata": {},
   "outputs": [
    {
     "data": {
      "text/html": [
       "<div>\n",
       "<style scoped>\n",
       "    .dataframe tbody tr th:only-of-type {\n",
       "        vertical-align: middle;\n",
       "    }\n",
       "\n",
       "    .dataframe tbody tr th {\n",
       "        vertical-align: top;\n",
       "    }\n",
       "\n",
       "    .dataframe thead th {\n",
       "        text-align: right;\n",
       "    }\n",
       "</style>\n",
       "<table border=\"1\" class=\"dataframe\">\n",
       "  <thead>\n",
       "    <tr style=\"text-align: right;\">\n",
       "      <th></th>\n",
       "      <th></th>\n",
       "      <th>listing_id</th>\n",
       "      <th>price</th>\n",
       "      <th>id</th>\n",
       "    </tr>\n",
       "    <tr>\n",
       "      <th>neighbourhood</th>\n",
       "      <th>property_type</th>\n",
       "      <th></th>\n",
       "      <th></th>\n",
       "      <th></th>\n",
       "    </tr>\n",
       "  </thead>\n",
       "  <tbody>\n",
       "    <tr>\n",
       "      <th>Westlake</th>\n",
       "      <th>Boat</th>\n",
       "      <td>5.276950e+06</td>\n",
       "      <td>461.641484</td>\n",
       "      <td>5.276950e+06</td>\n",
       "    </tr>\n",
       "    <tr>\n",
       "      <th>Fairmount Park</th>\n",
       "      <th>House</th>\n",
       "      <td>6.920800e+05</td>\n",
       "      <td>370.000000</td>\n",
       "      <td>6.920800e+05</td>\n",
       "    </tr>\n",
       "    <tr>\n",
       "      <th>Minor</th>\n",
       "      <th>Loft</th>\n",
       "      <td>7.149769e+06</td>\n",
       "      <td>351.594059</td>\n",
       "      <td>7.149769e+06</td>\n",
       "    </tr>\n",
       "    <tr>\n",
       "      <th>Green Lake</th>\n",
       "      <th>Townhouse</th>\n",
       "      <td>9.868607e+06</td>\n",
       "      <td>325.000000</td>\n",
       "      <td>9.868607e+06</td>\n",
       "    </tr>\n",
       "    <tr>\n",
       "      <th>Portage Bay</th>\n",
       "      <th>House</th>\n",
       "      <td>5.176950e+06</td>\n",
       "      <td>324.379504</td>\n",
       "      <td>5.176950e+06</td>\n",
       "    </tr>\n",
       "    <tr>\n",
       "      <th>...</th>\n",
       "      <th>...</th>\n",
       "      <td>...</td>\n",
       "      <td>...</td>\n",
       "      <td>...</td>\n",
       "    </tr>\n",
       "    <tr>\n",
       "      <th>University District</th>\n",
       "      <th>Other</th>\n",
       "      <td>9.611409e+06</td>\n",
       "      <td>43.125000</td>\n",
       "      <td>9.611409e+06</td>\n",
       "    </tr>\n",
       "    <tr>\n",
       "      <th>International District</th>\n",
       "      <th>Other</th>\n",
       "      <td>5.031334e+06</td>\n",
       "      <td>41.424581</td>\n",
       "      <td>5.031334e+06</td>\n",
       "    </tr>\n",
       "    <tr>\n",
       "      <th>Haller Lake</th>\n",
       "      <th>Townhouse</th>\n",
       "      <td>9.220485e+06</td>\n",
       "      <td>40.220339</td>\n",
       "      <td>9.220485e+06</td>\n",
       "    </tr>\n",
       "    <tr>\n",
       "      <th>Pike Place Market</th>\n",
       "      <th>Dorm</th>\n",
       "      <td>6.532558e+06</td>\n",
       "      <td>39.384977</td>\n",
       "      <td>6.532558e+06</td>\n",
       "    </tr>\n",
       "    <tr>\n",
       "      <th>Greenwood</th>\n",
       "      <th>Tent</th>\n",
       "      <td>7.064681e+06</td>\n",
       "      <td>25.000000</td>\n",
       "      <td>7.064681e+06</td>\n",
       "    </tr>\n",
       "  </tbody>\n",
       "</table>\n",
       "<p>291 rows × 3 columns</p>\n",
       "</div>"
      ],
      "text/plain": [
       "                                        listing_id       price            id\n",
       "neighbourhood          property_type                                        \n",
       "Westlake               Boat           5.276950e+06  461.641484  5.276950e+06\n",
       "Fairmount Park         House          6.920800e+05  370.000000  6.920800e+05\n",
       "Minor                  Loft           7.149769e+06  351.594059  7.149769e+06\n",
       "Green Lake             Townhouse      9.868607e+06  325.000000  9.868607e+06\n",
       "Portage Bay            House          5.176950e+06  324.379504  5.176950e+06\n",
       "...                                            ...         ...           ...\n",
       "University District    Other          9.611409e+06   43.125000  9.611409e+06\n",
       "International District Other          5.031334e+06   41.424581  5.031334e+06\n",
       "Haller Lake            Townhouse      9.220485e+06   40.220339  9.220485e+06\n",
       "Pike Place Market      Dorm           6.532558e+06   39.384977  6.532558e+06\n",
       "Greenwood              Tent           7.064681e+06   25.000000  7.064681e+06\n",
       "\n",
       "[291 rows x 3 columns]"
      ]
     },
     "execution_count": 236,
     "metadata": {},
     "output_type": "execute_result"
    }
   ],
   "source": [
    "df_Seattle_sorted_neighbourhood_and_property_type"
   ]
  },
  {
   "cell_type": "markdown",
   "metadata": {},
   "source": [
    "__2)  Sentiment Analysis and Text Mining of the Reviews__"
   ]
  },
  {
   "cell_type": "markdown",
   "metadata": {},
   "source": [
    "_Identifying a quantified metric for an Airbnnb comment based on text mining_"
   ]
  },
  {
   "cell_type": "code",
   "execution_count": 237,
   "metadata": {},
   "outputs": [
    {
     "data": {
      "text/plain": [
       "(84849, 6)"
      ]
     },
     "execution_count": 237,
     "metadata": {},
     "output_type": "execute_result"
    }
   ],
   "source": [
    "df_Seattle_reviews.shape"
   ]
  },
  {
   "cell_type": "code",
   "execution_count": 238,
   "metadata": {},
   "outputs": [
    {
     "data": {
      "text/html": [
       "<div>\n",
       "<style scoped>\n",
       "    .dataframe tbody tr th:only-of-type {\n",
       "        vertical-align: middle;\n",
       "    }\n",
       "\n",
       "    .dataframe tbody tr th {\n",
       "        vertical-align: top;\n",
       "    }\n",
       "\n",
       "    .dataframe thead th {\n",
       "        text-align: right;\n",
       "    }\n",
       "</style>\n",
       "<table border=\"1\" class=\"dataframe\">\n",
       "  <thead>\n",
       "    <tr style=\"text-align: right;\">\n",
       "      <th></th>\n",
       "      <th>listing_id</th>\n",
       "      <th>id</th>\n",
       "      <th>date</th>\n",
       "      <th>reviewer_id</th>\n",
       "      <th>reviewer_name</th>\n",
       "      <th>comments</th>\n",
       "    </tr>\n",
       "  </thead>\n",
       "  <tbody>\n",
       "    <tr>\n",
       "      <th>0</th>\n",
       "      <td>7202016</td>\n",
       "      <td>38917982</td>\n",
       "      <td>2015-07-19</td>\n",
       "      <td>28943674</td>\n",
       "      <td>Bianca</td>\n",
       "      <td>Cute and cozy place. Perfect location to every...</td>\n",
       "    </tr>\n",
       "    <tr>\n",
       "      <th>1</th>\n",
       "      <td>7202016</td>\n",
       "      <td>39087409</td>\n",
       "      <td>2015-07-20</td>\n",
       "      <td>32440555</td>\n",
       "      <td>Frank</td>\n",
       "      <td>Kelly has a great room in a very central locat...</td>\n",
       "    </tr>\n",
       "    <tr>\n",
       "      <th>2</th>\n",
       "      <td>7202016</td>\n",
       "      <td>39820030</td>\n",
       "      <td>2015-07-26</td>\n",
       "      <td>37722850</td>\n",
       "      <td>Ian</td>\n",
       "      <td>Very spacious apartment, and in a great neighb...</td>\n",
       "    </tr>\n",
       "    <tr>\n",
       "      <th>3</th>\n",
       "      <td>7202016</td>\n",
       "      <td>40813543</td>\n",
       "      <td>2015-08-02</td>\n",
       "      <td>33671805</td>\n",
       "      <td>George</td>\n",
       "      <td>Close to Seattle Center and all it has to offe...</td>\n",
       "    </tr>\n",
       "    <tr>\n",
       "      <th>4</th>\n",
       "      <td>7202016</td>\n",
       "      <td>41986501</td>\n",
       "      <td>2015-08-10</td>\n",
       "      <td>34959538</td>\n",
       "      <td>Ming</td>\n",
       "      <td>Kelly was a great host and very accommodating ...</td>\n",
       "    </tr>\n",
       "  </tbody>\n",
       "</table>\n",
       "</div>"
      ],
      "text/plain": [
       "   listing_id        id        date  reviewer_id reviewer_name  \\\n",
       "0     7202016  38917982  2015-07-19     28943674        Bianca   \n",
       "1     7202016  39087409  2015-07-20     32440555         Frank   \n",
       "2     7202016  39820030  2015-07-26     37722850           Ian   \n",
       "3     7202016  40813543  2015-08-02     33671805        George   \n",
       "4     7202016  41986501  2015-08-10     34959538          Ming   \n",
       "\n",
       "                                            comments  \n",
       "0  Cute and cozy place. Perfect location to every...  \n",
       "1  Kelly has a great room in a very central locat...  \n",
       "2  Very spacious apartment, and in a great neighb...  \n",
       "3  Close to Seattle Center and all it has to offe...  \n",
       "4  Kelly was a great host and very accommodating ...  "
      ]
     },
     "execution_count": 238,
     "metadata": {},
     "output_type": "execute_result"
    }
   ],
   "source": [
    "df_Seattle_reviews.head()"
   ]
  },
  {
   "cell_type": "code",
   "execution_count": 239,
   "metadata": {},
   "outputs": [],
   "source": [
    "import nltk\n",
    "import re\n",
    "from nltk import word_tokenize, sent_tokenize\n",
    "from nltk.corpus import stopwords\n",
    "from nltk.stem import LancasterStemmer, WordNetLemmatizer, PorterStemmer\n",
    "from wordcloud import WordCloud, STOPWORDS\n",
    "from textblob import TextBlob"
   ]
  },
  {
   "cell_type": "markdown",
   "metadata": {},
   "source": [
    "We see that the comments column has string type of rows which is what we want."
   ]
  },
  {
   "cell_type": "code",
   "execution_count": 240,
   "metadata": {},
   "outputs": [
    {
     "data": {
      "text/plain": [
       "str"
      ]
     },
     "execution_count": 240,
     "metadata": {},
     "output_type": "execute_result"
    }
   ],
   "source": [
    "type(df_Seattle_reviews.loc[0,'comments'])"
   ]
  },
  {
   "cell_type": "markdown",
   "metadata": {},
   "source": [
    "We also see that there are 18 columns with null values in the comments so we remove these for our analysis in the following commands"
   ]
  },
  {
   "cell_type": "code",
   "execution_count": 241,
   "metadata": {},
   "outputs": [
    {
     "data": {
      "text/plain": [
       "18"
      ]
     },
     "execution_count": 241,
     "metadata": {},
     "output_type": "execute_result"
    }
   ],
   "source": [
    "df_Seattle_reviews['comments'].isna().sum()"
   ]
  },
  {
   "cell_type": "code",
   "execution_count": 242,
   "metadata": {},
   "outputs": [],
   "source": [
    "df_Seattle_reviews_no_nulls = df_Seattle_reviews[df_Seattle_reviews['comments'].notna()]"
   ]
  },
  {
   "cell_type": "markdown",
   "metadata": {},
   "source": [
    "Special characters are non-alphabetic and non-numeric values such as {!,@#$%^ *()~;:/<>|+_-[]?}. Dealing with numbers is straightforward but special characters can be sometimes tricky. During tokenization, special characters create their own tokens and again not helpful for any algorithm, likewise, numbers."
   ]
  },
  {
   "cell_type": "code",
   "execution_count": 243,
   "metadata": {},
   "outputs": [
    {
     "name": "stderr",
     "output_type": "stream",
     "text": [
      "C:\\Users\\RAMCHAND_N\\AppData\\Local\\Continuum\\anaconda3\\lib\\site-packages\\ipykernel_launcher.py:1: SettingWithCopyWarning: \n",
      "A value is trying to be set on a copy of a slice from a DataFrame.\n",
      "Try using .loc[row_indexer,col_indexer] = value instead\n",
      "\n",
      "See the caveats in the documentation: http://pandas.pydata.org/pandas-docs/stable/user_guide/indexing.html#returning-a-view-versus-a-copy\n",
      "  \"\"\"Entry point for launching an IPython kernel.\n"
     ]
    }
   ],
   "source": [
    "df_Seattle_reviews_no_nulls['comments_no_special_charac'] = df_Seattle_reviews['comments'].replace(r'[^\\w\\s]','', regex=True)"
   ]
  },
  {
   "cell_type": "code",
   "execution_count": 244,
   "metadata": {},
   "outputs": [
    {
     "data": {
      "text/html": [
       "<div>\n",
       "<style scoped>\n",
       "    .dataframe tbody tr th:only-of-type {\n",
       "        vertical-align: middle;\n",
       "    }\n",
       "\n",
       "    .dataframe tbody tr th {\n",
       "        vertical-align: top;\n",
       "    }\n",
       "\n",
       "    .dataframe thead th {\n",
       "        text-align: right;\n",
       "    }\n",
       "</style>\n",
       "<table border=\"1\" class=\"dataframe\">\n",
       "  <thead>\n",
       "    <tr style=\"text-align: right;\">\n",
       "      <th></th>\n",
       "      <th>listing_id</th>\n",
       "      <th>id</th>\n",
       "      <th>date</th>\n",
       "      <th>reviewer_id</th>\n",
       "      <th>reviewer_name</th>\n",
       "      <th>comments</th>\n",
       "    </tr>\n",
       "  </thead>\n",
       "  <tbody>\n",
       "    <tr>\n",
       "      <th>0</th>\n",
       "      <td>7202016</td>\n",
       "      <td>38917982</td>\n",
       "      <td>2015-07-19</td>\n",
       "      <td>28943674</td>\n",
       "      <td>Bianca</td>\n",
       "      <td>Cute and cozy place. Perfect location to every...</td>\n",
       "    </tr>\n",
       "    <tr>\n",
       "      <th>1</th>\n",
       "      <td>7202016</td>\n",
       "      <td>39087409</td>\n",
       "      <td>2015-07-20</td>\n",
       "      <td>32440555</td>\n",
       "      <td>Frank</td>\n",
       "      <td>Kelly has a great room in a very central locat...</td>\n",
       "    </tr>\n",
       "    <tr>\n",
       "      <th>2</th>\n",
       "      <td>7202016</td>\n",
       "      <td>39820030</td>\n",
       "      <td>2015-07-26</td>\n",
       "      <td>37722850</td>\n",
       "      <td>Ian</td>\n",
       "      <td>Very spacious apartment, and in a great neighb...</td>\n",
       "    </tr>\n",
       "    <tr>\n",
       "      <th>3</th>\n",
       "      <td>7202016</td>\n",
       "      <td>40813543</td>\n",
       "      <td>2015-08-02</td>\n",
       "      <td>33671805</td>\n",
       "      <td>George</td>\n",
       "      <td>Close to Seattle Center and all it has to offe...</td>\n",
       "    </tr>\n",
       "    <tr>\n",
       "      <th>4</th>\n",
       "      <td>7202016</td>\n",
       "      <td>41986501</td>\n",
       "      <td>2015-08-10</td>\n",
       "      <td>34959538</td>\n",
       "      <td>Ming</td>\n",
       "      <td>Kelly was a great host and very accommodating ...</td>\n",
       "    </tr>\n",
       "  </tbody>\n",
       "</table>\n",
       "</div>"
      ],
      "text/plain": [
       "   listing_id        id        date  reviewer_id reviewer_name  \\\n",
       "0     7202016  38917982  2015-07-19     28943674        Bianca   \n",
       "1     7202016  39087409  2015-07-20     32440555         Frank   \n",
       "2     7202016  39820030  2015-07-26     37722850           Ian   \n",
       "3     7202016  40813543  2015-08-02     33671805        George   \n",
       "4     7202016  41986501  2015-08-10     34959538          Ming   \n",
       "\n",
       "                                            comments  \n",
       "0  Cute and cozy place. Perfect location to every...  \n",
       "1  Kelly has a great room in a very central locat...  \n",
       "2  Very spacious apartment, and in a great neighb...  \n",
       "3  Close to Seattle Center and all it has to offe...  \n",
       "4  Kelly was a great host and very accommodating ...  "
      ]
     },
     "execution_count": 244,
     "metadata": {},
     "output_type": "execute_result"
    }
   ],
   "source": [
    "df_Seattle_reviews.head()"
   ]
  },
  {
   "cell_type": "code",
   "execution_count": 245,
   "metadata": {},
   "outputs": [
    {
     "data": {
      "text/plain": [
       "(84831, 7)"
      ]
     },
     "execution_count": 245,
     "metadata": {},
     "output_type": "execute_result"
    }
   ],
   "source": [
    "df_Seattle_reviews_no_nulls.shape"
   ]
  },
  {
   "cell_type": "code",
   "execution_count": 246,
   "metadata": {},
   "outputs": [
    {
     "data": {
      "text/html": [
       "<div>\n",
       "<style scoped>\n",
       "    .dataframe tbody tr th:only-of-type {\n",
       "        vertical-align: middle;\n",
       "    }\n",
       "\n",
       "    .dataframe tbody tr th {\n",
       "        vertical-align: top;\n",
       "    }\n",
       "\n",
       "    .dataframe thead th {\n",
       "        text-align: right;\n",
       "    }\n",
       "</style>\n",
       "<table border=\"1\" class=\"dataframe\">\n",
       "  <thead>\n",
       "    <tr style=\"text-align: right;\">\n",
       "      <th></th>\n",
       "      <th>listing_id</th>\n",
       "      <th>id</th>\n",
       "      <th>date</th>\n",
       "      <th>reviewer_id</th>\n",
       "      <th>reviewer_name</th>\n",
       "      <th>comments</th>\n",
       "      <th>comments_no_special_charac</th>\n",
       "    </tr>\n",
       "  </thead>\n",
       "  <tbody>\n",
       "    <tr>\n",
       "      <th>0</th>\n",
       "      <td>7202016</td>\n",
       "      <td>38917982</td>\n",
       "      <td>2015-07-19</td>\n",
       "      <td>28943674</td>\n",
       "      <td>Bianca</td>\n",
       "      <td>Cute and cozy place. Perfect location to every...</td>\n",
       "      <td>Cute and cozy place Perfect location to everyt...</td>\n",
       "    </tr>\n",
       "    <tr>\n",
       "      <th>1</th>\n",
       "      <td>7202016</td>\n",
       "      <td>39087409</td>\n",
       "      <td>2015-07-20</td>\n",
       "      <td>32440555</td>\n",
       "      <td>Frank</td>\n",
       "      <td>Kelly has a great room in a very central locat...</td>\n",
       "      <td>Kelly has a great room in a very central locat...</td>\n",
       "    </tr>\n",
       "    <tr>\n",
       "      <th>2</th>\n",
       "      <td>7202016</td>\n",
       "      <td>39820030</td>\n",
       "      <td>2015-07-26</td>\n",
       "      <td>37722850</td>\n",
       "      <td>Ian</td>\n",
       "      <td>Very spacious apartment, and in a great neighb...</td>\n",
       "      <td>Very spacious apartment and in a great neighbo...</td>\n",
       "    </tr>\n",
       "    <tr>\n",
       "      <th>3</th>\n",
       "      <td>7202016</td>\n",
       "      <td>40813543</td>\n",
       "      <td>2015-08-02</td>\n",
       "      <td>33671805</td>\n",
       "      <td>George</td>\n",
       "      <td>Close to Seattle Center and all it has to offe...</td>\n",
       "      <td>Close to Seattle Center and all it has to offe...</td>\n",
       "    </tr>\n",
       "    <tr>\n",
       "      <th>4</th>\n",
       "      <td>7202016</td>\n",
       "      <td>41986501</td>\n",
       "      <td>2015-08-10</td>\n",
       "      <td>34959538</td>\n",
       "      <td>Ming</td>\n",
       "      <td>Kelly was a great host and very accommodating ...</td>\n",
       "      <td>Kelly was a great host and very accommodating ...</td>\n",
       "    </tr>\n",
       "  </tbody>\n",
       "</table>\n",
       "</div>"
      ],
      "text/plain": [
       "   listing_id        id        date  reviewer_id reviewer_name  \\\n",
       "0     7202016  38917982  2015-07-19     28943674        Bianca   \n",
       "1     7202016  39087409  2015-07-20     32440555         Frank   \n",
       "2     7202016  39820030  2015-07-26     37722850           Ian   \n",
       "3     7202016  40813543  2015-08-02     33671805        George   \n",
       "4     7202016  41986501  2015-08-10     34959538          Ming   \n",
       "\n",
       "                                            comments  \\\n",
       "0  Cute and cozy place. Perfect location to every...   \n",
       "1  Kelly has a great room in a very central locat...   \n",
       "2  Very spacious apartment, and in a great neighb...   \n",
       "3  Close to Seattle Center and all it has to offe...   \n",
       "4  Kelly was a great host and very accommodating ...   \n",
       "\n",
       "                          comments_no_special_charac  \n",
       "0  Cute and cozy place Perfect location to everyt...  \n",
       "1  Kelly has a great room in a very central locat...  \n",
       "2  Very spacious apartment and in a great neighbo...  \n",
       "3  Close to Seattle Center and all it has to offe...  \n",
       "4  Kelly was a great host and very accommodating ...  "
      ]
     },
     "execution_count": 246,
     "metadata": {},
     "output_type": "execute_result"
    }
   ],
   "source": [
    "df_Seattle_reviews_no_nulls.head()"
   ]
  },
  {
   "cell_type": "code",
   "execution_count": 247,
   "metadata": {},
   "outputs": [
    {
     "name": "stderr",
     "output_type": "stream",
     "text": [
      "C:\\Users\\RAMCHAND_N\\AppData\\Local\\Continuum\\anaconda3\\lib\\site-packages\\ipykernel_launcher.py:2: SettingWithCopyWarning: \n",
      "A value is trying to be set on a copy of a slice from a DataFrame.\n",
      "Try using .loc[row_indexer,col_indexer] = value instead\n",
      "\n",
      "See the caveats in the documentation: http://pandas.pydata.org/pandas-docs/stable/user_guide/indexing.html#returning-a-view-versus-a-copy\n",
      "  \n"
     ]
    }
   ],
   "source": [
    "stop = stopwords.words('english')\n",
    "df_Seattle_reviews_no_nulls['comments_no_stopwords_no_special_charac'] = df_Seattle_reviews_no_nulls['comments_no_special_charac'].apply(lambda x: \" \".join(x for x in x.split() if x not in stop))"
   ]
  },
  {
   "cell_type": "code",
   "execution_count": 248,
   "metadata": {},
   "outputs": [
    {
     "data": {
      "text/html": [
       "<div>\n",
       "<style scoped>\n",
       "    .dataframe tbody tr th:only-of-type {\n",
       "        vertical-align: middle;\n",
       "    }\n",
       "\n",
       "    .dataframe tbody tr th {\n",
       "        vertical-align: top;\n",
       "    }\n",
       "\n",
       "    .dataframe thead th {\n",
       "        text-align: right;\n",
       "    }\n",
       "</style>\n",
       "<table border=\"1\" class=\"dataframe\">\n",
       "  <thead>\n",
       "    <tr style=\"text-align: right;\">\n",
       "      <th></th>\n",
       "      <th>listing_id</th>\n",
       "      <th>id</th>\n",
       "      <th>date</th>\n",
       "      <th>reviewer_id</th>\n",
       "      <th>reviewer_name</th>\n",
       "      <th>comments</th>\n",
       "      <th>comments_no_special_charac</th>\n",
       "      <th>comments_no_stopwords_no_special_charac</th>\n",
       "    </tr>\n",
       "  </thead>\n",
       "  <tbody>\n",
       "    <tr>\n",
       "      <th>0</th>\n",
       "      <td>7202016</td>\n",
       "      <td>38917982</td>\n",
       "      <td>2015-07-19</td>\n",
       "      <td>28943674</td>\n",
       "      <td>Bianca</td>\n",
       "      <td>Cute and cozy place. Perfect location to every...</td>\n",
       "      <td>Cute and cozy place Perfect location to everyt...</td>\n",
       "      <td>Cute cozy place Perfect location everything</td>\n",
       "    </tr>\n",
       "    <tr>\n",
       "      <th>1</th>\n",
       "      <td>7202016</td>\n",
       "      <td>39087409</td>\n",
       "      <td>2015-07-20</td>\n",
       "      <td>32440555</td>\n",
       "      <td>Frank</td>\n",
       "      <td>Kelly has a great room in a very central locat...</td>\n",
       "      <td>Kelly has a great room in a very central locat...</td>\n",
       "      <td>Kelly great room central location Beautiful bu...</td>\n",
       "    </tr>\n",
       "    <tr>\n",
       "      <th>2</th>\n",
       "      <td>7202016</td>\n",
       "      <td>39820030</td>\n",
       "      <td>2015-07-26</td>\n",
       "      <td>37722850</td>\n",
       "      <td>Ian</td>\n",
       "      <td>Very spacious apartment, and in a great neighb...</td>\n",
       "      <td>Very spacious apartment and in a great neighbo...</td>\n",
       "      <td>Very spacious apartment great neighborhood Thi...</td>\n",
       "    </tr>\n",
       "    <tr>\n",
       "      <th>3</th>\n",
       "      <td>7202016</td>\n",
       "      <td>40813543</td>\n",
       "      <td>2015-08-02</td>\n",
       "      <td>33671805</td>\n",
       "      <td>George</td>\n",
       "      <td>Close to Seattle Center and all it has to offe...</td>\n",
       "      <td>Close to Seattle Center and all it has to offe...</td>\n",
       "      <td>Close Seattle Center offer ballet theater muse...</td>\n",
       "    </tr>\n",
       "    <tr>\n",
       "      <th>4</th>\n",
       "      <td>7202016</td>\n",
       "      <td>41986501</td>\n",
       "      <td>2015-08-10</td>\n",
       "      <td>34959538</td>\n",
       "      <td>Ming</td>\n",
       "      <td>Kelly was a great host and very accommodating ...</td>\n",
       "      <td>Kelly was a great host and very accommodating ...</td>\n",
       "      <td>Kelly great host accommodating great neighborh...</td>\n",
       "    </tr>\n",
       "  </tbody>\n",
       "</table>\n",
       "</div>"
      ],
      "text/plain": [
       "   listing_id        id        date  reviewer_id reviewer_name  \\\n",
       "0     7202016  38917982  2015-07-19     28943674        Bianca   \n",
       "1     7202016  39087409  2015-07-20     32440555         Frank   \n",
       "2     7202016  39820030  2015-07-26     37722850           Ian   \n",
       "3     7202016  40813543  2015-08-02     33671805        George   \n",
       "4     7202016  41986501  2015-08-10     34959538          Ming   \n",
       "\n",
       "                                            comments  \\\n",
       "0  Cute and cozy place. Perfect location to every...   \n",
       "1  Kelly has a great room in a very central locat...   \n",
       "2  Very spacious apartment, and in a great neighb...   \n",
       "3  Close to Seattle Center and all it has to offe...   \n",
       "4  Kelly was a great host and very accommodating ...   \n",
       "\n",
       "                          comments_no_special_charac  \\\n",
       "0  Cute and cozy place Perfect location to everyt...   \n",
       "1  Kelly has a great room in a very central locat...   \n",
       "2  Very spacious apartment and in a great neighbo...   \n",
       "3  Close to Seattle Center and all it has to offe...   \n",
       "4  Kelly was a great host and very accommodating ...   \n",
       "\n",
       "             comments_no_stopwords_no_special_charac  \n",
       "0        Cute cozy place Perfect location everything  \n",
       "1  Kelly great room central location Beautiful bu...  \n",
       "2  Very spacious apartment great neighborhood Thi...  \n",
       "3  Close Seattle Center offer ballet theater muse...  \n",
       "4  Kelly great host accommodating great neighborh...  "
      ]
     },
     "execution_count": 248,
     "metadata": {},
     "output_type": "execute_result"
    }
   ],
   "source": [
    "df_Seattle_reviews_no_nulls.head()"
   ]
  },
  {
   "cell_type": "markdown",
   "metadata": {},
   "source": [
    "Now we conduct stemming of the words."
   ]
  },
  {
   "cell_type": "code",
   "execution_count": 249,
   "metadata": {},
   "outputs": [
    {
     "name": "stderr",
     "output_type": "stream",
     "text": [
      "C:\\Users\\RAMCHAND_N\\AppData\\Local\\Continuum\\anaconda3\\lib\\site-packages\\ipykernel_launcher.py:2: SettingWithCopyWarning: \n",
      "A value is trying to be set on a copy of a slice from a DataFrame.\n",
      "Try using .loc[row_indexer,col_indexer] = value instead\n",
      "\n",
      "See the caveats in the documentation: http://pandas.pydata.org/pandas-docs/stable/user_guide/indexing.html#returning-a-view-versus-a-copy\n",
      "  \n"
     ]
    }
   ],
   "source": [
    "st = PorterStemmer()\n",
    "df_Seattle_reviews_no_nulls['comments_no_stopwords_no_special_charac_stemmed']  = df_Seattle_reviews_no_nulls['comments_no_stopwords_no_special_charac'].apply(lambda x: \" \".join([st.stem(word) for word in x.split()]))"
   ]
  },
  {
   "cell_type": "code",
   "execution_count": 250,
   "metadata": {},
   "outputs": [
    {
     "data": {
      "text/html": [
       "<div>\n",
       "<style scoped>\n",
       "    .dataframe tbody tr th:only-of-type {\n",
       "        vertical-align: middle;\n",
       "    }\n",
       "\n",
       "    .dataframe tbody tr th {\n",
       "        vertical-align: top;\n",
       "    }\n",
       "\n",
       "    .dataframe thead th {\n",
       "        text-align: right;\n",
       "    }\n",
       "</style>\n",
       "<table border=\"1\" class=\"dataframe\">\n",
       "  <thead>\n",
       "    <tr style=\"text-align: right;\">\n",
       "      <th></th>\n",
       "      <th>listing_id</th>\n",
       "      <th>id</th>\n",
       "      <th>date</th>\n",
       "      <th>reviewer_id</th>\n",
       "      <th>reviewer_name</th>\n",
       "      <th>comments</th>\n",
       "      <th>comments_no_special_charac</th>\n",
       "      <th>comments_no_stopwords_no_special_charac</th>\n",
       "      <th>comments_no_stopwords_no_special_charac_stemmed</th>\n",
       "    </tr>\n",
       "  </thead>\n",
       "  <tbody>\n",
       "    <tr>\n",
       "      <th>0</th>\n",
       "      <td>7202016</td>\n",
       "      <td>38917982</td>\n",
       "      <td>2015-07-19</td>\n",
       "      <td>28943674</td>\n",
       "      <td>Bianca</td>\n",
       "      <td>Cute and cozy place. Perfect location to every...</td>\n",
       "      <td>Cute and cozy place Perfect location to everyt...</td>\n",
       "      <td>Cute cozy place Perfect location everything</td>\n",
       "      <td>cute cozi place perfect locat everyth</td>\n",
       "    </tr>\n",
       "    <tr>\n",
       "      <th>1</th>\n",
       "      <td>7202016</td>\n",
       "      <td>39087409</td>\n",
       "      <td>2015-07-20</td>\n",
       "      <td>32440555</td>\n",
       "      <td>Frank</td>\n",
       "      <td>Kelly has a great room in a very central locat...</td>\n",
       "      <td>Kelly has a great room in a very central locat...</td>\n",
       "      <td>Kelly great room central location Beautiful bu...</td>\n",
       "      <td>kelli great room central locat beauti build ar...</td>\n",
       "    </tr>\n",
       "    <tr>\n",
       "      <th>2</th>\n",
       "      <td>7202016</td>\n",
       "      <td>39820030</td>\n",
       "      <td>2015-07-26</td>\n",
       "      <td>37722850</td>\n",
       "      <td>Ian</td>\n",
       "      <td>Very spacious apartment, and in a great neighb...</td>\n",
       "      <td>Very spacious apartment and in a great neighbo...</td>\n",
       "      <td>Very spacious apartment great neighborhood Thi...</td>\n",
       "      <td>veri spaciou apart great neighborhood thi kind...</td>\n",
       "    </tr>\n",
       "    <tr>\n",
       "      <th>3</th>\n",
       "      <td>7202016</td>\n",
       "      <td>40813543</td>\n",
       "      <td>2015-08-02</td>\n",
       "      <td>33671805</td>\n",
       "      <td>George</td>\n",
       "      <td>Close to Seattle Center and all it has to offe...</td>\n",
       "      <td>Close to Seattle Center and all it has to offe...</td>\n",
       "      <td>Close Seattle Center offer ballet theater muse...</td>\n",
       "      <td>close seattl center offer ballet theater museu...</td>\n",
       "    </tr>\n",
       "    <tr>\n",
       "      <th>4</th>\n",
       "      <td>7202016</td>\n",
       "      <td>41986501</td>\n",
       "      <td>2015-08-10</td>\n",
       "      <td>34959538</td>\n",
       "      <td>Ming</td>\n",
       "      <td>Kelly was a great host and very accommodating ...</td>\n",
       "      <td>Kelly was a great host and very accommodating ...</td>\n",
       "      <td>Kelly great host accommodating great neighborh...</td>\n",
       "      <td>kelli great host accommod great neighborhood s...</td>\n",
       "    </tr>\n",
       "  </tbody>\n",
       "</table>\n",
       "</div>"
      ],
      "text/plain": [
       "   listing_id        id        date  reviewer_id reviewer_name  \\\n",
       "0     7202016  38917982  2015-07-19     28943674        Bianca   \n",
       "1     7202016  39087409  2015-07-20     32440555         Frank   \n",
       "2     7202016  39820030  2015-07-26     37722850           Ian   \n",
       "3     7202016  40813543  2015-08-02     33671805        George   \n",
       "4     7202016  41986501  2015-08-10     34959538          Ming   \n",
       "\n",
       "                                            comments  \\\n",
       "0  Cute and cozy place. Perfect location to every...   \n",
       "1  Kelly has a great room in a very central locat...   \n",
       "2  Very spacious apartment, and in a great neighb...   \n",
       "3  Close to Seattle Center and all it has to offe...   \n",
       "4  Kelly was a great host and very accommodating ...   \n",
       "\n",
       "                          comments_no_special_charac  \\\n",
       "0  Cute and cozy place Perfect location to everyt...   \n",
       "1  Kelly has a great room in a very central locat...   \n",
       "2  Very spacious apartment and in a great neighbo...   \n",
       "3  Close to Seattle Center and all it has to offe...   \n",
       "4  Kelly was a great host and very accommodating ...   \n",
       "\n",
       "             comments_no_stopwords_no_special_charac  \\\n",
       "0        Cute cozy place Perfect location everything   \n",
       "1  Kelly great room central location Beautiful bu...   \n",
       "2  Very spacious apartment great neighborhood Thi...   \n",
       "3  Close Seattle Center offer ballet theater muse...   \n",
       "4  Kelly great host accommodating great neighborh...   \n",
       "\n",
       "     comments_no_stopwords_no_special_charac_stemmed  \n",
       "0              cute cozi place perfect locat everyth  \n",
       "1  kelli great room central locat beauti build ar...  \n",
       "2  veri spaciou apart great neighborhood thi kind...  \n",
       "3  close seattl center offer ballet theater museu...  \n",
       "4  kelli great host accommod great neighborhood s...  "
      ]
     },
     "execution_count": 250,
     "metadata": {},
     "output_type": "execute_result"
    }
   ],
   "source": [
    "df_Seattle_reviews_no_nulls.head()"
   ]
  },
  {
   "cell_type": "markdown",
   "metadata": {},
   "source": [
    "Now we define a function that is taken from the TextBlob library in order to give a sentiment score."
   ]
  },
  {
   "cell_type": "code",
   "execution_count": 251,
   "metadata": {},
   "outputs": [],
   "source": [
    "def senti(x):\n",
    "    return TextBlob(x).sentiment  "
   ]
  },
  {
   "cell_type": "code",
   "execution_count": 252,
   "metadata": {},
   "outputs": [
    {
     "name": "stderr",
     "output_type": "stream",
     "text": [
      "C:\\Users\\RAMCHAND_N\\AppData\\Local\\Continuum\\anaconda3\\lib\\site-packages\\ipykernel_launcher.py:1: SettingWithCopyWarning: \n",
      "A value is trying to be set on a copy of a slice from a DataFrame.\n",
      "Try using .loc[row_indexer,col_indexer] = value instead\n",
      "\n",
      "See the caveats in the documentation: http://pandas.pydata.org/pandas-docs/stable/user_guide/indexing.html#returning-a-view-versus-a-copy\n",
      "  \"\"\"Entry point for launching an IPython kernel.\n"
     ]
    }
   ],
   "source": [
    "df_Seattle_reviews_no_nulls['sentiment_score'] = df_Seattle_reviews_no_nulls['comments_no_stopwords_no_special_charac_stemmed'].apply(senti)"
   ]
  },
  {
   "cell_type": "markdown",
   "metadata": {},
   "source": [
    "We realize that the sentiment scorer generates two values in the column. The first one is the polarity score which defines wheteher the comment analyzed is positive or negative with a magnitude. The second score is a subjectivity score, which is a score defining how subjective is the commment."
   ]
  },
  {
   "cell_type": "code",
   "execution_count": 253,
   "metadata": {},
   "outputs": [
    {
     "data": {
      "text/plain": [
       "(84831, 10)"
      ]
     },
     "execution_count": 253,
     "metadata": {},
     "output_type": "execute_result"
    }
   ],
   "source": [
    "df_Seattle_reviews_no_nulls.shape"
   ]
  },
  {
   "cell_type": "code",
   "execution_count": 254,
   "metadata": {},
   "outputs": [],
   "source": [
    "polarity_scores = []\n",
    "subjectivity_scores = []\n",
    "for polarity, subjectivity in df_Seattle_reviews_no_nulls.sentiment_score:\n",
    "    polarity_scores.append(polarity)\n",
    "    subjectivity_scores.append(subjectivity)"
   ]
  },
  {
   "cell_type": "code",
   "execution_count": 255,
   "metadata": {},
   "outputs": [
    {
     "name": "stdout",
     "output_type": "stream",
     "text": [
      "The total number of positive polarity scores out of a total of 84831 are 79607\n",
      "The total number of negative polarity scores out of a total of 84831 are 992\n",
      "The total number of neutral polarity scores out of a total of 84831 are 4232\n"
     ]
    }
   ],
   "source": [
    "print ('The total number of positive polarity scores out of a total of', df_Seattle_reviews_no_nulls.shape[0], 'are', sum(x > 0 for x in polarity_scores))\n",
    "print ('The total number of negative polarity scores out of a total of', df_Seattle_reviews_no_nulls.shape[0], 'are', sum(x < 0 for x in polarity_scores))\n",
    "print ('The total number of neutral polarity scores out of a total of', df_Seattle_reviews_no_nulls.shape[0], 'are', sum(x == 0 for x in polarity_scores))"
   ]
  },
  {
   "cell_type": "code",
   "execution_count": 256,
   "metadata": {},
   "outputs": [
    {
     "name": "stdout",
     "output_type": "stream",
     "text": [
      "The total number of positive subjectivity scores out of a total of 84831 are 81285\n",
      "The total number of negative subjectivity scores out of a total of 84831 are 0\n",
      "The total number of neutral subjectivity scores out of a total of 84831 are 3546\n"
     ]
    }
   ],
   "source": [
    "print ('The total number of positive subjectivity scores out of a total of', df_Seattle_reviews_no_nulls.shape[0], 'are', sum(x > 0 for x in subjectivity_scores))\n",
    "print ('The total number of negative subjectivity scores out of a total of', df_Seattle_reviews_no_nulls.shape[0], 'are', sum(x < 0 for x in subjectivity_scores))\n",
    "print ('The total number of neutral subjectivity scores out of a total of', df_Seattle_reviews_no_nulls.shape[0], 'are', sum(x == 0 for x in subjectivity_scores))"
   ]
  },
  {
   "cell_type": "code",
   "execution_count": 257,
   "metadata": {},
   "outputs": [
    {
     "name": "stderr",
     "output_type": "stream",
     "text": [
      "C:\\Users\\RAMCHAND_N\\AppData\\Local\\Continuum\\anaconda3\\lib\\site-packages\\pandas\\core\\frame.py:3509: SettingWithCopyWarning: \n",
      "A value is trying to be set on a copy of a slice from a DataFrame.\n",
      "Try using .loc[row_indexer,col_indexer] = value instead\n",
      "\n",
      "See the caveats in the documentation: http://pandas.pydata.org/pandas-docs/stable/user_guide/indexing.html#returning-a-view-versus-a-copy\n",
      "  self[k1] = value[k2]\n"
     ]
    }
   ],
   "source": [
    "df_Seattle_reviews_no_nulls[['polarity_score', 'subjectivity_score']] = pd.DataFrame(df_Seattle_reviews_no_nulls['sentiment_score'].tolist(), index = df_Seattle_reviews_no_nulls.index)"
   ]
  },
  {
   "cell_type": "code",
   "execution_count": 258,
   "metadata": {},
   "outputs": [
    {
     "data": {
      "text/html": [
       "<div>\n",
       "<style scoped>\n",
       "    .dataframe tbody tr th:only-of-type {\n",
       "        vertical-align: middle;\n",
       "    }\n",
       "\n",
       "    .dataframe tbody tr th {\n",
       "        vertical-align: top;\n",
       "    }\n",
       "\n",
       "    .dataframe thead th {\n",
       "        text-align: right;\n",
       "    }\n",
       "</style>\n",
       "<table border=\"1\" class=\"dataframe\">\n",
       "  <thead>\n",
       "    <tr style=\"text-align: right;\">\n",
       "      <th></th>\n",
       "      <th>listing_id</th>\n",
       "      <th>id</th>\n",
       "      <th>date</th>\n",
       "      <th>reviewer_id</th>\n",
       "      <th>reviewer_name</th>\n",
       "      <th>comments</th>\n",
       "      <th>comments_no_special_charac</th>\n",
       "      <th>comments_no_stopwords_no_special_charac</th>\n",
       "      <th>comments_no_stopwords_no_special_charac_stemmed</th>\n",
       "      <th>sentiment_score</th>\n",
       "      <th>polarity_score</th>\n",
       "      <th>subjectivity_score</th>\n",
       "    </tr>\n",
       "  </thead>\n",
       "  <tbody>\n",
       "    <tr>\n",
       "      <th>0</th>\n",
       "      <td>7202016</td>\n",
       "      <td>38917982</td>\n",
       "      <td>2015-07-19</td>\n",
       "      <td>28943674</td>\n",
       "      <td>Bianca</td>\n",
       "      <td>Cute and cozy place. Perfect location to every...</td>\n",
       "      <td>Cute and cozy place Perfect location to everyt...</td>\n",
       "      <td>Cute cozy place Perfect location everything</td>\n",
       "      <td>cute cozi place perfect locat everyth</td>\n",
       "      <td>(0.75, 1.0)</td>\n",
       "      <td>0.750000</td>\n",
       "      <td>1.000000</td>\n",
       "    </tr>\n",
       "    <tr>\n",
       "      <th>1</th>\n",
       "      <td>7202016</td>\n",
       "      <td>39087409</td>\n",
       "      <td>2015-07-20</td>\n",
       "      <td>32440555</td>\n",
       "      <td>Frank</td>\n",
       "      <td>Kelly has a great room in a very central locat...</td>\n",
       "      <td>Kelly has a great room in a very central locat...</td>\n",
       "      <td>Kelly great room central location Beautiful bu...</td>\n",
       "      <td>kelli great room central locat beauti build ar...</td>\n",
       "      <td>(0.22321428571428573, 0.4928571428571429)</td>\n",
       "      <td>0.223214</td>\n",
       "      <td>0.492857</td>\n",
       "    </tr>\n",
       "    <tr>\n",
       "      <th>2</th>\n",
       "      <td>7202016</td>\n",
       "      <td>39820030</td>\n",
       "      <td>2015-07-26</td>\n",
       "      <td>37722850</td>\n",
       "      <td>Ian</td>\n",
       "      <td>Very spacious apartment, and in a great neighb...</td>\n",
       "      <td>Very spacious apartment and in a great neighbo...</td>\n",
       "      <td>Very spacious apartment great neighborhood Thi...</td>\n",
       "      <td>veri spaciou apart great neighborhood thi kind...</td>\n",
       "      <td>(0.7, 0.825)</td>\n",
       "      <td>0.700000</td>\n",
       "      <td>0.825000</td>\n",
       "    </tr>\n",
       "    <tr>\n",
       "      <th>3</th>\n",
       "      <td>7202016</td>\n",
       "      <td>40813543</td>\n",
       "      <td>2015-08-02</td>\n",
       "      <td>33671805</td>\n",
       "      <td>George</td>\n",
       "      <td>Close to Seattle Center and all it has to offe...</td>\n",
       "      <td>Close to Seattle Center and all it has to offe...</td>\n",
       "      <td>Close Seattle Center offer ballet theater muse...</td>\n",
       "      <td>close seattl center offer ballet theater museu...</td>\n",
       "      <td>(0.25, 0.35)</td>\n",
       "      <td>0.250000</td>\n",
       "      <td>0.350000</td>\n",
       "    </tr>\n",
       "    <tr>\n",
       "      <th>4</th>\n",
       "      <td>7202016</td>\n",
       "      <td>41986501</td>\n",
       "      <td>2015-08-10</td>\n",
       "      <td>34959538</td>\n",
       "      <td>Ming</td>\n",
       "      <td>Kelly was a great host and very accommodating ...</td>\n",
       "      <td>Kelly was a great host and very accommodating ...</td>\n",
       "      <td>Kelly great host accommodating great neighborh...</td>\n",
       "      <td>kelli great host accommod great neighborhood s...</td>\n",
       "      <td>(0.5148148148148148, 0.5518518518518518)</td>\n",
       "      <td>0.514815</td>\n",
       "      <td>0.551852</td>\n",
       "    </tr>\n",
       "  </tbody>\n",
       "</table>\n",
       "</div>"
      ],
      "text/plain": [
       "   listing_id        id        date  reviewer_id reviewer_name  \\\n",
       "0     7202016  38917982  2015-07-19     28943674        Bianca   \n",
       "1     7202016  39087409  2015-07-20     32440555         Frank   \n",
       "2     7202016  39820030  2015-07-26     37722850           Ian   \n",
       "3     7202016  40813543  2015-08-02     33671805        George   \n",
       "4     7202016  41986501  2015-08-10     34959538          Ming   \n",
       "\n",
       "                                            comments  \\\n",
       "0  Cute and cozy place. Perfect location to every...   \n",
       "1  Kelly has a great room in a very central locat...   \n",
       "2  Very spacious apartment, and in a great neighb...   \n",
       "3  Close to Seattle Center and all it has to offe...   \n",
       "4  Kelly was a great host and very accommodating ...   \n",
       "\n",
       "                          comments_no_special_charac  \\\n",
       "0  Cute and cozy place Perfect location to everyt...   \n",
       "1  Kelly has a great room in a very central locat...   \n",
       "2  Very spacious apartment and in a great neighbo...   \n",
       "3  Close to Seattle Center and all it has to offe...   \n",
       "4  Kelly was a great host and very accommodating ...   \n",
       "\n",
       "             comments_no_stopwords_no_special_charac  \\\n",
       "0        Cute cozy place Perfect location everything   \n",
       "1  Kelly great room central location Beautiful bu...   \n",
       "2  Very spacious apartment great neighborhood Thi...   \n",
       "3  Close Seattle Center offer ballet theater muse...   \n",
       "4  Kelly great host accommodating great neighborh...   \n",
       "\n",
       "     comments_no_stopwords_no_special_charac_stemmed  \\\n",
       "0              cute cozi place perfect locat everyth   \n",
       "1  kelli great room central locat beauti build ar...   \n",
       "2  veri spaciou apart great neighborhood thi kind...   \n",
       "3  close seattl center offer ballet theater museu...   \n",
       "4  kelli great host accommod great neighborhood s...   \n",
       "\n",
       "                             sentiment_score  polarity_score  \\\n",
       "0                                (0.75, 1.0)        0.750000   \n",
       "1  (0.22321428571428573, 0.4928571428571429)        0.223214   \n",
       "2                               (0.7, 0.825)        0.700000   \n",
       "3                               (0.25, 0.35)        0.250000   \n",
       "4   (0.5148148148148148, 0.5518518518518518)        0.514815   \n",
       "\n",
       "   subjectivity_score  \n",
       "0            1.000000  \n",
       "1            0.492857  \n",
       "2            0.825000  \n",
       "3            0.350000  \n",
       "4            0.551852  "
      ]
     },
     "execution_count": 258,
     "metadata": {},
     "output_type": "execute_result"
    }
   ],
   "source": [
    "df_Seattle_reviews_no_nulls.head()"
   ]
  },
  {
   "cell_type": "markdown",
   "metadata": {},
   "source": [
    "_What is the relationship between reviews and neihbourhoods_"
   ]
  },
  {
   "cell_type": "markdown",
   "metadata": {},
   "source": [
    "Lets merge the listings dataframe to have the neighbourood for each "
   ]
  },
  {
   "cell_type": "code",
   "execution_count": 259,
   "metadata": {},
   "outputs": [
    {
     "data": {
      "text/html": [
       "<div>\n",
       "<style scoped>\n",
       "    .dataframe tbody tr th:only-of-type {\n",
       "        vertical-align: middle;\n",
       "    }\n",
       "\n",
       "    .dataframe tbody tr th {\n",
       "        vertical-align: top;\n",
       "    }\n",
       "\n",
       "    .dataframe thead th {\n",
       "        text-align: right;\n",
       "    }\n",
       "</style>\n",
       "<table border=\"1\" class=\"dataframe\">\n",
       "  <thead>\n",
       "    <tr style=\"text-align: right;\">\n",
       "      <th></th>\n",
       "      <th>id</th>\n",
       "      <th>listing_url</th>\n",
       "      <th>scrape_id</th>\n",
       "      <th>last_scraped</th>\n",
       "      <th>name</th>\n",
       "      <th>summary</th>\n",
       "      <th>space</th>\n",
       "      <th>description</th>\n",
       "      <th>experiences_offered</th>\n",
       "      <th>neighborhood_overview</th>\n",
       "      <th>...</th>\n",
       "      <th>review_scores_value</th>\n",
       "      <th>requires_license</th>\n",
       "      <th>license</th>\n",
       "      <th>jurisdiction_names</th>\n",
       "      <th>instant_bookable</th>\n",
       "      <th>cancellation_policy</th>\n",
       "      <th>require_guest_profile_picture</th>\n",
       "      <th>require_guest_phone_verification</th>\n",
       "      <th>calculated_host_listings_count</th>\n",
       "      <th>reviews_per_month</th>\n",
       "    </tr>\n",
       "  </thead>\n",
       "  <tbody>\n",
       "    <tr>\n",
       "      <th>0</th>\n",
       "      <td>241032</td>\n",
       "      <td>https://www.airbnb.com/rooms/241032</td>\n",
       "      <td>20160104002432</td>\n",
       "      <td>2016-01-04</td>\n",
       "      <td>Stylish Queen Anne Apartment</td>\n",
       "      <td>NaN</td>\n",
       "      <td>Make your self at home in this charming one-be...</td>\n",
       "      <td>Make your self at home in this charming one-be...</td>\n",
       "      <td>none</td>\n",
       "      <td>NaN</td>\n",
       "      <td>...</td>\n",
       "      <td>10.0</td>\n",
       "      <td>f</td>\n",
       "      <td>NaN</td>\n",
       "      <td>WASHINGTON</td>\n",
       "      <td>f</td>\n",
       "      <td>moderate</td>\n",
       "      <td>f</td>\n",
       "      <td>f</td>\n",
       "      <td>2</td>\n",
       "      <td>4.07</td>\n",
       "    </tr>\n",
       "    <tr>\n",
       "      <th>1</th>\n",
       "      <td>953595</td>\n",
       "      <td>https://www.airbnb.com/rooms/953595</td>\n",
       "      <td>20160104002432</td>\n",
       "      <td>2016-01-04</td>\n",
       "      <td>Bright &amp; Airy Queen Anne Apartment</td>\n",
       "      <td>Chemically sensitive? We've removed the irrita...</td>\n",
       "      <td>Beautiful, hypoallergenic apartment in an extr...</td>\n",
       "      <td>Chemically sensitive? We've removed the irrita...</td>\n",
       "      <td>none</td>\n",
       "      <td>Queen Anne is a wonderful, truly functional vi...</td>\n",
       "      <td>...</td>\n",
       "      <td>10.0</td>\n",
       "      <td>f</td>\n",
       "      <td>NaN</td>\n",
       "      <td>WASHINGTON</td>\n",
       "      <td>f</td>\n",
       "      <td>strict</td>\n",
       "      <td>t</td>\n",
       "      <td>t</td>\n",
       "      <td>6</td>\n",
       "      <td>1.48</td>\n",
       "    </tr>\n",
       "    <tr>\n",
       "      <th>2</th>\n",
       "      <td>3308979</td>\n",
       "      <td>https://www.airbnb.com/rooms/3308979</td>\n",
       "      <td>20160104002432</td>\n",
       "      <td>2016-01-04</td>\n",
       "      <td>New Modern House-Amazing water view</td>\n",
       "      <td>New modern house built in 2013.  Spectacular s...</td>\n",
       "      <td>Our house is modern, light and fresh with a wa...</td>\n",
       "      <td>New modern house built in 2013.  Spectacular s...</td>\n",
       "      <td>none</td>\n",
       "      <td>Upper Queen Anne is a charming neighborhood fu...</td>\n",
       "      <td>...</td>\n",
       "      <td>10.0</td>\n",
       "      <td>f</td>\n",
       "      <td>NaN</td>\n",
       "      <td>WASHINGTON</td>\n",
       "      <td>f</td>\n",
       "      <td>strict</td>\n",
       "      <td>f</td>\n",
       "      <td>f</td>\n",
       "      <td>2</td>\n",
       "      <td>1.15</td>\n",
       "    </tr>\n",
       "    <tr>\n",
       "      <th>3</th>\n",
       "      <td>7421966</td>\n",
       "      <td>https://www.airbnb.com/rooms/7421966</td>\n",
       "      <td>20160104002432</td>\n",
       "      <td>2016-01-04</td>\n",
       "      <td>Queen Anne Chateau</td>\n",
       "      <td>A charming apartment that sits atop Queen Anne...</td>\n",
       "      <td>NaN</td>\n",
       "      <td>A charming apartment that sits atop Queen Anne...</td>\n",
       "      <td>none</td>\n",
       "      <td>NaN</td>\n",
       "      <td>...</td>\n",
       "      <td>NaN</td>\n",
       "      <td>f</td>\n",
       "      <td>NaN</td>\n",
       "      <td>WASHINGTON</td>\n",
       "      <td>f</td>\n",
       "      <td>flexible</td>\n",
       "      <td>f</td>\n",
       "      <td>f</td>\n",
       "      <td>1</td>\n",
       "      <td>NaN</td>\n",
       "    </tr>\n",
       "    <tr>\n",
       "      <th>4</th>\n",
       "      <td>278830</td>\n",
       "      <td>https://www.airbnb.com/rooms/278830</td>\n",
       "      <td>20160104002432</td>\n",
       "      <td>2016-01-04</td>\n",
       "      <td>Charming craftsman 3 bdm house</td>\n",
       "      <td>Cozy family craftman house in beautiful neighb...</td>\n",
       "      <td>Cozy family craftman house in beautiful neighb...</td>\n",
       "      <td>Cozy family craftman house in beautiful neighb...</td>\n",
       "      <td>none</td>\n",
       "      <td>We are in the beautiful neighborhood of Queen ...</td>\n",
       "      <td>...</td>\n",
       "      <td>9.0</td>\n",
       "      <td>f</td>\n",
       "      <td>NaN</td>\n",
       "      <td>WASHINGTON</td>\n",
       "      <td>f</td>\n",
       "      <td>strict</td>\n",
       "      <td>f</td>\n",
       "      <td>f</td>\n",
       "      <td>1</td>\n",
       "      <td>0.89</td>\n",
       "    </tr>\n",
       "    <tr>\n",
       "      <th>...</th>\n",
       "      <td>...</td>\n",
       "      <td>...</td>\n",
       "      <td>...</td>\n",
       "      <td>...</td>\n",
       "      <td>...</td>\n",
       "      <td>...</td>\n",
       "      <td>...</td>\n",
       "      <td>...</td>\n",
       "      <td>...</td>\n",
       "      <td>...</td>\n",
       "      <td>...</td>\n",
       "      <td>...</td>\n",
       "      <td>...</td>\n",
       "      <td>...</td>\n",
       "      <td>...</td>\n",
       "      <td>...</td>\n",
       "      <td>...</td>\n",
       "      <td>...</td>\n",
       "      <td>...</td>\n",
       "      <td>...</td>\n",
       "      <td>...</td>\n",
       "    </tr>\n",
       "    <tr>\n",
       "      <th>3813</th>\n",
       "      <td>8101950</td>\n",
       "      <td>https://www.airbnb.com/rooms/8101950</td>\n",
       "      <td>20160104002432</td>\n",
       "      <td>2016-01-04</td>\n",
       "      <td>3BR Mountain View House in Seattle</td>\n",
       "      <td>Our 3BR/2BA house boasts incredible views of t...</td>\n",
       "      <td>Our 3BR/2BA house bright, stylish, and wheelch...</td>\n",
       "      <td>Our 3BR/2BA house boasts incredible views of t...</td>\n",
       "      <td>none</td>\n",
       "      <td>We're located near lots of family fun. Woodlan...</td>\n",
       "      <td>...</td>\n",
       "      <td>8.0</td>\n",
       "      <td>f</td>\n",
       "      <td>NaN</td>\n",
       "      <td>WASHINGTON</td>\n",
       "      <td>f</td>\n",
       "      <td>strict</td>\n",
       "      <td>f</td>\n",
       "      <td>f</td>\n",
       "      <td>8</td>\n",
       "      <td>0.30</td>\n",
       "    </tr>\n",
       "    <tr>\n",
       "      <th>3814</th>\n",
       "      <td>8902327</td>\n",
       "      <td>https://www.airbnb.com/rooms/8902327</td>\n",
       "      <td>20160104002432</td>\n",
       "      <td>2016-01-04</td>\n",
       "      <td>Portage Bay View!-One Bedroom Apt</td>\n",
       "      <td>800 square foot 1 bedroom basement apartment w...</td>\n",
       "      <td>This space has a great view of Portage Bay wit...</td>\n",
       "      <td>800 square foot 1 bedroom basement apartment w...</td>\n",
       "      <td>none</td>\n",
       "      <td>The neighborhood is a quiet oasis that is clos...</td>\n",
       "      <td>...</td>\n",
       "      <td>10.0</td>\n",
       "      <td>f</td>\n",
       "      <td>NaN</td>\n",
       "      <td>WASHINGTON</td>\n",
       "      <td>f</td>\n",
       "      <td>moderate</td>\n",
       "      <td>f</td>\n",
       "      <td>f</td>\n",
       "      <td>1</td>\n",
       "      <td>2.00</td>\n",
       "    </tr>\n",
       "    <tr>\n",
       "      <th>3815</th>\n",
       "      <td>10267360</td>\n",
       "      <td>https://www.airbnb.com/rooms/10267360</td>\n",
       "      <td>20160104002432</td>\n",
       "      <td>2016-01-04</td>\n",
       "      <td>Private apartment view of Lake WA</td>\n",
       "      <td>Very comfortable lower unit. Quiet, charming m...</td>\n",
       "      <td>NaN</td>\n",
       "      <td>Very comfortable lower unit. Quiet, charming m...</td>\n",
       "      <td>none</td>\n",
       "      <td>NaN</td>\n",
       "      <td>...</td>\n",
       "      <td>NaN</td>\n",
       "      <td>f</td>\n",
       "      <td>NaN</td>\n",
       "      <td>WASHINGTON</td>\n",
       "      <td>f</td>\n",
       "      <td>moderate</td>\n",
       "      <td>f</td>\n",
       "      <td>f</td>\n",
       "      <td>1</td>\n",
       "      <td>NaN</td>\n",
       "    </tr>\n",
       "    <tr>\n",
       "      <th>3816</th>\n",
       "      <td>9604740</td>\n",
       "      <td>https://www.airbnb.com/rooms/9604740</td>\n",
       "      <td>20160104002432</td>\n",
       "      <td>2016-01-04</td>\n",
       "      <td>Amazing View with Modern Comfort!</td>\n",
       "      <td>Cozy studio condo in the heart on Madison Park...</td>\n",
       "      <td>Fully furnished unit to accommodate most needs...</td>\n",
       "      <td>Cozy studio condo in the heart on Madison Park...</td>\n",
       "      <td>none</td>\n",
       "      <td>Madison Park offers a peaceful slow pace upsca...</td>\n",
       "      <td>...</td>\n",
       "      <td>NaN</td>\n",
       "      <td>f</td>\n",
       "      <td>NaN</td>\n",
       "      <td>WASHINGTON</td>\n",
       "      <td>f</td>\n",
       "      <td>moderate</td>\n",
       "      <td>f</td>\n",
       "      <td>f</td>\n",
       "      <td>1</td>\n",
       "      <td>NaN</td>\n",
       "    </tr>\n",
       "    <tr>\n",
       "      <th>3817</th>\n",
       "      <td>10208623</td>\n",
       "      <td>https://www.airbnb.com/rooms/10208623</td>\n",
       "      <td>20160104002432</td>\n",
       "      <td>2016-01-04</td>\n",
       "      <td>Large Lakefront Apartment</td>\n",
       "      <td>All hardwood floors, fireplace, 65\" TV with Xb...</td>\n",
       "      <td>NaN</td>\n",
       "      <td>All hardwood floors, fireplace, 65\" TV with Xb...</td>\n",
       "      <td>none</td>\n",
       "      <td>NaN</td>\n",
       "      <td>...</td>\n",
       "      <td>NaN</td>\n",
       "      <td>f</td>\n",
       "      <td>NaN</td>\n",
       "      <td>WASHINGTON</td>\n",
       "      <td>f</td>\n",
       "      <td>flexible</td>\n",
       "      <td>f</td>\n",
       "      <td>f</td>\n",
       "      <td>1</td>\n",
       "      <td>NaN</td>\n",
       "    </tr>\n",
       "  </tbody>\n",
       "</table>\n",
       "<p>3818 rows × 92 columns</p>\n",
       "</div>"
      ],
      "text/plain": [
       "            id                            listing_url       scrape_id  \\\n",
       "0       241032    https://www.airbnb.com/rooms/241032  20160104002432   \n",
       "1       953595    https://www.airbnb.com/rooms/953595  20160104002432   \n",
       "2      3308979   https://www.airbnb.com/rooms/3308979  20160104002432   \n",
       "3      7421966   https://www.airbnb.com/rooms/7421966  20160104002432   \n",
       "4       278830    https://www.airbnb.com/rooms/278830  20160104002432   \n",
       "...        ...                                    ...             ...   \n",
       "3813   8101950   https://www.airbnb.com/rooms/8101950  20160104002432   \n",
       "3814   8902327   https://www.airbnb.com/rooms/8902327  20160104002432   \n",
       "3815  10267360  https://www.airbnb.com/rooms/10267360  20160104002432   \n",
       "3816   9604740   https://www.airbnb.com/rooms/9604740  20160104002432   \n",
       "3817  10208623  https://www.airbnb.com/rooms/10208623  20160104002432   \n",
       "\n",
       "     last_scraped                                 name  \\\n",
       "0      2016-01-04         Stylish Queen Anne Apartment   \n",
       "1      2016-01-04   Bright & Airy Queen Anne Apartment   \n",
       "2      2016-01-04  New Modern House-Amazing water view   \n",
       "3      2016-01-04                   Queen Anne Chateau   \n",
       "4      2016-01-04       Charming craftsman 3 bdm house   \n",
       "...           ...                                  ...   \n",
       "3813   2016-01-04   3BR Mountain View House in Seattle   \n",
       "3814   2016-01-04    Portage Bay View!-One Bedroom Apt   \n",
       "3815   2016-01-04    Private apartment view of Lake WA   \n",
       "3816   2016-01-04    Amazing View with Modern Comfort!   \n",
       "3817   2016-01-04            Large Lakefront Apartment   \n",
       "\n",
       "                                                summary  \\\n",
       "0                                                   NaN   \n",
       "1     Chemically sensitive? We've removed the irrita...   \n",
       "2     New modern house built in 2013.  Spectacular s...   \n",
       "3     A charming apartment that sits atop Queen Anne...   \n",
       "4     Cozy family craftman house in beautiful neighb...   \n",
       "...                                                 ...   \n",
       "3813  Our 3BR/2BA house boasts incredible views of t...   \n",
       "3814  800 square foot 1 bedroom basement apartment w...   \n",
       "3815  Very comfortable lower unit. Quiet, charming m...   \n",
       "3816  Cozy studio condo in the heart on Madison Park...   \n",
       "3817  All hardwood floors, fireplace, 65\" TV with Xb...   \n",
       "\n",
       "                                                  space  \\\n",
       "0     Make your self at home in this charming one-be...   \n",
       "1     Beautiful, hypoallergenic apartment in an extr...   \n",
       "2     Our house is modern, light and fresh with a wa...   \n",
       "3                                                   NaN   \n",
       "4     Cozy family craftman house in beautiful neighb...   \n",
       "...                                                 ...   \n",
       "3813  Our 3BR/2BA house bright, stylish, and wheelch...   \n",
       "3814  This space has a great view of Portage Bay wit...   \n",
       "3815                                                NaN   \n",
       "3816  Fully furnished unit to accommodate most needs...   \n",
       "3817                                                NaN   \n",
       "\n",
       "                                            description experiences_offered  \\\n",
       "0     Make your self at home in this charming one-be...                none   \n",
       "1     Chemically sensitive? We've removed the irrita...                none   \n",
       "2     New modern house built in 2013.  Spectacular s...                none   \n",
       "3     A charming apartment that sits atop Queen Anne...                none   \n",
       "4     Cozy family craftman house in beautiful neighb...                none   \n",
       "...                                                 ...                 ...   \n",
       "3813  Our 3BR/2BA house boasts incredible views of t...                none   \n",
       "3814  800 square foot 1 bedroom basement apartment w...                none   \n",
       "3815  Very comfortable lower unit. Quiet, charming m...                none   \n",
       "3816  Cozy studio condo in the heart on Madison Park...                none   \n",
       "3817  All hardwood floors, fireplace, 65\" TV with Xb...                none   \n",
       "\n",
       "                                  neighborhood_overview  ...  \\\n",
       "0                                                   NaN  ...   \n",
       "1     Queen Anne is a wonderful, truly functional vi...  ...   \n",
       "2     Upper Queen Anne is a charming neighborhood fu...  ...   \n",
       "3                                                   NaN  ...   \n",
       "4     We are in the beautiful neighborhood of Queen ...  ...   \n",
       "...                                                 ...  ...   \n",
       "3813  We're located near lots of family fun. Woodlan...  ...   \n",
       "3814  The neighborhood is a quiet oasis that is clos...  ...   \n",
       "3815                                                NaN  ...   \n",
       "3816  Madison Park offers a peaceful slow pace upsca...  ...   \n",
       "3817                                                NaN  ...   \n",
       "\n",
       "     review_scores_value requires_license license jurisdiction_names  \\\n",
       "0                   10.0                f     NaN         WASHINGTON   \n",
       "1                   10.0                f     NaN         WASHINGTON   \n",
       "2                   10.0                f     NaN         WASHINGTON   \n",
       "3                    NaN                f     NaN         WASHINGTON   \n",
       "4                    9.0                f     NaN         WASHINGTON   \n",
       "...                  ...              ...     ...                ...   \n",
       "3813                 8.0                f     NaN         WASHINGTON   \n",
       "3814                10.0                f     NaN         WASHINGTON   \n",
       "3815                 NaN                f     NaN         WASHINGTON   \n",
       "3816                 NaN                f     NaN         WASHINGTON   \n",
       "3817                 NaN                f     NaN         WASHINGTON   \n",
       "\n",
       "     instant_bookable cancellation_policy  require_guest_profile_picture  \\\n",
       "0                   f            moderate                              f   \n",
       "1                   f              strict                              t   \n",
       "2                   f              strict                              f   \n",
       "3                   f            flexible                              f   \n",
       "4                   f              strict                              f   \n",
       "...               ...                 ...                            ...   \n",
       "3813                f              strict                              f   \n",
       "3814                f            moderate                              f   \n",
       "3815                f            moderate                              f   \n",
       "3816                f            moderate                              f   \n",
       "3817                f            flexible                              f   \n",
       "\n",
       "     require_guest_phone_verification calculated_host_listings_count  \\\n",
       "0                                   f                              2   \n",
       "1                                   t                              6   \n",
       "2                                   f                              2   \n",
       "3                                   f                              1   \n",
       "4                                   f                              1   \n",
       "...                               ...                            ...   \n",
       "3813                                f                              8   \n",
       "3814                                f                              1   \n",
       "3815                                f                              1   \n",
       "3816                                f                              1   \n",
       "3817                                f                              1   \n",
       "\n",
       "     reviews_per_month  \n",
       "0                 4.07  \n",
       "1                 1.48  \n",
       "2                 1.15  \n",
       "3                  NaN  \n",
       "4                 0.89  \n",
       "...                ...  \n",
       "3813              0.30  \n",
       "3814              2.00  \n",
       "3815               NaN  \n",
       "3816               NaN  \n",
       "3817               NaN  \n",
       "\n",
       "[3818 rows x 92 columns]"
      ]
     },
     "execution_count": 259,
     "metadata": {},
     "output_type": "execute_result"
    }
   ],
   "source": [
    "df_Seattle_listings"
   ]
  },
  {
   "cell_type": "code",
   "execution_count": 260,
   "metadata": {},
   "outputs": [],
   "source": [
    "df_Seattle_nonulls_merged = df_Seattle_reviews_no_nulls.merge(df_Seattle_listings[['id','neighbourhood', 'property_type']], left_on='listing_id', right_on='id', how='left')"
   ]
  },
  {
   "cell_type": "code",
   "execution_count": 261,
   "metadata": {},
   "outputs": [
    {
     "data": {
      "text/html": [
       "<div>\n",
       "<style scoped>\n",
       "    .dataframe tbody tr th:only-of-type {\n",
       "        vertical-align: middle;\n",
       "    }\n",
       "\n",
       "    .dataframe tbody tr th {\n",
       "        vertical-align: top;\n",
       "    }\n",
       "\n",
       "    .dataframe thead th {\n",
       "        text-align: right;\n",
       "    }\n",
       "</style>\n",
       "<table border=\"1\" class=\"dataframe\">\n",
       "  <thead>\n",
       "    <tr style=\"text-align: right;\">\n",
       "      <th></th>\n",
       "      <th>listing_id</th>\n",
       "      <th>id_x</th>\n",
       "      <th>date</th>\n",
       "      <th>reviewer_id</th>\n",
       "      <th>reviewer_name</th>\n",
       "      <th>comments</th>\n",
       "      <th>comments_no_special_charac</th>\n",
       "      <th>comments_no_stopwords_no_special_charac</th>\n",
       "      <th>comments_no_stopwords_no_special_charac_stemmed</th>\n",
       "      <th>sentiment_score</th>\n",
       "      <th>polarity_score</th>\n",
       "      <th>subjectivity_score</th>\n",
       "      <th>id_y</th>\n",
       "      <th>neighbourhood</th>\n",
       "      <th>property_type</th>\n",
       "    </tr>\n",
       "  </thead>\n",
       "  <tbody>\n",
       "    <tr>\n",
       "      <th>0</th>\n",
       "      <td>7202016</td>\n",
       "      <td>38917982</td>\n",
       "      <td>2015-07-19</td>\n",
       "      <td>28943674</td>\n",
       "      <td>Bianca</td>\n",
       "      <td>Cute and cozy place. Perfect location to every...</td>\n",
       "      <td>Cute and cozy place Perfect location to everyt...</td>\n",
       "      <td>Cute cozy place Perfect location everything</td>\n",
       "      <td>cute cozi place perfect locat everyth</td>\n",
       "      <td>(0.75, 1.0)</td>\n",
       "      <td>0.750000</td>\n",
       "      <td>1.000000</td>\n",
       "      <td>7202016</td>\n",
       "      <td>Lower Queen Anne</td>\n",
       "      <td>Apartment</td>\n",
       "    </tr>\n",
       "    <tr>\n",
       "      <th>1</th>\n",
       "      <td>7202016</td>\n",
       "      <td>39087409</td>\n",
       "      <td>2015-07-20</td>\n",
       "      <td>32440555</td>\n",
       "      <td>Frank</td>\n",
       "      <td>Kelly has a great room in a very central locat...</td>\n",
       "      <td>Kelly has a great room in a very central locat...</td>\n",
       "      <td>Kelly great room central location Beautiful bu...</td>\n",
       "      <td>kelli great room central locat beauti build ar...</td>\n",
       "      <td>(0.22321428571428573, 0.4928571428571429)</td>\n",
       "      <td>0.223214</td>\n",
       "      <td>0.492857</td>\n",
       "      <td>7202016</td>\n",
       "      <td>Lower Queen Anne</td>\n",
       "      <td>Apartment</td>\n",
       "    </tr>\n",
       "    <tr>\n",
       "      <th>2</th>\n",
       "      <td>7202016</td>\n",
       "      <td>39820030</td>\n",
       "      <td>2015-07-26</td>\n",
       "      <td>37722850</td>\n",
       "      <td>Ian</td>\n",
       "      <td>Very spacious apartment, and in a great neighb...</td>\n",
       "      <td>Very spacious apartment and in a great neighbo...</td>\n",
       "      <td>Very spacious apartment great neighborhood Thi...</td>\n",
       "      <td>veri spaciou apart great neighborhood thi kind...</td>\n",
       "      <td>(0.7, 0.825)</td>\n",
       "      <td>0.700000</td>\n",
       "      <td>0.825000</td>\n",
       "      <td>7202016</td>\n",
       "      <td>Lower Queen Anne</td>\n",
       "      <td>Apartment</td>\n",
       "    </tr>\n",
       "    <tr>\n",
       "      <th>3</th>\n",
       "      <td>7202016</td>\n",
       "      <td>40813543</td>\n",
       "      <td>2015-08-02</td>\n",
       "      <td>33671805</td>\n",
       "      <td>George</td>\n",
       "      <td>Close to Seattle Center and all it has to offe...</td>\n",
       "      <td>Close to Seattle Center and all it has to offe...</td>\n",
       "      <td>Close Seattle Center offer ballet theater muse...</td>\n",
       "      <td>close seattl center offer ballet theater museu...</td>\n",
       "      <td>(0.25, 0.35)</td>\n",
       "      <td>0.250000</td>\n",
       "      <td>0.350000</td>\n",
       "      <td>7202016</td>\n",
       "      <td>Lower Queen Anne</td>\n",
       "      <td>Apartment</td>\n",
       "    </tr>\n",
       "    <tr>\n",
       "      <th>4</th>\n",
       "      <td>7202016</td>\n",
       "      <td>41986501</td>\n",
       "      <td>2015-08-10</td>\n",
       "      <td>34959538</td>\n",
       "      <td>Ming</td>\n",
       "      <td>Kelly was a great host and very accommodating ...</td>\n",
       "      <td>Kelly was a great host and very accommodating ...</td>\n",
       "      <td>Kelly great host accommodating great neighborh...</td>\n",
       "      <td>kelli great host accommod great neighborhood s...</td>\n",
       "      <td>(0.5148148148148148, 0.5518518518518518)</td>\n",
       "      <td>0.514815</td>\n",
       "      <td>0.551852</td>\n",
       "      <td>7202016</td>\n",
       "      <td>Lower Queen Anne</td>\n",
       "      <td>Apartment</td>\n",
       "    </tr>\n",
       "  </tbody>\n",
       "</table>\n",
       "</div>"
      ],
      "text/plain": [
       "   listing_id      id_x        date  reviewer_id reviewer_name  \\\n",
       "0     7202016  38917982  2015-07-19     28943674        Bianca   \n",
       "1     7202016  39087409  2015-07-20     32440555         Frank   \n",
       "2     7202016  39820030  2015-07-26     37722850           Ian   \n",
       "3     7202016  40813543  2015-08-02     33671805        George   \n",
       "4     7202016  41986501  2015-08-10     34959538          Ming   \n",
       "\n",
       "                                            comments  \\\n",
       "0  Cute and cozy place. Perfect location to every...   \n",
       "1  Kelly has a great room in a very central locat...   \n",
       "2  Very spacious apartment, and in a great neighb...   \n",
       "3  Close to Seattle Center and all it has to offe...   \n",
       "4  Kelly was a great host and very accommodating ...   \n",
       "\n",
       "                          comments_no_special_charac  \\\n",
       "0  Cute and cozy place Perfect location to everyt...   \n",
       "1  Kelly has a great room in a very central locat...   \n",
       "2  Very spacious apartment and in a great neighbo...   \n",
       "3  Close to Seattle Center and all it has to offe...   \n",
       "4  Kelly was a great host and very accommodating ...   \n",
       "\n",
       "             comments_no_stopwords_no_special_charac  \\\n",
       "0        Cute cozy place Perfect location everything   \n",
       "1  Kelly great room central location Beautiful bu...   \n",
       "2  Very spacious apartment great neighborhood Thi...   \n",
       "3  Close Seattle Center offer ballet theater muse...   \n",
       "4  Kelly great host accommodating great neighborh...   \n",
       "\n",
       "     comments_no_stopwords_no_special_charac_stemmed  \\\n",
       "0              cute cozi place perfect locat everyth   \n",
       "1  kelli great room central locat beauti build ar...   \n",
       "2  veri spaciou apart great neighborhood thi kind...   \n",
       "3  close seattl center offer ballet theater museu...   \n",
       "4  kelli great host accommod great neighborhood s...   \n",
       "\n",
       "                             sentiment_score  polarity_score  \\\n",
       "0                                (0.75, 1.0)        0.750000   \n",
       "1  (0.22321428571428573, 0.4928571428571429)        0.223214   \n",
       "2                               (0.7, 0.825)        0.700000   \n",
       "3                               (0.25, 0.35)        0.250000   \n",
       "4   (0.5148148148148148, 0.5518518518518518)        0.514815   \n",
       "\n",
       "   subjectivity_score     id_y     neighbourhood property_type  \n",
       "0            1.000000  7202016  Lower Queen Anne     Apartment  \n",
       "1            0.492857  7202016  Lower Queen Anne     Apartment  \n",
       "2            0.825000  7202016  Lower Queen Anne     Apartment  \n",
       "3            0.350000  7202016  Lower Queen Anne     Apartment  \n",
       "4            0.551852  7202016  Lower Queen Anne     Apartment  "
      ]
     },
     "execution_count": 261,
     "metadata": {},
     "output_type": "execute_result"
    }
   ],
   "source": [
    "df_Seattle_nonulls_merged.head()"
   ]
  },
  {
   "cell_type": "markdown",
   "metadata": {},
   "source": [
    "We see there are 4658 rows without a neighbourhood and none without a property type."
   ]
  },
  {
   "cell_type": "code",
   "execution_count": 262,
   "metadata": {},
   "outputs": [
    {
     "data": {
      "text/plain": [
       "4658"
      ]
     },
     "execution_count": 262,
     "metadata": {},
     "output_type": "execute_result"
    }
   ],
   "source": [
    "df_Seattle_nonulls_merged['neighbourhood'].isnull().sum()"
   ]
  },
  {
   "cell_type": "code",
   "execution_count": 263,
   "metadata": {},
   "outputs": [
    {
     "data": {
      "text/plain": [
       "0"
      ]
     },
     "execution_count": 263,
     "metadata": {},
     "output_type": "execute_result"
    }
   ],
   "source": [
    "df_Seattle_nonulls_merged['property_type'].isnull().sum()"
   ]
  },
  {
   "cell_type": "code",
   "execution_count": 264,
   "metadata": {},
   "outputs": [],
   "source": [
    "df_Seattle_sorted_polarity_grouped_neighbourhood = df_Seattle_nonulls_merged.groupby('neighbourhood').mean()[['polarity_score','subjectivity_score']].sort_values(by='polarity_score', ascending=False)"
   ]
  },
  {
   "cell_type": "code",
   "execution_count": 265,
   "metadata": {},
   "outputs": [
    {
     "data": {
      "image/png": "[encoded data removed]",
      "text/plain": [
       "<Figure size 432x288 with 1 Axes>"
      ]
     },
     "metadata": {
      "needs_background": "light"
     },
     "output_type": "display_data"
    }
   ],
   "source": [
    "plt.bar(x=df_Seattle_sorted_polarity_grouped_neighbourhood[:15].index, height=df_Seattle_sorted_polarity_grouped_neighbourhood['polarity_score'][:15])\n",
    "plt.xticks(rotation=90)\n",
    "plt.title('Top 15 neighbourhoods with highest average of positive comments based on Polarity Score')\n",
    "plt.xlabel('Neighbourhoods')\n",
    "plt.ylabel('Average Polarity Score per neighbourhood')\n",
    "plt.show()"
   ]
  },
  {
   "cell_type": "markdown",
   "metadata": {},
   "source": [
    "We see that Broadway is the neighbourhood with the best reviews."
   ]
  },
  {
   "cell_type": "code",
   "execution_count": 266,
   "metadata": {},
   "outputs": [
    {
     "data": {
      "image/png": "[encoded data removed]",
      "text/plain": [
       "<Figure size 432x288 with 1 Axes>"
      ]
     },
     "metadata": {
      "needs_background": "light"
     },
     "output_type": "display_data"
    }
   ],
   "source": [
    "plt.bar(x=df_Seattle_sorted_polarity_grouped_neighbourhood[66:].index, height=df_Seattle_sorted_polarity_grouped_neighbourhood['polarity_score'][66:])\n",
    "plt.xticks(rotation=90)\n",
    "plt.title('Lowest 15 neighbourhoods with lowest average of positive comments based on Polarity Score')\n",
    "plt.xlabel('Neighbourhoods')\n",
    "plt.ylabel('Average Polarity Score per neighbourhood')\n",
    "plt.show()"
   ]
  },
  {
   "cell_type": "markdown",
   "metadata": {},
   "source": [
    "Despite the neighbourhood with the worst avergae showing up as Fairmount Park we will see below that it is because there is  only one automatic comment left for the only 1 listing available in Fairmount Park which is of a cancellation comment. "
   ]
  },
  {
   "cell_type": "code",
   "execution_count": 267,
   "metadata": {},
   "outputs": [
    {
     "data": {
      "text/html": [
       "<div>\n",
       "<style scoped>\n",
       "    .dataframe tbody tr th:only-of-type {\n",
       "        vertical-align: middle;\n",
       "    }\n",
       "\n",
       "    .dataframe tbody tr th {\n",
       "        vertical-align: top;\n",
       "    }\n",
       "\n",
       "    .dataframe thead th {\n",
       "        text-align: right;\n",
       "    }\n",
       "</style>\n",
       "<table border=\"1\" class=\"dataframe\">\n",
       "  <thead>\n",
       "    <tr style=\"text-align: right;\">\n",
       "      <th></th>\n",
       "      <th>listing_id</th>\n",
       "      <th>id_x</th>\n",
       "      <th>date</th>\n",
       "      <th>reviewer_id</th>\n",
       "      <th>reviewer_name</th>\n",
       "      <th>comments</th>\n",
       "      <th>comments_no_special_charac</th>\n",
       "      <th>comments_no_stopwords_no_special_charac</th>\n",
       "      <th>comments_no_stopwords_no_special_charac_stemmed</th>\n",
       "      <th>sentiment_score</th>\n",
       "      <th>polarity_score</th>\n",
       "      <th>subjectivity_score</th>\n",
       "      <th>id_y</th>\n",
       "      <th>neighbourhood</th>\n",
       "      <th>property_type</th>\n",
       "    </tr>\n",
       "  </thead>\n",
       "  <tbody>\n",
       "    <tr>\n",
       "      <th>7581</th>\n",
       "      <td>692080</td>\n",
       "      <td>25895964</td>\n",
       "      <td>2015-01-28</td>\n",
       "      <td>12059638</td>\n",
       "      <td>Skylar</td>\n",
       "      <td>The reservation was canceled 170 days before a...</td>\n",
       "      <td>The reservation was canceled 170 days before a...</td>\n",
       "      <td>The reservation canceled 170 days arrival This...</td>\n",
       "      <td>the reserv cancel 170 day arriv thi autom post</td>\n",
       "      <td>(0.0, 0.0)</td>\n",
       "      <td>0.0</td>\n",
       "      <td>0.0</td>\n",
       "      <td>692080</td>\n",
       "      <td>Fairmount Park</td>\n",
       "      <td>House</td>\n",
       "    </tr>\n",
       "  </tbody>\n",
       "</table>\n",
       "</div>"
      ],
      "text/plain": [
       "      listing_id      id_x        date  reviewer_id reviewer_name  \\\n",
       "7581      692080  25895964  2015-01-28     12059638        Skylar   \n",
       "\n",
       "                                               comments  \\\n",
       "7581  The reservation was canceled 170 days before a...   \n",
       "\n",
       "                             comments_no_special_charac  \\\n",
       "7581  The reservation was canceled 170 days before a...   \n",
       "\n",
       "                comments_no_stopwords_no_special_charac  \\\n",
       "7581  The reservation canceled 170 days arrival This...   \n",
       "\n",
       "     comments_no_stopwords_no_special_charac_stemmed sentiment_score  \\\n",
       "7581  the reserv cancel 170 day arriv thi autom post      (0.0, 0.0)   \n",
       "\n",
       "      polarity_score  subjectivity_score    id_y   neighbourhood property_type  \n",
       "7581             0.0                 0.0  692080  Fairmount Park         House  "
      ]
     },
     "execution_count": 267,
     "metadata": {},
     "output_type": "execute_result"
    }
   ],
   "source": [
    "df_Seattle_nonulls_merged[df_Seattle_nonulls_merged['neighbourhood']== 'Fairmount Park']"
   ]
  },
  {
   "cell_type": "markdown",
   "metadata": {},
   "source": [
    "_What is the relationship between reviews and property types_"
   ]
  },
  {
   "cell_type": "code",
   "execution_count": 268,
   "metadata": {},
   "outputs": [
    {
     "data": {
      "text/html": [
       "<div>\n",
       "<style scoped>\n",
       "    .dataframe tbody tr th:only-of-type {\n",
       "        vertical-align: middle;\n",
       "    }\n",
       "\n",
       "    .dataframe tbody tr th {\n",
       "        vertical-align: top;\n",
       "    }\n",
       "\n",
       "    .dataframe thead th {\n",
       "        text-align: right;\n",
       "    }\n",
       "</style>\n",
       "<table border=\"1\" class=\"dataframe\">\n",
       "  <thead>\n",
       "    <tr style=\"text-align: right;\">\n",
       "      <th></th>\n",
       "      <th>polarity_score</th>\n",
       "      <th>subjectivity_score</th>\n",
       "    </tr>\n",
       "    <tr>\n",
       "      <th>property_type</th>\n",
       "      <th></th>\n",
       "      <th></th>\n",
       "    </tr>\n",
       "  </thead>\n",
       "  <tbody>\n",
       "    <tr>\n",
       "      <th>Bungalow</th>\n",
       "      <td>0.415010</td>\n",
       "      <td>0.588299</td>\n",
       "    </tr>\n",
       "    <tr>\n",
       "      <th>Condominium</th>\n",
       "      <td>0.414421</td>\n",
       "      <td>0.581005</td>\n",
       "    </tr>\n",
       "    <tr>\n",
       "      <th>Townhouse</th>\n",
       "      <td>0.399702</td>\n",
       "      <td>0.577343</td>\n",
       "    </tr>\n",
       "    <tr>\n",
       "      <th>Apartment</th>\n",
       "      <td>0.395302</td>\n",
       "      <td>0.571481</td>\n",
       "    </tr>\n",
       "    <tr>\n",
       "      <th>Loft</th>\n",
       "      <td>0.389399</td>\n",
       "      <td>0.569563</td>\n",
       "    </tr>\n",
       "    <tr>\n",
       "      <th>House</th>\n",
       "      <td>0.383337</td>\n",
       "      <td>0.563635</td>\n",
       "    </tr>\n",
       "    <tr>\n",
       "      <th>Cabin</th>\n",
       "      <td>0.382399</td>\n",
       "      <td>0.566839</td>\n",
       "    </tr>\n",
       "    <tr>\n",
       "      <th>Tent</th>\n",
       "      <td>0.375698</td>\n",
       "      <td>0.554929</td>\n",
       "    </tr>\n",
       "    <tr>\n",
       "      <th>Other</th>\n",
       "      <td>0.368802</td>\n",
       "      <td>0.552248</td>\n",
       "    </tr>\n",
       "    <tr>\n",
       "      <th>Treehouse</th>\n",
       "      <td>0.365253</td>\n",
       "      <td>0.534120</td>\n",
       "    </tr>\n",
       "    <tr>\n",
       "      <th>Bed &amp; Breakfast</th>\n",
       "      <td>0.354915</td>\n",
       "      <td>0.532856</td>\n",
       "    </tr>\n",
       "    <tr>\n",
       "      <th>Camper/RV</th>\n",
       "      <td>0.349606</td>\n",
       "      <td>0.565405</td>\n",
       "    </tr>\n",
       "    <tr>\n",
       "      <th>Dorm</th>\n",
       "      <td>0.332274</td>\n",
       "      <td>0.506561</td>\n",
       "    </tr>\n",
       "    <tr>\n",
       "      <th>Boat</th>\n",
       "      <td>0.310165</td>\n",
       "      <td>0.463343</td>\n",
       "    </tr>\n",
       "    <tr>\n",
       "      <th>Yurt</th>\n",
       "      <td>0.294836</td>\n",
       "      <td>0.495271</td>\n",
       "    </tr>\n",
       "    <tr>\n",
       "      <th>Chalet</th>\n",
       "      <td>0.277908</td>\n",
       "      <td>0.415153</td>\n",
       "    </tr>\n",
       "  </tbody>\n",
       "</table>\n",
       "</div>"
      ],
      "text/plain": [
       "                 polarity_score  subjectivity_score\n",
       "property_type                                      \n",
       "Bungalow               0.415010            0.588299\n",
       "Condominium            0.414421            0.581005\n",
       "Townhouse              0.399702            0.577343\n",
       "Apartment              0.395302            0.571481\n",
       "Loft                   0.389399            0.569563\n",
       "House                  0.383337            0.563635\n",
       "Cabin                  0.382399            0.566839\n",
       "Tent                   0.375698            0.554929\n",
       "Other                  0.368802            0.552248\n",
       "Treehouse              0.365253            0.534120\n",
       "Bed & Breakfast        0.354915            0.532856\n",
       "Camper/RV              0.349606            0.565405\n",
       "Dorm                   0.332274            0.506561\n",
       "Boat                   0.310165            0.463343\n",
       "Yurt                   0.294836            0.495271\n",
       "Chalet                 0.277908            0.415153"
      ]
     },
     "execution_count": 268,
     "metadata": {},
     "output_type": "execute_result"
    }
   ],
   "source": [
    "df_Seattle_sorted_polarity_grouped_property_type = df_Seattle_nonulls_merged.groupby('property_type').mean()[['polarity_score','subjectivity_score']].sort_values(by='polarity_score', ascending=False)\n",
    "df_Seattle_sorted_polarity_grouped_property_type"
   ]
  },
  {
   "cell_type": "code",
   "execution_count": 269,
   "metadata": {},
   "outputs": [
    {
     "data": {
      "image/png": "[encoded data removed]",
      "text/plain": [
       "<Figure size 432x288 with 1 Axes>"
      ]
     },
     "metadata": {
      "needs_background": "light"
     },
     "output_type": "display_data"
    }
   ],
   "source": [
    "plt.bar(x=df_Seattle_sorted_polarity_grouped_property_type.index, height=df_Seattle_sorted_polarity_grouped_property_type['polarity_score'])\n",
    "plt.xticks(rotation=90)\n",
    "plt.title('Property types average of comments score based on Polarity Score')\n",
    "plt.xlabel('Property Types')\n",
    "plt.ylabel('Average Polarity Score per property type')\n",
    "plt.show()"
   ]
  },
  {
   "cell_type": "code",
   "execution_count": 270,
   "metadata": {},
   "outputs": [
    {
     "data": {
      "text/html": [
       "<div>\n",
       "<style scoped>\n",
       "    .dataframe tbody tr th:only-of-type {\n",
       "        vertical-align: middle;\n",
       "    }\n",
       "\n",
       "    .dataframe tbody tr th {\n",
       "        vertical-align: top;\n",
       "    }\n",
       "\n",
       "    .dataframe thead th {\n",
       "        text-align: right;\n",
       "    }\n",
       "</style>\n",
       "<table border=\"1\" class=\"dataframe\">\n",
       "  <thead>\n",
       "    <tr style=\"text-align: right;\">\n",
       "      <th></th>\n",
       "      <th>listing_id</th>\n",
       "      <th>id_x</th>\n",
       "      <th>date</th>\n",
       "      <th>reviewer_id</th>\n",
       "      <th>reviewer_name</th>\n",
       "      <th>comments</th>\n",
       "      <th>comments_no_special_charac</th>\n",
       "      <th>comments_no_stopwords_no_special_charac</th>\n",
       "      <th>comments_no_stopwords_no_special_charac_stemmed</th>\n",
       "      <th>sentiment_score</th>\n",
       "      <th>polarity_score</th>\n",
       "      <th>subjectivity_score</th>\n",
       "      <th>id_y</th>\n",
       "      <th>neighbourhood</th>\n",
       "      <th>property_type</th>\n",
       "    </tr>\n",
       "  </thead>\n",
       "  <tbody>\n",
       "    <tr>\n",
       "      <th>1557</th>\n",
       "      <td>7275464</td>\n",
       "      <td>38459696</td>\n",
       "      <td>2015-07-15</td>\n",
       "      <td>35664887</td>\n",
       "      <td>Jay</td>\n",
       "      <td>I just got a chance to catch up on things afte...</td>\n",
       "      <td>I just got a chance to catch up on things afte...</td>\n",
       "      <td>I got chance catch things week attending event...</td>\n",
       "      <td>I got chanc catch thing week attend event seat...</td>\n",
       "      <td>(0.2518518518518518, 0.43518518518518523)</td>\n",
       "      <td>0.251852</td>\n",
       "      <td>0.435185</td>\n",
       "      <td>7275464</td>\n",
       "      <td>Stevens</td>\n",
       "      <td>Bungalow</td>\n",
       "    </tr>\n",
       "    <tr>\n",
       "      <th>1558</th>\n",
       "      <td>7275464</td>\n",
       "      <td>38663857</td>\n",
       "      <td>2015-07-17</td>\n",
       "      <td>30851696</td>\n",
       "      <td>David</td>\n",
       "      <td>Great little studio in a quiet neighborhood. V...</td>\n",
       "      <td>Great little studio in a quiet neighborhood Ve...</td>\n",
       "      <td>Great little studio quiet neighborhood Very ni...</td>\n",
       "      <td>great littl studio quiet neighborhood veri nic...</td>\n",
       "      <td>(0.39999999999999997, 0.5958333333333332)</td>\n",
       "      <td>0.400000</td>\n",
       "      <td>0.595833</td>\n",
       "      <td>7275464</td>\n",
       "      <td>Stevens</td>\n",
       "      <td>Bungalow</td>\n",
       "    </tr>\n",
       "    <tr>\n",
       "      <th>1559</th>\n",
       "      <td>7275464</td>\n",
       "      <td>44147216</td>\n",
       "      <td>2015-08-24</td>\n",
       "      <td>501330</td>\n",
       "      <td>Aaron</td>\n",
       "      <td>Perfect visit to Seattle. The Studio is lovely...</td>\n",
       "      <td>Perfect visit to Seattle The Studio is lovely ...</td>\n",
       "      <td>Perfect visit Seattle The Studio lovely bright...</td>\n",
       "      <td>perfect visit seattl the studio love bright cl...</td>\n",
       "      <td>(0.6666666666666666, 0.8142857142857142)</td>\n",
       "      <td>0.666667</td>\n",
       "      <td>0.814286</td>\n",
       "      <td>7275464</td>\n",
       "      <td>Stevens</td>\n",
       "      <td>Bungalow</td>\n",
       "    </tr>\n",
       "    <tr>\n",
       "      <th>1560</th>\n",
       "      <td>7275464</td>\n",
       "      <td>45293371</td>\n",
       "      <td>2015-09-01</td>\n",
       "      <td>29702757</td>\n",
       "      <td>Brian</td>\n",
       "      <td>Great little studio super close to downtown.  ...</td>\n",
       "      <td>Great little studio super close to downtown  L...</td>\n",
       "      <td>Great little studio super close downtown Loved...</td>\n",
       "      <td>great littl studio super close downtown love c...</td>\n",
       "      <td>(0.3466666666666666, 0.7233333333333334)</td>\n",
       "      <td>0.346667</td>\n",
       "      <td>0.723333</td>\n",
       "      <td>7275464</td>\n",
       "      <td>Stevens</td>\n",
       "      <td>Bungalow</td>\n",
       "    </tr>\n",
       "    <tr>\n",
       "      <th>1561</th>\n",
       "      <td>7275464</td>\n",
       "      <td>47164953</td>\n",
       "      <td>2015-09-16</td>\n",
       "      <td>10285131</td>\n",
       "      <td>David</td>\n",
       "      <td>Awesome private studio in Seattle's Capitol Hi...</td>\n",
       "      <td>Awesome private studio in Seattles Capitol Hil...</td>\n",
       "      <td>Awesome private studio Seattles Capitol Hill n...</td>\n",
       "      <td>awesom privat studio seattl capitol hill neigh...</td>\n",
       "      <td>(0.27999999999999997, 0.5066666666666667)</td>\n",
       "      <td>0.280000</td>\n",
       "      <td>0.506667</td>\n",
       "      <td>7275464</td>\n",
       "      <td>Stevens</td>\n",
       "      <td>Bungalow</td>\n",
       "    </tr>\n",
       "  </tbody>\n",
       "</table>\n",
       "</div>"
      ],
      "text/plain": [
       "      listing_id      id_x        date  reviewer_id reviewer_name  \\\n",
       "1557     7275464  38459696  2015-07-15     35664887           Jay   \n",
       "1558     7275464  38663857  2015-07-17     30851696         David   \n",
       "1559     7275464  44147216  2015-08-24       501330         Aaron   \n",
       "1560     7275464  45293371  2015-09-01     29702757         Brian   \n",
       "1561     7275464  47164953  2015-09-16     10285131         David   \n",
       "\n",
       "                                               comments  \\\n",
       "1557  I just got a chance to catch up on things afte...   \n",
       "1558  Great little studio in a quiet neighborhood. V...   \n",
       "1559  Perfect visit to Seattle. The Studio is lovely...   \n",
       "1560  Great little studio super close to downtown.  ...   \n",
       "1561  Awesome private studio in Seattle's Capitol Hi...   \n",
       "\n",
       "                             comments_no_special_charac  \\\n",
       "1557  I just got a chance to catch up on things afte...   \n",
       "1558  Great little studio in a quiet neighborhood Ve...   \n",
       "1559  Perfect visit to Seattle The Studio is lovely ...   \n",
       "1560  Great little studio super close to downtown  L...   \n",
       "1561  Awesome private studio in Seattles Capitol Hil...   \n",
       "\n",
       "                comments_no_stopwords_no_special_charac  \\\n",
       "1557  I got chance catch things week attending event...   \n",
       "1558  Great little studio quiet neighborhood Very ni...   \n",
       "1559  Perfect visit Seattle The Studio lovely bright...   \n",
       "1560  Great little studio super close downtown Loved...   \n",
       "1561  Awesome private studio Seattles Capitol Hill n...   \n",
       "\n",
       "        comments_no_stopwords_no_special_charac_stemmed  \\\n",
       "1557  I got chanc catch thing week attend event seat...   \n",
       "1558  great littl studio quiet neighborhood veri nic...   \n",
       "1559  perfect visit seattl the studio love bright cl...   \n",
       "1560  great littl studio super close downtown love c...   \n",
       "1561  awesom privat studio seattl capitol hill neigh...   \n",
       "\n",
       "                                sentiment_score  polarity_score  \\\n",
       "1557  (0.2518518518518518, 0.43518518518518523)        0.251852   \n",
       "1558  (0.39999999999999997, 0.5958333333333332)        0.400000   \n",
       "1559   (0.6666666666666666, 0.8142857142857142)        0.666667   \n",
       "1560   (0.3466666666666666, 0.7233333333333334)        0.346667   \n",
       "1561  (0.27999999999999997, 0.5066666666666667)        0.280000   \n",
       "\n",
       "      subjectivity_score     id_y neighbourhood property_type  \n",
       "1557            0.435185  7275464       Stevens      Bungalow  \n",
       "1558            0.595833  7275464       Stevens      Bungalow  \n",
       "1559            0.814286  7275464       Stevens      Bungalow  \n",
       "1560            0.723333  7275464       Stevens      Bungalow  \n",
       "1561            0.506667  7275464       Stevens      Bungalow  "
      ]
     },
     "execution_count": 270,
     "metadata": {},
     "output_type": "execute_result"
    }
   ],
   "source": [
    "df_Seattle_nonulls_merged[df_Seattle_nonulls_merged['property_type']== 'Bungalow'].head()"
   ]
  },
  {
   "cell_type": "markdown",
   "metadata": {},
   "source": [
    "We see that the bungalow type has the best average and just looking at a few comments, words such as \"super\", \"great\" and \"awesome\" show up so this is a good sign for out sentiment analysis."
   ]
  },
  {
   "cell_type": "markdown",
   "metadata": {},
   "source": [
    "__3) Price prediction__"
   ]
  },
  {
   "cell_type": "markdown",
   "metadata": {},
   "source": [
    "To answer the question of whether we can develop an algorithm to predict a price for a listing. This will be useful for Airbnb to target the right market based on specific features.  "
   ]
  },
  {
   "cell_type": "markdown",
   "metadata": {},
   "source": [
    "Fo this we have to clean up quite thoroughly the listings dataset as we saw in the previous section and we will have to dig into each and every feature."
   ]
  },
  {
   "cell_type": "code",
   "execution_count": 271,
   "metadata": {},
   "outputs": [
    {
     "data": {
      "text/html": [
       "<div>\n",
       "<style scoped>\n",
       "    .dataframe tbody tr th:only-of-type {\n",
       "        vertical-align: middle;\n",
       "    }\n",
       "\n",
       "    .dataframe tbody tr th {\n",
       "        vertical-align: top;\n",
       "    }\n",
       "\n",
       "    .dataframe thead th {\n",
       "        text-align: right;\n",
       "    }\n",
       "</style>\n",
       "<table border=\"1\" class=\"dataframe\">\n",
       "  <thead>\n",
       "    <tr style=\"text-align: right;\">\n",
       "      <th></th>\n",
       "      <th>id</th>\n",
       "      <th>listing_url</th>\n",
       "      <th>scrape_id</th>\n",
       "      <th>last_scraped</th>\n",
       "      <th>name</th>\n",
       "      <th>summary</th>\n",
       "      <th>space</th>\n",
       "      <th>description</th>\n",
       "      <th>experiences_offered</th>\n",
       "      <th>neighborhood_overview</th>\n",
       "      <th>...</th>\n",
       "      <th>review_scores_value</th>\n",
       "      <th>requires_license</th>\n",
       "      <th>license</th>\n",
       "      <th>jurisdiction_names</th>\n",
       "      <th>instant_bookable</th>\n",
       "      <th>cancellation_policy</th>\n",
       "      <th>require_guest_profile_picture</th>\n",
       "      <th>require_guest_phone_verification</th>\n",
       "      <th>calculated_host_listings_count</th>\n",
       "      <th>reviews_per_month</th>\n",
       "    </tr>\n",
       "  </thead>\n",
       "  <tbody>\n",
       "    <tr>\n",
       "      <th>0</th>\n",
       "      <td>241032</td>\n",
       "      <td>https://www.airbnb.com/rooms/241032</td>\n",
       "      <td>20160104002432</td>\n",
       "      <td>2016-01-04</td>\n",
       "      <td>Stylish Queen Anne Apartment</td>\n",
       "      <td>NaN</td>\n",
       "      <td>Make your self at home in this charming one-be...</td>\n",
       "      <td>Make your self at home in this charming one-be...</td>\n",
       "      <td>none</td>\n",
       "      <td>NaN</td>\n",
       "      <td>...</td>\n",
       "      <td>10.0</td>\n",
       "      <td>f</td>\n",
       "      <td>NaN</td>\n",
       "      <td>WASHINGTON</td>\n",
       "      <td>f</td>\n",
       "      <td>moderate</td>\n",
       "      <td>f</td>\n",
       "      <td>f</td>\n",
       "      <td>2</td>\n",
       "      <td>4.07</td>\n",
       "    </tr>\n",
       "    <tr>\n",
       "      <th>1</th>\n",
       "      <td>953595</td>\n",
       "      <td>https://www.airbnb.com/rooms/953595</td>\n",
       "      <td>20160104002432</td>\n",
       "      <td>2016-01-04</td>\n",
       "      <td>Bright &amp; Airy Queen Anne Apartment</td>\n",
       "      <td>Chemically sensitive? We've removed the irrita...</td>\n",
       "      <td>Beautiful, hypoallergenic apartment in an extr...</td>\n",
       "      <td>Chemically sensitive? We've removed the irrita...</td>\n",
       "      <td>none</td>\n",
       "      <td>Queen Anne is a wonderful, truly functional vi...</td>\n",
       "      <td>...</td>\n",
       "      <td>10.0</td>\n",
       "      <td>f</td>\n",
       "      <td>NaN</td>\n",
       "      <td>WASHINGTON</td>\n",
       "      <td>f</td>\n",
       "      <td>strict</td>\n",
       "      <td>t</td>\n",
       "      <td>t</td>\n",
       "      <td>6</td>\n",
       "      <td>1.48</td>\n",
       "    </tr>\n",
       "    <tr>\n",
       "      <th>2</th>\n",
       "      <td>3308979</td>\n",
       "      <td>https://www.airbnb.com/rooms/3308979</td>\n",
       "      <td>20160104002432</td>\n",
       "      <td>2016-01-04</td>\n",
       "      <td>New Modern House-Amazing water view</td>\n",
       "      <td>New modern house built in 2013.  Spectacular s...</td>\n",
       "      <td>Our house is modern, light and fresh with a wa...</td>\n",
       "      <td>New modern house built in 2013.  Spectacular s...</td>\n",
       "      <td>none</td>\n",
       "      <td>Upper Queen Anne is a charming neighborhood fu...</td>\n",
       "      <td>...</td>\n",
       "      <td>10.0</td>\n",
       "      <td>f</td>\n",
       "      <td>NaN</td>\n",
       "      <td>WASHINGTON</td>\n",
       "      <td>f</td>\n",
       "      <td>strict</td>\n",
       "      <td>f</td>\n",
       "      <td>f</td>\n",
       "      <td>2</td>\n",
       "      <td>1.15</td>\n",
       "    </tr>\n",
       "    <tr>\n",
       "      <th>3</th>\n",
       "      <td>7421966</td>\n",
       "      <td>https://www.airbnb.com/rooms/7421966</td>\n",
       "      <td>20160104002432</td>\n",
       "      <td>2016-01-04</td>\n",
       "      <td>Queen Anne Chateau</td>\n",
       "      <td>A charming apartment that sits atop Queen Anne...</td>\n",
       "      <td>NaN</td>\n",
       "      <td>A charming apartment that sits atop Queen Anne...</td>\n",
       "      <td>none</td>\n",
       "      <td>NaN</td>\n",
       "      <td>...</td>\n",
       "      <td>NaN</td>\n",
       "      <td>f</td>\n",
       "      <td>NaN</td>\n",
       "      <td>WASHINGTON</td>\n",
       "      <td>f</td>\n",
       "      <td>flexible</td>\n",
       "      <td>f</td>\n",
       "      <td>f</td>\n",
       "      <td>1</td>\n",
       "      <td>NaN</td>\n",
       "    </tr>\n",
       "    <tr>\n",
       "      <th>4</th>\n",
       "      <td>278830</td>\n",
       "      <td>https://www.airbnb.com/rooms/278830</td>\n",
       "      <td>20160104002432</td>\n",
       "      <td>2016-01-04</td>\n",
       "      <td>Charming craftsman 3 bdm house</td>\n",
       "      <td>Cozy family craftman house in beautiful neighb...</td>\n",
       "      <td>Cozy family craftman house in beautiful neighb...</td>\n",
       "      <td>Cozy family craftman house in beautiful neighb...</td>\n",
       "      <td>none</td>\n",
       "      <td>We are in the beautiful neighborhood of Queen ...</td>\n",
       "      <td>...</td>\n",
       "      <td>9.0</td>\n",
       "      <td>f</td>\n",
       "      <td>NaN</td>\n",
       "      <td>WASHINGTON</td>\n",
       "      <td>f</td>\n",
       "      <td>strict</td>\n",
       "      <td>f</td>\n",
       "      <td>f</td>\n",
       "      <td>1</td>\n",
       "      <td>0.89</td>\n",
       "    </tr>\n",
       "  </tbody>\n",
       "</table>\n",
       "<p>5 rows × 92 columns</p>\n",
       "</div>"
      ],
      "text/plain": [
       "        id                           listing_url       scrape_id last_scraped  \\\n",
       "0   241032   https://www.airbnb.com/rooms/241032  20160104002432   2016-01-04   \n",
       "1   953595   https://www.airbnb.com/rooms/953595  20160104002432   2016-01-04   \n",
       "2  3308979  https://www.airbnb.com/rooms/3308979  20160104002432   2016-01-04   \n",
       "3  7421966  https://www.airbnb.com/rooms/7421966  20160104002432   2016-01-04   \n",
       "4   278830   https://www.airbnb.com/rooms/278830  20160104002432   2016-01-04   \n",
       "\n",
       "                                  name  \\\n",
       "0         Stylish Queen Anne Apartment   \n",
       "1   Bright & Airy Queen Anne Apartment   \n",
       "2  New Modern House-Amazing water view   \n",
       "3                   Queen Anne Chateau   \n",
       "4       Charming craftsman 3 bdm house   \n",
       "\n",
       "                                             summary  \\\n",
       "0                                                NaN   \n",
       "1  Chemically sensitive? We've removed the irrita...   \n",
       "2  New modern house built in 2013.  Spectacular s...   \n",
       "3  A charming apartment that sits atop Queen Anne...   \n",
       "4  Cozy family craftman house in beautiful neighb...   \n",
       "\n",
       "                                               space  \\\n",
       "0  Make your self at home in this charming one-be...   \n",
       "1  Beautiful, hypoallergenic apartment in an extr...   \n",
       "2  Our house is modern, light and fresh with a wa...   \n",
       "3                                                NaN   \n",
       "4  Cozy family craftman house in beautiful neighb...   \n",
       "\n",
       "                                         description experiences_offered  \\\n",
       "0  Make your self at home in this charming one-be...                none   \n",
       "1  Chemically sensitive? We've removed the irrita...                none   \n",
       "2  New modern house built in 2013.  Spectacular s...                none   \n",
       "3  A charming apartment that sits atop Queen Anne...                none   \n",
       "4  Cozy family craftman house in beautiful neighb...                none   \n",
       "\n",
       "                               neighborhood_overview  ... review_scores_value  \\\n",
       "0                                                NaN  ...                10.0   \n",
       "1  Queen Anne is a wonderful, truly functional vi...  ...                10.0   \n",
       "2  Upper Queen Anne is a charming neighborhood fu...  ...                10.0   \n",
       "3                                                NaN  ...                 NaN   \n",
       "4  We are in the beautiful neighborhood of Queen ...  ...                 9.0   \n",
       "\n",
       "  requires_license license jurisdiction_names instant_bookable  \\\n",
       "0                f     NaN         WASHINGTON                f   \n",
       "1                f     NaN         WASHINGTON                f   \n",
       "2                f     NaN         WASHINGTON                f   \n",
       "3                f     NaN         WASHINGTON                f   \n",
       "4                f     NaN         WASHINGTON                f   \n",
       "\n",
       "  cancellation_policy  require_guest_profile_picture  \\\n",
       "0            moderate                              f   \n",
       "1              strict                              t   \n",
       "2              strict                              f   \n",
       "3            flexible                              f   \n",
       "4              strict                              f   \n",
       "\n",
       "  require_guest_phone_verification calculated_host_listings_count  \\\n",
       "0                                f                              2   \n",
       "1                                t                              6   \n",
       "2                                f                              2   \n",
       "3                                f                              1   \n",
       "4                                f                              1   \n",
       "\n",
       "  reviews_per_month  \n",
       "0              4.07  \n",
       "1              1.48  \n",
       "2              1.15  \n",
       "3               NaN  \n",
       "4              0.89  \n",
       "\n",
       "[5 rows x 92 columns]"
      ]
     },
     "execution_count": 271,
     "metadata": {},
     "output_type": "execute_result"
    }
   ],
   "source": [
    "df_Seattle_listings.head()"
   ]
  },
  {
   "cell_type": "code",
   "execution_count": 272,
   "metadata": {},
   "outputs": [
    {
     "data": {
      "text/plain": [
       "Index(['id', 'listing_url', 'scrape_id', 'last_scraped', 'name', 'summary',\n",
       "       'space', 'description', 'experiences_offered', 'neighborhood_overview',\n",
       "       'notes', 'transit', 'thumbnail_url', 'medium_url', 'picture_url',\n",
       "       'xl_picture_url', 'host_id', 'host_url', 'host_name', 'host_since',\n",
       "       'host_location', 'host_about', 'host_response_time',\n",
       "       'host_response_rate', 'host_acceptance_rate', 'host_is_superhost',\n",
       "       'host_thumbnail_url', 'host_picture_url', 'host_neighbourhood',\n",
       "       'host_listings_count', 'host_total_listings_count',\n",
       "       'host_verifications', 'host_has_profile_pic', 'host_identity_verified',\n",
       "       'street', 'neighbourhood', 'neighbourhood_cleansed',\n",
       "       'neighbourhood_group_cleansed', 'city', 'state', 'zipcode', 'market',\n",
       "       'smart_location', 'country_code', 'country', 'latitude', 'longitude',\n",
       "       'is_location_exact', 'property_type', 'room_type', 'accommodates',\n",
       "       'bathrooms', 'bedrooms', 'beds', 'bed_type', 'amenities', 'square_feet',\n",
       "       'price', 'weekly_price', 'monthly_price', 'security_deposit',\n",
       "       'cleaning_fee', 'guests_included', 'extra_people', 'minimum_nights',\n",
       "       'maximum_nights', 'calendar_updated', 'has_availability',\n",
       "       'availability_30', 'availability_60', 'availability_90',\n",
       "       'availability_365', 'calendar_last_scraped', 'number_of_reviews',\n",
       "       'first_review', 'last_review', 'review_scores_rating',\n",
       "       'review_scores_accuracy', 'review_scores_cleanliness',\n",
       "       'review_scores_checkin', 'review_scores_communication',\n",
       "       'review_scores_location', 'review_scores_value', 'requires_license',\n",
       "       'license', 'jurisdiction_names', 'instant_bookable',\n",
       "       'cancellation_policy', 'require_guest_profile_picture',\n",
       "       'require_guest_phone_verification', 'calculated_host_listings_count',\n",
       "       'reviews_per_month'],\n",
       "      dtype='object')"
      ]
     },
     "execution_count": 272,
     "metadata": {},
     "output_type": "execute_result"
    }
   ],
   "source": [
    "df_Seattle_listings.columns"
   ]
  },
  {
   "cell_type": "markdown",
   "metadata": {},
   "source": [
    "Lets drop the first set of columns that are clearly not linked to price such as id and other features."
   ]
  },
  {
   "cell_type": "code",
   "execution_count": 273,
   "metadata": {},
   "outputs": [
    {
     "data": {
      "text/plain": [
       "22"
      ]
     },
     "execution_count": 273,
     "metadata": {},
     "output_type": "execute_result"
    }
   ],
   "source": [
    "drop_not_price_correlated_columns = ['id', 'listing_url', 'scrape_id', 'last_scraped', 'thumbnail_url', 'medium_url',\n",
    "        'xl_picture_url', 'host_id', 'host_url', 'host_name', 'host_thumbnail_url', 'host_verifications', 'street', 'country', 'latitude', 'longitude', 'weekly_price', 'monthly_price','calendar_last_scraped', \n",
    "        'first_review', 'last_review', 'jurisdiction_names']\n",
    "len(drop_not_price_correlated_columns)"
   ]
  },
  {
   "cell_type": "code",
   "execution_count": 274,
   "metadata": {},
   "outputs": [
    {
     "data": {
      "text/plain": [
       "(3818, 70)"
      ]
     },
     "execution_count": 274,
     "metadata": {},
     "output_type": "execute_result"
    }
   ],
   "source": [
    "df_Seattle_listings.drop(drop_not_price_correlated_columns, axis=1, inplace = True)\n",
    "df_Seattle_listings.shape"
   ]
  },
  {
   "cell_type": "code",
   "execution_count": 275,
   "metadata": {},
   "outputs": [
    {
     "name": "stdout",
     "output_type": "stream",
     "text": [
      "host_listings_count has the following percentage of null values 0.05238344683080147\n",
      "host_total_listings_count has the following percentage of null values 0.05238344683080147\n",
      "accommodates has the following percentage of null values 0.0\n",
      "bathrooms has the following percentage of null values 0.41906757464641176\n",
      "bedrooms has the following percentage of null values 0.1571503404924044\n",
      "beds has the following percentage of null values 0.026191723415400735\n",
      "square_feet has the following percentage of null values 97.45940282870613\n",
      "guests_included has the following percentage of null values 0.0\n",
      "minimum_nights has the following percentage of null values 0.0\n",
      "maximum_nights has the following percentage of null values 0.0\n",
      "availability_30 has the following percentage of null values 0.0\n",
      "availability_60 has the following percentage of null values 0.0\n",
      "availability_90 has the following percentage of null values 0.0\n",
      "availability_365 has the following percentage of null values 0.0\n",
      "number_of_reviews has the following percentage of null values 0.0\n",
      "review_scores_rating has the following percentage of null values 16.946045049764276\n",
      "review_scores_accuracy has the following percentage of null values 17.234154007333682\n",
      "review_scores_cleanliness has the following percentage of null values 17.10319539025668\n",
      "review_scores_checkin has the following percentage of null values 17.234154007333682\n",
      "review_scores_communication has the following percentage of null values 17.050811943425877\n",
      "review_scores_location has the following percentage of null values 17.15557883708748\n",
      "review_scores_value has the following percentage of null values 17.181770560502883\n",
      "license has the following percentage of null values 100.0\n",
      "calculated_host_listings_count has the following percentage of null values 0.0\n",
      "reviews_per_month has the following percentage of null values 16.42221058145626\n"
     ]
    }
   ],
   "source": [
    "numeric_cols = df_Seattle_listings.select_dtypes(include = 'number').columns\n",
    "for numeric_col in numeric_cols:\n",
    "    print (numeric_col, 'has the following percentage of null values', (df_Seattle_listings[numeric_col].isnull().sum()/df_Seattle_listings.shape[0])*100)"
   ]
  },
  {
   "cell_type": "code",
   "execution_count": 276,
   "metadata": {},
   "outputs": [
    {
     "data": {
      "text/html": [
       "<div>\n",
       "<style scoped>\n",
       "    .dataframe tbody tr th:only-of-type {\n",
       "        vertical-align: middle;\n",
       "    }\n",
       "\n",
       "    .dataframe tbody tr th {\n",
       "        vertical-align: top;\n",
       "    }\n",
       "\n",
       "    .dataframe thead th {\n",
       "        text-align: right;\n",
       "    }\n",
       "</style>\n",
       "<table border=\"1\" class=\"dataframe\">\n",
       "  <thead>\n",
       "    <tr style=\"text-align: right;\">\n",
       "      <th></th>\n",
       "      <th>host_listings_count</th>\n",
       "      <th>host_total_listings_count</th>\n",
       "      <th>calculated_host_listings_count</th>\n",
       "    </tr>\n",
       "  </thead>\n",
       "  <tbody>\n",
       "    <tr>\n",
       "      <th>0</th>\n",
       "      <td>3.0</td>\n",
       "      <td>3.0</td>\n",
       "      <td>2</td>\n",
       "    </tr>\n",
       "    <tr>\n",
       "      <th>1</th>\n",
       "      <td>6.0</td>\n",
       "      <td>6.0</td>\n",
       "      <td>6</td>\n",
       "    </tr>\n",
       "    <tr>\n",
       "      <th>2</th>\n",
       "      <td>2.0</td>\n",
       "      <td>2.0</td>\n",
       "      <td>2</td>\n",
       "    </tr>\n",
       "    <tr>\n",
       "      <th>3</th>\n",
       "      <td>1.0</td>\n",
       "      <td>1.0</td>\n",
       "      <td>1</td>\n",
       "    </tr>\n",
       "    <tr>\n",
       "      <th>4</th>\n",
       "      <td>2.0</td>\n",
       "      <td>2.0</td>\n",
       "      <td>1</td>\n",
       "    </tr>\n",
       "    <tr>\n",
       "      <th>...</th>\n",
       "      <td>...</td>\n",
       "      <td>...</td>\n",
       "      <td>...</td>\n",
       "    </tr>\n",
       "    <tr>\n",
       "      <th>3813</th>\n",
       "      <td>354.0</td>\n",
       "      <td>354.0</td>\n",
       "      <td>8</td>\n",
       "    </tr>\n",
       "    <tr>\n",
       "      <th>3814</th>\n",
       "      <td>1.0</td>\n",
       "      <td>1.0</td>\n",
       "      <td>1</td>\n",
       "    </tr>\n",
       "    <tr>\n",
       "      <th>3815</th>\n",
       "      <td>1.0</td>\n",
       "      <td>1.0</td>\n",
       "      <td>1</td>\n",
       "    </tr>\n",
       "    <tr>\n",
       "      <th>3816</th>\n",
       "      <td>1.0</td>\n",
       "      <td>1.0</td>\n",
       "      <td>1</td>\n",
       "    </tr>\n",
       "    <tr>\n",
       "      <th>3817</th>\n",
       "      <td>1.0</td>\n",
       "      <td>1.0</td>\n",
       "      <td>1</td>\n",
       "    </tr>\n",
       "  </tbody>\n",
       "</table>\n",
       "<p>3818 rows × 3 columns</p>\n",
       "</div>"
      ],
      "text/plain": [
       "      host_listings_count  host_total_listings_count  \\\n",
       "0                     3.0                        3.0   \n",
       "1                     6.0                        6.0   \n",
       "2                     2.0                        2.0   \n",
       "3                     1.0                        1.0   \n",
       "4                     2.0                        2.0   \n",
       "...                   ...                        ...   \n",
       "3813                354.0                      354.0   \n",
       "3814                  1.0                        1.0   \n",
       "3815                  1.0                        1.0   \n",
       "3816                  1.0                        1.0   \n",
       "3817                  1.0                        1.0   \n",
       "\n",
       "      calculated_host_listings_count  \n",
       "0                                  2  \n",
       "1                                  6  \n",
       "2                                  2  \n",
       "3                                  1  \n",
       "4                                  1  \n",
       "...                              ...  \n",
       "3813                               8  \n",
       "3814                               1  \n",
       "3815                               1  \n",
       "3816                               1  \n",
       "3817                               1  \n",
       "\n",
       "[3818 rows x 3 columns]"
      ]
     },
     "execution_count": 276,
     "metadata": {},
     "output_type": "execute_result"
    }
   ],
   "source": [
    "df_Seattle_listings[['host_listings_count','host_total_listings_count','calculated_host_listings_count']]"
   ]
  },
  {
   "cell_type": "markdown",
   "metadata": {},
   "source": [
    "The numeric trype of columns that we will drop are the following, 'square_feet' and 'liscense' since in the case of square feet almost all of the listings are empty and in the case of liscense its 100%. Furthermore, we have realized that the 'host_listings_count','host_total_listings_count','calculated_host_listings_count' columsn are somewhat redundant and the most useful of these columns is 'calculated_host_listings_count' since it is the final calculated number of host listings for the unique host_id. We wil drop the other two columns."
   ]
  },
  {
   "cell_type": "code",
   "execution_count": 277,
   "metadata": {},
   "outputs": [
    {
     "data": {
      "text/plain": [
       "(3818, 66)"
      ]
     },
     "execution_count": 277,
     "metadata": {},
     "output_type": "execute_result"
    }
   ],
   "source": [
    "df_Seattle_listings.drop(['host_listings_count','host_total_listings_count','license','square_feet'], axis=1, inplace = True)\n",
    "df_Seattle_listings.shape"
   ]
  },
  {
   "cell_type": "markdown",
   "metadata": {},
   "source": [
    "Now the rest of the columns of of type object so will look into all of these and how many missing values are there per each column."
   ]
  },
  {
   "cell_type": "code",
   "execution_count": 278,
   "metadata": {},
   "outputs": [
    {
     "name": "stdout",
     "output_type": "stream",
     "text": [
      "name has the following percentage of null values 0.0\n",
      "summary has the following percentage of null values 4.6359350445259295\n",
      "space has the following percentage of null values 14.903090623363017\n",
      "description has the following percentage of null values 0.0\n",
      "experiences_offered has the following percentage of null values 0.0\n",
      "neighborhood_overview has the following percentage of null values 27.029858564693555\n",
      "notes has the following percentage of null values 42.063907805133574\n",
      "transit has the following percentage of null values 24.463069669984286\n",
      "picture_url has the following percentage of null values 0.0\n",
      "host_since has the following percentage of null values 0.05238344683080147\n",
      "host_location has the following percentage of null values 0.20953378732320588\n",
      "host_about has the following percentage of null values 22.49869041382923\n",
      "host_response_time has the following percentage of null values 13.698271346254584\n",
      "host_response_rate has the following percentage of null values 13.698271346254584\n",
      "host_acceptance_rate has the following percentage of null values 20.24620220010477\n",
      "host_is_superhost has the following percentage of null values 0.05238344683080147\n",
      "host_picture_url has the following percentage of null values 0.05238344683080147\n",
      "host_neighbourhood has the following percentage of null values 7.85751702462022\n",
      "host_has_profile_pic has the following percentage of null values 0.05238344683080147\n",
      "host_identity_verified has the following percentage of null values 0.05238344683080147\n",
      "neighbourhood has the following percentage of null values 10.895756940806706\n",
      "neighbourhood_cleansed has the following percentage of null values 0.0\n",
      "neighbourhood_group_cleansed has the following percentage of null values 0.0\n",
      "city has the following percentage of null values 0.0\n",
      "state has the following percentage of null values 0.0\n",
      "zipcode has the following percentage of null values 0.18334206390780514\n",
      "market has the following percentage of null values 0.0\n",
      "smart_location has the following percentage of null values 0.0\n",
      "country_code has the following percentage of null values 0.0\n",
      "is_location_exact has the following percentage of null values 0.0\n",
      "property_type has the following percentage of null values 0.026191723415400735\n",
      "room_type has the following percentage of null values 0.0\n",
      "bed_type has the following percentage of null values 0.0\n",
      "amenities has the following percentage of null values 0.0\n",
      "price has the following percentage of null values 0.0\n",
      "security_deposit has the following percentage of null values 51.12624410686223\n",
      "cleaning_fee has the following percentage of null values 26.977475117862753\n",
      "extra_people has the following percentage of null values 0.0\n",
      "calendar_updated has the following percentage of null values 0.0\n",
      "has_availability has the following percentage of null values 0.0\n",
      "requires_license has the following percentage of null values 0.0\n",
      "instant_bookable has the following percentage of null values 0.0\n",
      "cancellation_policy has the following percentage of null values 0.0\n",
      "require_guest_profile_picture has the following percentage of null values 0.0\n",
      "require_guest_phone_verification has the following percentage of null values 0.0\n",
      "The mean percentage of null values amongst all the non numeric columns is 6.239450555846574\n"
     ]
    }
   ],
   "source": [
    "percentage_null_values_non_numeric = []\n",
    "non_numeric_cols = df_Seattle_listings.select_dtypes(include = 'object').columns\n",
    "for non_numeric_col in non_numeric_cols:\n",
    "    percentage_null_values_non_numeric.append((df_Seattle_listings[non_numeric_col].isnull().sum()/df_Seattle_listings.shape[0])*100)\n",
    "    print (non_numeric_col, 'has the following percentage of null values', (df_Seattle_listings[non_numeric_col].isnull().sum()/df_Seattle_listings.shape[0])*100)\n",
    "print ('The mean percentage of null values amongst all the non numeric columns is', (sum(percentage_null_values_non_numeric)/len(percentage_null_values_non_numeric)))  "
   ]
  },
  {
   "cell_type": "code",
   "execution_count": 279,
   "metadata": {},
   "outputs": [
    {
     "data": {
      "text/html": [
       "<div>\n",
       "<style scoped>\n",
       "    .dataframe tbody tr th:only-of-type {\n",
       "        vertical-align: middle;\n",
       "    }\n",
       "\n",
       "    .dataframe tbody tr th {\n",
       "        vertical-align: top;\n",
       "    }\n",
       "\n",
       "    .dataframe thead th {\n",
       "        text-align: right;\n",
       "    }\n",
       "</style>\n",
       "<table border=\"1\" class=\"dataframe\">\n",
       "  <thead>\n",
       "    <tr style=\"text-align: right;\">\n",
       "      <th></th>\n",
       "      <th>neighbourhood</th>\n",
       "      <th>neighbourhood_group_cleansed</th>\n",
       "      <th>neighbourhood_cleansed</th>\n",
       "    </tr>\n",
       "  </thead>\n",
       "  <tbody>\n",
       "    <tr>\n",
       "      <th>0</th>\n",
       "      <td>Queen Anne</td>\n",
       "      <td>Queen Anne</td>\n",
       "      <td>West Queen Anne</td>\n",
       "    </tr>\n",
       "    <tr>\n",
       "      <th>1</th>\n",
       "      <td>Queen Anne</td>\n",
       "      <td>Queen Anne</td>\n",
       "      <td>West Queen Anne</td>\n",
       "    </tr>\n",
       "    <tr>\n",
       "      <th>2</th>\n",
       "      <td>Queen Anne</td>\n",
       "      <td>Queen Anne</td>\n",
       "      <td>West Queen Anne</td>\n",
       "    </tr>\n",
       "    <tr>\n",
       "      <th>3</th>\n",
       "      <td>Queen Anne</td>\n",
       "      <td>Queen Anne</td>\n",
       "      <td>West Queen Anne</td>\n",
       "    </tr>\n",
       "    <tr>\n",
       "      <th>4</th>\n",
       "      <td>Queen Anne</td>\n",
       "      <td>Queen Anne</td>\n",
       "      <td>West Queen Anne</td>\n",
       "    </tr>\n",
       "  </tbody>\n",
       "</table>\n",
       "</div>"
      ],
      "text/plain": [
       "  neighbourhood neighbourhood_group_cleansed neighbourhood_cleansed\n",
       "0    Queen Anne                   Queen Anne        West Queen Anne\n",
       "1    Queen Anne                   Queen Anne        West Queen Anne\n",
       "2    Queen Anne                   Queen Anne        West Queen Anne\n",
       "3    Queen Anne                   Queen Anne        West Queen Anne\n",
       "4    Queen Anne                   Queen Anne        West Queen Anne"
      ]
     },
     "execution_count": 279,
     "metadata": {},
     "output_type": "execute_result"
    }
   ],
   "source": [
    "df_Seattle_listings[['neighbourhood','neighbourhood_group_cleansed', 'neighbourhood_cleansed']].head()"
   ]
  },
  {
   "cell_type": "code",
   "execution_count": 280,
   "metadata": {},
   "outputs": [
    {
     "data": {
      "text/plain": [
       "array([nan,\n",
       "       'Queen Anne is a wonderful, truly functional village.  You can walk everywhere... for coffee, for groceries, for a night out, for breathtaking views of the Puget Sound.',\n",
       "       'Upper Queen Anne is a charming neighborhood full of a mix of beautifully maintained, turn-of-the-century craftsman homes, tudors and modern homes.  The \"main drag\" is Queen Anne Ave. with a great selection of boutiques, restaurants, coffee shops and bars.  Upper Queen Anne is just 1.5 miles from downtown Seattle, and situated on a hilltop with stunning panoramic views in every direction -- downtown Seattle, the Space Needle and Mt. Rainier to the southeast, Elliott Bay to the southwest, the Olympic Mountains to the west and the Cascade Mountains to the east. If you\\'re a walker, you\\'ll love the 4-mile \"Crown of Queen Anne\" loop which takes in all of these views!',\n",
       "       ...,\n",
       "       \"We're located near lots of family fun. Woodland Park Zoo is 6 block walk away (say hello to its new tigers!). For prospective students and their families, the University of Washington is only 2.5 miles from our door. And be sure to stop by the Ballard Sunday Farmers Market for fresh cut flowers, fruits and vegetables to enjoy at home! When you're ready to explore downtown Seattle, the bus is only 4 blocks away.\",\n",
       "       'The neighborhood is a quiet oasis that is close to all the activities in Seattle.',\n",
       "       'Madison Park offers a peaceful slow pace upscale Seattle vibe. You can walk to 12 different eating and drinking establishments which most include outdoor seating.  Just steps away from the newly expanded North Beach. Madison Park is centrally located, it is approximately 4 miles East of Downtown Seattle.'],\n",
       "      dtype=object)"
      ]
     },
     "execution_count": 280,
     "metadata": {},
     "output_type": "execute_result"
    }
   ],
   "source": [
    "df_Seattle_listings['neighborhood_overview'].unique()"
   ]
  },
  {
   "cell_type": "markdown",
   "metadata": {},
   "source": [
    "So from these non numeric type of columns, we decided to remove the following columns:\n",
    "\n",
    "'experiences_offered' has no missing value but the data containted since this coluns are all nones.\n",
    "\n",
    "'neighbourhood' and 'neighbourhood_group_cleansed': we will keep the column 'neighbourhood_cleansed' to represent the neighbourhood of the listing since it is the most cleaned up one. \n",
    "\n",
    "'name', 'description', 'picture_url',  are descriptive fields but there are no missing values and converting this to a boolean column gives no added value since we will have trues for all rows, therefore we decide to remove these columns.\n",
    "\n",
    "'host_picture_url' and 'host_has_profile_pic' are redundant for the context of this project to us since we will use this as a boolean column. Therefore we dropo the 'host_picture_url' column. \n",
    "\n",
    "'city','state', 'market', 'smart_location', 'country_code' : the unique values of these columns lead to data that will not help in predicting the price since we get seattle and washington with different spelling or character mistakes. We will drop these columns.\n",
    "\n",
    "'requieres_license' :  all values in this column are false so we will remove this column\n",
    "\n",
    "'has_availability' : has all values to be true and no missing values so it doesn't provide any information for the regression of the price\n",
    "\n",
    "'zipcode' The neighbourhood feature is a more granular feature than the zipcode so we will drop this column.\n",
    "\n"
   ]
  },
  {
   "cell_type": "code",
   "execution_count": 281,
   "metadata": {},
   "outputs": [
    {
     "data": {
      "text/plain": [
       "(3818, 51)"
      ]
     },
     "execution_count": 281,
     "metadata": {},
     "output_type": "execute_result"
    }
   ],
   "source": [
    "df_Seattle_listings.drop(['experiences_offered','neighbourhood','neighbourhood_group_cleansed','name', 'description', \n",
    "                          'picture_url', 'host_picture_url', 'city', 'state', 'market', \n",
    "                          'smart_location', 'country_code', 'requires_license', 'has_availability', 'zipcode'], axis=1, inplace = True)\n",
    "df_Seattle_listings.shape"
   ]
  },
  {
   "cell_type": "markdown",
   "metadata": {},
   "source": [
    "Now a lot of the descriptive columns may be key for when the user makes a booking, We will convert the following columns to a boolean column based on wheteher there is text or not in the field:\n",
    "\n",
    "'summary', 'space', 'neighborhood_overview', 'notes', 'transit', 'host_since', 'host_location', 'host_about', 'host_neighbourhood'\n",
    "\n",
    "There are other columns that have string values of \"t\" or \"f\" and we will convert the trues to 1 and the falses or empty rows into 0's. There are the following columns:\n",
    "\n",
    "'host_is_superhost', 'host_has_profile_pic', 'is_location_exact', 'instant_bookable', 'require_guest_profile_picture', 'require_guest_phone_verification', 'host_identity_verified'\n",
    "\n",
    "\n",
    "There columns that we will have to look into more detail are:\n",
    "\n",
    "'amenities' there is a lot of valuable information here but it is in the form of text so we will look at extracting the necessary infromation from this column later\n"
   ]
  },
  {
   "cell_type": "code",
   "execution_count": 282,
   "metadata": {},
   "outputs": [],
   "source": [
    "columns_string_to_boolean = ['summary', 'space', 'neighborhood_overview', 'notes', 'transit', 'host_since', 'host_location', 'host_about','host_neighbourhood']\n",
    "\n",
    "def string_to_boolean(string):\n",
    "    if string is np.nan:\n",
    "        return 0\n",
    "    else:\n",
    "        return 1\n",
    "\n",
    "for col in columns_string_to_boolean:\n",
    "    df_Seattle_listings[col] = df_Seattle_listings[col].apply(string_to_boolean)"
   ]
  },
  {
   "cell_type": "code",
   "execution_count": 283,
   "metadata": {},
   "outputs": [],
   "source": [
    "columns_truefalse_to_1_and_0 = ['host_is_superhost', 'host_has_profile_pic', 'is_location_exact', 'instant_bookable', \n",
    "                                'require_guest_profile_picture', 'require_guest_phone_verification', 'host_identity_verified']\n",
    "\n",
    "def true_false_to_1_0(string):\n",
    "    if string == 't':\n",
    "        return 1\n",
    "    else:\n",
    "        return 0\n",
    "\n",
    "for col in columns_truefalse_to_1_and_0:\n",
    "    df_Seattle_listings[col] = df_Seattle_listings[col].apply(true_false_to_1_0)"
   ]
  },
  {
   "cell_type": "code",
   "execution_count": 284,
   "metadata": {},
   "outputs": [
    {
     "data": {
      "text/plain": [
       "summary                               int64\n",
       "space                                 int64\n",
       "neighborhood_overview                 int64\n",
       "notes                                 int64\n",
       "transit                               int64\n",
       "host_since                            int64\n",
       "host_location                         int64\n",
       "host_about                            int64\n",
       "host_response_time                   object\n",
       "host_response_rate                   object\n",
       "host_acceptance_rate                 object\n",
       "host_is_superhost                     int64\n",
       "host_neighbourhood                    int64\n",
       "host_has_profile_pic                  int64\n",
       "host_identity_verified                int64\n",
       "neighbourhood_cleansed               object\n",
       "is_location_exact                     int64\n",
       "property_type                        object\n",
       "room_type                            object\n",
       "accommodates                          int64\n",
       "bathrooms                           float64\n",
       "bedrooms                            float64\n",
       "beds                                float64\n",
       "bed_type                             object\n",
       "amenities                            object\n",
       "price                                object\n",
       "security_deposit                     object\n",
       "cleaning_fee                         object\n",
       "guests_included                       int64\n",
       "extra_people                         object\n",
       "minimum_nights                        int64\n",
       "maximum_nights                        int64\n",
       "calendar_updated                     object\n",
       "availability_30                       int64\n",
       "availability_60                       int64\n",
       "availability_90                       int64\n",
       "availability_365                      int64\n",
       "number_of_reviews                     int64\n",
       "review_scores_rating                float64\n",
       "review_scores_accuracy              float64\n",
       "review_scores_cleanliness           float64\n",
       "review_scores_checkin               float64\n",
       "review_scores_communication         float64\n",
       "review_scores_location              float64\n",
       "review_scores_value                 float64\n",
       "instant_bookable                      int64\n",
       "cancellation_policy                  object\n",
       "require_guest_profile_picture         int64\n",
       "require_guest_phone_verification      int64\n",
       "calculated_host_listings_count        int64\n",
       "reviews_per_month                   float64\n",
       "dtype: object"
      ]
     },
     "execution_count": 284,
     "metadata": {},
     "output_type": "execute_result"
    }
   ],
   "source": [
    "df_Seattle_listings.dtypes"
   ]
  },
  {
   "cell_type": "code",
   "execution_count": 285,
   "metadata": {},
   "outputs": [
    {
     "data": {
      "text/plain": [
       "Index(['host_response_time', 'host_response_rate', 'host_acceptance_rate',\n",
       "       'neighbourhood_cleansed', 'property_type', 'room_type', 'bed_type',\n",
       "       'amenities', 'price', 'security_deposit', 'cleaning_fee',\n",
       "       'extra_people', 'calendar_updated', 'cancellation_policy'],\n",
       "      dtype='object')"
      ]
     },
     "execution_count": 285,
     "metadata": {},
     "output_type": "execute_result"
    }
   ],
   "source": [
    "df_Seattle_listings.select_dtypes(include = 'object').columns"
   ]
  },
  {
   "cell_type": "code",
   "execution_count": 286,
   "metadata": {},
   "outputs": [],
   "source": [
    "df_Seattle_listings['price'] = pd.to_numeric(df_Seattle_listings['price'].str.replace('\\$|,',''))\n",
    "df_Seattle_listings['cleaning_fee'] = pd.to_numeric(df_Seattle_listings['cleaning_fee'].str.replace('\\$|,',''))\n",
    "df_Seattle_listings['security_deposit'] = pd.to_numeric(df_Seattle_listings['security_deposit'].str.replace('\\$|,',''))\n",
    "df_Seattle_listings['extra_people'] = pd.to_numeric(df_Seattle_listings['extra_people'].str.replace('\\$|,',''))"
   ]
  },
  {
   "cell_type": "code",
   "execution_count": 287,
   "metadata": {},
   "outputs": [],
   "source": [
    "df_Seattle_listings['host_response_rate'] = pd.to_numeric(df_Seattle_listings['host_response_rate'].str.replace('\\%',''))"
   ]
  },
  {
   "cell_type": "markdown",
   "metadata": {},
   "source": [
    "'amenities', 'property_type', 'host_response_time'"
   ]
  },
  {
   "cell_type": "code",
   "execution_count": 288,
   "metadata": {},
   "outputs": [],
   "source": [
    "df_Seattle_listings['host_response_time'].fillna('N/A',inplace=True)"
   ]
  },
  {
   "cell_type": "code",
   "execution_count": 289,
   "metadata": {},
   "outputs": [],
   "source": [
    "df_Seattle_listings = df_Seattle_listings[df_Seattle_listings['property_type'].notna()]"
   ]
  },
  {
   "cell_type": "code",
   "execution_count": 290,
   "metadata": {},
   "outputs": [
    {
     "data": {
      "text/plain": [
       "0"
      ]
     },
     "execution_count": 290,
     "metadata": {},
     "output_type": "execute_result"
    }
   ],
   "source": [
    "df_Seattle_listings['property_type'].isnull().sum()"
   ]
  },
  {
   "cell_type": "code",
   "execution_count": 291,
   "metadata": {},
   "outputs": [
    {
     "name": "stderr",
     "output_type": "stream",
     "text": [
      "C:\\Users\\RAMCHAND_N\\AppData\\Local\\Continuum\\anaconda3\\lib\\site-packages\\pandas\\core\\generic.py:6287: SettingWithCopyWarning: \n",
      "A value is trying to be set on a copy of a slice from a DataFrame\n",
      "\n",
      "See the caveats in the documentation: http://pandas.pydata.org/pandas-docs/stable/user_guide/indexing.html#returning-a-view-versus-a-copy\n",
      "  self._update_inplace(new_data)\n"
     ]
    }
   ],
   "source": [
    "df_Seattle_listings['security_deposit'].fillna(0,inplace=True)\n",
    "df_Seattle_listings['cleaning_fee'].fillna(0,inplace=True)"
   ]
  },
  {
   "cell_type": "code",
   "execution_count": 292,
   "metadata": {},
   "outputs": [],
   "source": [
    "df_Seattle_listings['host_acceptance_rate'].fillna('N/A',inplace=True)"
   ]
  },
  {
   "cell_type": "code",
   "execution_count": 293,
   "metadata": {},
   "outputs": [],
   "source": [
    "df_Seattle_listings['host_response_rate'].fillna(0,inplace=True)"
   ]
  },
  {
   "cell_type": "markdown",
   "metadata": {},
   "source": [
    "For all the ewview colomns, we see that these of types numeric, so we will fill in the NaN values with 0 since we assume that all listings without scores for the review section are because no review was left"
   ]
  },
  {
   "cell_type": "code",
   "execution_count": 294,
   "metadata": {},
   "outputs": [],
   "source": [
    "df_Seattle_listings['review_scores_rating'].fillna(0,inplace=True)"
   ]
  },
  {
   "cell_type": "code",
   "execution_count": 295,
   "metadata": {},
   "outputs": [],
   "source": [
    "df_Seattle_listings['review_scores_accuracy'].fillna(0,inplace=True)\n",
    "df_Seattle_listings['review_scores_checkin'].fillna(0,inplace=True)\n",
    "df_Seattle_listings['review_scores_cleanliness'].fillna(0,inplace=True)\n",
    "df_Seattle_listings['review_scores_communication'].fillna(0,inplace=True)\n",
    "df_Seattle_listings['review_scores_location'].fillna(0,inplace=True)\n",
    "df_Seattle_listings['review_scores_value'].fillna(0,inplace=True)\n",
    "df_Seattle_listings['reviews_per_month'].fillna(0,inplace=True)"
   ]
  },
  {
   "cell_type": "markdown",
   "metadata": {},
   "source": [
    "For the last columns which have empty fields 'bathroom', 'beds', 'bathrooms', we are looking at most 16 listings with empty values, therefore we will use a simple method of filling in the value with the mean of that column since they are probably empty because the person inserting the advert forgot to add that information, however we assume that all places to rent will have bathrooms, bedrooms and beds."
   ]
  },
  {
   "cell_type": "code",
   "execution_count": 296,
   "metadata": {},
   "outputs": [],
   "source": [
    "df_Seattle_listings.fillna(df_Seattle_listings.mean(), inplace=True)"
   ]
  },
  {
   "cell_type": "markdown",
   "metadata": {},
   "source": [
    "#### Amenities Feature"
   ]
  },
  {
   "cell_type": "code",
   "execution_count": 297,
   "metadata": {},
   "outputs": [
    {
     "name": "stdout",
     "output_type": "stream",
     "text": [
      "{'Wireless Internet': 3666, 'Heating': 3626, 'Kitchen': 3422, 'Smoke Detector': 3280, 'Essentials': 3237, 'Dryer': 2996, 'Washer': 2991, 'Internet': 2811, 'Shampoo': 2670, 'TV': 2574, 'Carbon Monoxide Detector': 2485, 'Fire Extinguisher': 2196, 'Free Parking on Premises': 2166, 'Family/Kid Friendly': 1962, 'First Aid Kit': 1679, 'Cable TV': 1446, 'Indoor Fireplace': 885, 'Pets live on this property': 882, 'Hangers': 846, 'Elevator in Building': 785, 'Hair Dryer': 774, 'Laptop Friendly Workspace': 745, 'Iron': 742, 'Safety Card': 727, 'Air Conditioning': 677, '24-Hour Check-in': 616, 'Buzzer/Wireless Intercom': 538, 'Dog(s)': 508, 'Pets Allowed': 472, 'Gym': 442, 'Cat(s)': 382, 'Hot Tub': 303, 'Wheelchair Accessible': 300, 'Breakfast': 291, 'Suitable for Events': 209, 'Pool': 159, 'Lock on Bedroom Door': 100, 'Doorman': 85, 'Smoking Allowed': 82, 'Other pet(s)': 50, '': 45, 'Washer / Dryer': 2}\n"
     ]
    }
   ],
   "source": [
    "all_amenities = []\n",
    "for index, column in df_Seattle_listings.iterrows():\n",
    "    column['amenities'] = column['amenities'].replace('{','').replace('}','').replace('\"','')\n",
    "    amenities = column['amenities'].split(',')\n",
    "    for amen in amenities:\n",
    "        all_amenities.append(amen)\n",
    "        \n",
    "from collections import Counter\n",
    "import operator\n",
    "\n",
    "dict_amen_counter = dict(Counter(all_amenities))\n",
    "sorted_dict_amen_counter = dict( sorted(dict_amen_counter.items(), key=operator.itemgetter(1),reverse=True))\n",
    "print (sorted_dict_amen_counter)"
   ]
  },
  {
   "cell_type": "markdown",
   "metadata": {},
   "source": [
    "Lets look at the average of the the occurences here."
   ]
  },
  {
   "cell_type": "markdown",
   "metadata": {},
   "source": [
    "Since we are looking to implement a predicitve model, we try and find the most balanced features therefore we will include upto around 50% of the listings which is around 1800 ocurrences and then if needed iterate."
   ]
  },
  {
   "cell_type": "markdown",
   "metadata": {},
   "source": [
    "Based on the above information, I have decided to create some new features"
   ]
  },
  {
   "cell_type": "code",
   "execution_count": 298,
   "metadata": {
    "collapsed": true,
    "jupyter": {
     "outputs_hidden": true
    }
   },
   "outputs": [
    {
     "name": "stderr",
     "output_type": "stream",
     "text": [
      "C:\\Users\\RAMCHAND_N\\AppData\\Local\\Continuum\\anaconda3\\lib\\site-packages\\ipykernel_launcher.py:1: SettingWithCopyWarning: \n",
      "A value is trying to be set on a copy of a slice from a DataFrame.\n",
      "Try using .loc[row_indexer,col_indexer] = value instead\n",
      "\n",
      "See the caveats in the documentation: http://pandas.pydata.org/pandas-docs/stable/user_guide/indexing.html#returning-a-view-versus-a-copy\n",
      "  \"\"\"Entry point for launching an IPython kernel.\n",
      "C:\\Users\\RAMCHAND_N\\AppData\\Local\\Continuum\\anaconda3\\lib\\site-packages\\ipykernel_launcher.py:2: SettingWithCopyWarning: \n",
      "A value is trying to be set on a copy of a slice from a DataFrame.\n",
      "Try using .loc[row_indexer,col_indexer] = value instead\n",
      "\n",
      "See the caveats in the documentation: http://pandas.pydata.org/pandas-docs/stable/user_guide/indexing.html#returning-a-view-versus-a-copy\n",
      "  \n",
      "C:\\Users\\RAMCHAND_N\\AppData\\Local\\Continuum\\anaconda3\\lib\\site-packages\\ipykernel_launcher.py:3: SettingWithCopyWarning: \n",
      "A value is trying to be set on a copy of a slice from a DataFrame.\n",
      "Try using .loc[row_indexer,col_indexer] = value instead\n",
      "\n",
      "See the caveats in the documentation: http://pandas.pydata.org/pandas-docs/stable/user_guide/indexing.html#returning-a-view-versus-a-copy\n",
      "  This is separate from the ipykernel package so we can avoid doing imports until\n",
      "C:\\Users\\RAMCHAND_N\\AppData\\Local\\Continuum\\anaconda3\\lib\\site-packages\\ipykernel_launcher.py:4: SettingWithCopyWarning: \n",
      "A value is trying to be set on a copy of a slice from a DataFrame.\n",
      "Try using .loc[row_indexer,col_indexer] = value instead\n",
      "\n",
      "See the caveats in the documentation: http://pandas.pydata.org/pandas-docs/stable/user_guide/indexing.html#returning-a-view-versus-a-copy\n",
      "  after removing the cwd from sys.path.\n",
      "C:\\Users\\RAMCHAND_N\\AppData\\Local\\Continuum\\anaconda3\\lib\\site-packages\\ipykernel_launcher.py:5: SettingWithCopyWarning: \n",
      "A value is trying to be set on a copy of a slice from a DataFrame.\n",
      "Try using .loc[row_indexer,col_indexer] = value instead\n",
      "\n",
      "See the caveats in the documentation: http://pandas.pydata.org/pandas-docs/stable/user_guide/indexing.html#returning-a-view-versus-a-copy\n",
      "  \"\"\"\n",
      "C:\\Users\\RAMCHAND_N\\AppData\\Local\\Continuum\\anaconda3\\lib\\site-packages\\ipykernel_launcher.py:6: SettingWithCopyWarning: \n",
      "A value is trying to be set on a copy of a slice from a DataFrame.\n",
      "Try using .loc[row_indexer,col_indexer] = value instead\n",
      "\n",
      "See the caveats in the documentation: http://pandas.pydata.org/pandas-docs/stable/user_guide/indexing.html#returning-a-view-versus-a-copy\n",
      "  \n",
      "C:\\Users\\RAMCHAND_N\\AppData\\Local\\Continuum\\anaconda3\\lib\\site-packages\\ipykernel_launcher.py:7: SettingWithCopyWarning: \n",
      "A value is trying to be set on a copy of a slice from a DataFrame.\n",
      "Try using .loc[row_indexer,col_indexer] = value instead\n",
      "\n",
      "See the caveats in the documentation: http://pandas.pydata.org/pandas-docs/stable/user_guide/indexing.html#returning-a-view-versus-a-copy\n",
      "  import sys\n",
      "C:\\Users\\RAMCHAND_N\\AppData\\Local\\Continuum\\anaconda3\\lib\\site-packages\\ipykernel_launcher.py:8: SettingWithCopyWarning: \n",
      "A value is trying to be set on a copy of a slice from a DataFrame.\n",
      "Try using .loc[row_indexer,col_indexer] = value instead\n",
      "\n",
      "See the caveats in the documentation: http://pandas.pydata.org/pandas-docs/stable/user_guide/indexing.html#returning-a-view-versus-a-copy\n",
      "  \n",
      "C:\\Users\\RAMCHAND_N\\AppData\\Local\\Continuum\\anaconda3\\lib\\site-packages\\ipykernel_launcher.py:9: SettingWithCopyWarning: \n",
      "A value is trying to be set on a copy of a slice from a DataFrame.\n",
      "Try using .loc[row_indexer,col_indexer] = value instead\n",
      "\n",
      "See the caveats in the documentation: http://pandas.pydata.org/pandas-docs/stable/user_guide/indexing.html#returning-a-view-versus-a-copy\n",
      "  if __name__ == '__main__':\n",
      "C:\\Users\\RAMCHAND_N\\AppData\\Local\\Continuum\\anaconda3\\lib\\site-packages\\ipykernel_launcher.py:10: SettingWithCopyWarning: \n",
      "A value is trying to be set on a copy of a slice from a DataFrame.\n",
      "Try using .loc[row_indexer,col_indexer] = value instead\n",
      "\n",
      "See the caveats in the documentation: http://pandas.pydata.org/pandas-docs/stable/user_guide/indexing.html#returning-a-view-versus-a-copy\n",
      "  # Remove the CWD from sys.path while we load stuff.\n",
      "C:\\Users\\RAMCHAND_N\\AppData\\Local\\Continuum\\anaconda3\\lib\\site-packages\\ipykernel_launcher.py:11: SettingWithCopyWarning: \n",
      "A value is trying to be set on a copy of a slice from a DataFrame.\n",
      "Try using .loc[row_indexer,col_indexer] = value instead\n",
      "\n",
      "See the caveats in the documentation: http://pandas.pydata.org/pandas-docs/stable/user_guide/indexing.html#returning-a-view-versus-a-copy\n",
      "  # This is added back by InteractiveShellApp.init_path()\n",
      "C:\\Users\\RAMCHAND_N\\AppData\\Local\\Continuum\\anaconda3\\lib\\site-packages\\ipykernel_launcher.py:12: SettingWithCopyWarning: \n",
      "A value is trying to be set on a copy of a slice from a DataFrame.\n",
      "Try using .loc[row_indexer,col_indexer] = value instead\n",
      "\n",
      "See the caveats in the documentation: http://pandas.pydata.org/pandas-docs/stable/user_guide/indexing.html#returning-a-view-versus-a-copy\n",
      "  if sys.path[0] == '':\n"
     ]
    }
   ],
   "source": [
    "df_Seattle_listings['amenities_Internet'] = df_Seattle_listings['amenities'].str.contains('Wireless Internet|Internet')\n",
    "df_Seattle_listings['amenities_Parking'] = df_Seattle_listings['amenities'].str.contains('Free Parking on Premises')\n",
    "df_Seattle_listings['amenities_Heating'] = df_Seattle_listings['amenities'].str.contains('Heating')\n",
    "df_Seattle_listings['amenities_Kitchen'] = df_Seattle_listings['amenities'].str.contains('Kitchen')\n",
    "df_Seattle_listings['amenities_Smoke_Detector'] = df_Seattle_listings['amenities'].str.contains('Smoke Detector')\n",
    "df_Seattle_listings['amenities_Carbon_Monoxide_Detector'] = df_Seattle_listings['amenities'].str.contains('Carbon Monoxide Detector')\n",
    "df_Seattle_listings['amenities_Fire_Extinguisher'] = df_Seattle_listings['amenities'].str.contains('Fire Extinguisher')\n",
    "df_Seattle_listings['amenities_Essentials'] = df_Seattle_listings['amenities'].str.contains('Essentials')\n",
    "df_Seattle_listings['amenities_Dryer'] = df_Seattle_listings['amenities'].str.contains('Dryer')\n",
    "df_Seattle_listings['amenities_Washer'] = df_Seattle_listings['amenities'].str.contains('Washer')\n",
    "df_Seattle_listings['amenities_Shampoo'] = df_Seattle_listings['amenities'].str.contains('Shampoo')\n",
    "df_Seattle_listings['amenities_TV'] = df_Seattle_listings['amenities'].str.contains('TV|Cable TV')\n",
    "\n"
   ]
  },
  {
   "cell_type": "code",
   "execution_count": 299,
   "metadata": {},
   "outputs": [
    {
     "data": {
      "text/plain": [
       "True     3113\n",
       "False     704\n",
       "Name: amenities_Dryer, dtype: int64"
      ]
     },
     "execution_count": 299,
     "metadata": {},
     "output_type": "execute_result"
    }
   ],
   "source": [
    "df_Seattle_listings['amenities_Dryer'].value_counts()"
   ]
  },
  {
   "cell_type": "markdown",
   "metadata": {},
   "source": [
    "Now we drop the amenities column"
   ]
  },
  {
   "cell_type": "code",
   "execution_count": 300,
   "metadata": {},
   "outputs": [
    {
     "name": "stderr",
     "output_type": "stream",
     "text": [
      "C:\\Users\\RAMCHAND_N\\AppData\\Local\\Continuum\\anaconda3\\lib\\site-packages\\pandas\\core\\frame.py:4117: SettingWithCopyWarning: \n",
      "A value is trying to be set on a copy of a slice from a DataFrame\n",
      "\n",
      "See the caveats in the documentation: http://pandas.pydata.org/pandas-docs/stable/user_guide/indexing.html#returning-a-view-versus-a-copy\n",
      "  errors=errors,\n"
     ]
    }
   ],
   "source": [
    "df_Seattle_listings.drop('amenities', axis=1, inplace = True)"
   ]
  },
  {
   "cell_type": "markdown",
   "metadata": {},
   "source": [
    "The final step is to get dummies for the categorical fields."
   ]
  },
  {
   "cell_type": "code",
   "execution_count": 301,
   "metadata": {},
   "outputs": [],
   "source": [
    "categorical_columns = df_Seattle_listings.select_dtypes(include=['object']).columns"
   ]
  },
  {
   "cell_type": "code",
   "execution_count": 302,
   "metadata": {},
   "outputs": [],
   "source": [
    "df_Seattle_listings = pd.get_dummies(df_Seattle_listings, columns = categorical_columns)"
   ]
  },
  {
   "cell_type": "markdown",
   "metadata": {},
   "source": [
    "Now we have an inputed version of our dataset where we have cleverly filled in the empty fields, so we proceed to the modelling where we will split the dataset into train and test set and see the performance of different types of algorithms before chosing the most suitable one. "
   ]
  },
  {
   "cell_type": "code",
   "execution_count": 303,
   "metadata": {},
   "outputs": [
    {
     "data": {
      "text/plain": [
       "summary                         0\n",
       "space                           0\n",
       "neighborhood_overview           0\n",
       "notes                           0\n",
       "transit                         0\n",
       "                               ..\n",
       "calendar_updated_today          0\n",
       "calendar_updated_yesterday      0\n",
       "cancellation_policy_flexible    0\n",
       "cancellation_policy_moderate    0\n",
       "cancellation_policy_strict      0\n",
       "Length: 210, dtype: int64"
      ]
     },
     "execution_count": 303,
     "metadata": {},
     "output_type": "execute_result"
    }
   ],
   "source": [
    "df_Seattle_listings.isna().sum()"
   ]
  },
  {
   "cell_type": "markdown",
   "metadata": {},
   "source": [
    "# Modelling"
   ]
  },
  {
   "cell_type": "markdown",
   "metadata": {},
   "source": [
    "The dataset is not ready to be first split into target, which will be the price column and the features which are all the other features in the dataset and then split it into train and test sets."
   ]
  },
  {
   "cell_type": "code",
   "execution_count": 304,
   "metadata": {},
   "outputs": [],
   "source": [
    "target = df_Seattle_listings['price']\n",
    "features = df_Seattle_listings.drop(['price'], axis=1)"
   ]
  },
  {
   "cell_type": "markdown",
   "metadata": {},
   "source": [
    "Now we create a dataframe that is able to show the different performance of the algorithms. "
   ]
  },
  {
   "cell_type": "code",
   "execution_count": 305,
   "metadata": {},
   "outputs": [
    {
     "data": {
      "text/html": [
       "<div>\n",
       "<style scoped>\n",
       "    .dataframe tbody tr th:only-of-type {\n",
       "        vertical-align: middle;\n",
       "    }\n",
       "\n",
       "    .dataframe tbody tr th {\n",
       "        vertical-align: top;\n",
       "    }\n",
       "\n",
       "    .dataframe thead th {\n",
       "        text-align: right;\n",
       "    }\n",
       "</style>\n",
       "<table border=\"1\" class=\"dataframe\">\n",
       "  <thead>\n",
       "    <tr style=\"text-align: right;\">\n",
       "      <th></th>\n",
       "      <th>Ada_Boost_Regressor</th>\n",
       "    </tr>\n",
       "  </thead>\n",
       "  <tbody>\n",
       "    <tr>\n",
       "      <th>r2_score_train</th>\n",
       "      <td>0</td>\n",
       "    </tr>\n",
       "    <tr>\n",
       "      <th>r2_score_test</th>\n",
       "      <td>0</td>\n",
       "    </tr>\n",
       "  </tbody>\n",
       "</table>\n",
       "</div>"
      ],
      "text/plain": [
       "                Ada_Boost_Regressor\n",
       "r2_score_train                    0\n",
       "r2_score_test                     0"
      ]
     },
     "execution_count": 305,
     "metadata": {},
     "output_type": "execute_result"
    }
   ],
   "source": [
    "\n",
    "df_algorthm_perfo = pd.DataFrame(index=['r2_score_train','r2_score_test'], columns=['Ada_Boost_Regressor'])\n",
    "df_algorthm_perfo.fillna(0, inplace=True)\n",
    "df_algorthm_perfo.head()\n"
   ]
  },
  {
   "cell_type": "markdown",
   "metadata": {},
   "source": [
    "We split the data into train and test sets with the test size being 30% of the data."
   ]
  },
  {
   "cell_type": "code",
   "execution_count": 306,
   "metadata": {},
   "outputs": [],
   "source": [
    "from sklearn.model_selection import train_test_split\n",
    "from sklearn.ensemble import AdaBoostRegressor\n",
    "from sklearn.model_selection import RandomizedSearchCV, GridSearchCV\n",
    "\n",
    "X_train, X_test, y_train, y_test = train_test_split(features, target, test_size=0.3, random_state=42)"
   ]
  },
  {
   "cell_type": "markdown",
   "metadata": {},
   "source": [
    "### AdaBoost Regressor"
   ]
  },
  {
   "cell_type": "code",
   "execution_count": 307,
   "metadata": {},
   "outputs": [
    {
     "name": "stderr",
     "output_type": "stream",
     "text": [
      "C:\\Users\\RAMCHAND_N\\AppData\\Local\\Continuum\\anaconda3\\lib\\site-packages\\sklearn\\model_selection\\_search.py:814: DeprecationWarning: The default of the `iid` parameter will change from True to False in version 0.22 and will be removed in 0.24. This will change numeric results when test-set sizes are unequal.\n",
      "  DeprecationWarning)\n"
     ]
    }
   ],
   "source": [
    "param_dist = {\n",
    " 'n_estimators': [500, 2000],\n",
    " 'learning_rate' : [0.01,0.05,0.1,0.3,1],\n",
    " 'loss' : ['linear', 'square', 'exponential']\n",
    " }\n",
    "\n",
    "\n",
    "\n",
    "adamodel = RandomizedSearchCV(AdaBoostRegressor(), param_distributions = param_dist, cv=3, n_iter = 20, n_jobs=-1);\n",
    "                              \n",
    "adamodel.fit(X_train, y_train)\n",
    "y_pred_test = adamodel.predict(X_test)\n",
    "y_pred_train = adamodel.predict(X_train)\n",
    "df_algorthm_perfo.loc['r2_score_test','Ada_Boost_Regressor'] = r2_score(y_test, y_pred_test)\n",
    "df_algorthm_perfo.loc['r2_score_train','Ada_Boost_Regressor'] = r2_score(y_train, y_pred_train)"
   ]
  },
  {
   "cell_type": "markdown",
   "metadata": {},
   "source": [
    "### Support Vector Machine Regressor"
   ]
  },
  {
   "cell_type": "code",
   "execution_count": 308,
   "metadata": {},
   "outputs": [],
   "source": [
    "df_Seattle_listings['Support_Vector_Machine_Regressor'] = 0"
   ]
  },
  {
   "cell_type": "markdown",
   "metadata": {},
   "source": [
    "We scale the features for this algorithm."
   ]
  },
  {
   "cell_type": "code",
   "execution_count": 309,
   "metadata": {},
   "outputs": [],
   "source": [
    "from sklearn.preprocessing import StandardScaler\n",
    "\n",
    "scaler = StandardScaler()\n",
    "\n",
    "scaled_train_x = scaler.fit_transform(X_train)\n",
    "scaled_test_x = scaler.transform(X_test)"
   ]
  },
  {
   "cell_type": "code",
   "execution_count": 310,
   "metadata": {},
   "outputs": [
    {
     "name": "stderr",
     "output_type": "stream",
     "text": [
      "C:\\Users\\RAMCHAND_N\\AppData\\Local\\Continuum\\anaconda3\\lib\\site-packages\\sklearn\\model_selection\\_split.py:1978: FutureWarning: The default value of cv will change from 3 to 5 in version 0.22. Specify it explicitly to silence this warning.\n",
      "  warnings.warn(CV_WARNING, FutureWarning)\n",
      "C:\\Users\\RAMCHAND_N\\AppData\\Local\\Continuum\\anaconda3\\lib\\site-packages\\sklearn\\model_selection\\_split.py:657: Warning: The least populated class in y has only 1 members, which is too few. The minimum number of members in any class cannot be less than n_splits=3.\n",
      "  % (min_groups, self.n_splits)), Warning)\n",
      "[Parallel(n_jobs=1)]: Using backend SequentialBackend with 1 concurrent workers.\n"
     ]
    },
    {
     "name": "stdout",
     "output_type": "stream",
     "text": [
      "Fitting 3 folds for each of 18 candidates, totalling 54 fits\n",
      "[CV] C=0.001, gamma=1, kernel=rbf ....................................\n",
      "[CV] ..................... C=0.001, gamma=1, kernel=rbf, total=   3.6s\n",
      "[CV] C=0.001, gamma=1, kernel=rbf ....................................\n"
     ]
    },
    {
     "name": "stderr",
     "output_type": "stream",
     "text": [
      "[Parallel(n_jobs=1)]: Done   1 out of   1 | elapsed:    3.5s remaining:    0.0s\n"
     ]
    },
    {
     "name": "stdout",
     "output_type": "stream",
     "text": [
      "[CV] ..................... C=0.001, gamma=1, kernel=rbf, total=   4.2s\n",
      "[CV] C=0.001, gamma=1, kernel=rbf ....................................\n",
      "[CV] ..................... C=0.001, gamma=1, kernel=rbf, total=   4.5s\n",
      "[CV] C=0.001, gamma=1, kernel=linear .................................\n",
      "[CV] .................. C=0.001, gamma=1, kernel=linear, total=   3.9s\n",
      "[CV] C=0.001, gamma=1, kernel=linear .................................\n",
      "[CV] .................. C=0.001, gamma=1, kernel=linear, total=   4.9s\n",
      "[CV] C=0.001, gamma=1, kernel=linear .................................\n",
      "[CV] .................. C=0.001, gamma=1, kernel=linear, total=   5.1s\n",
      "[CV] C=0.001, gamma=0.1, kernel=rbf ..................................\n",
      "[CV] ................... C=0.001, gamma=0.1, kernel=rbf, total=   3.5s\n",
      "[CV] C=0.001, gamma=0.1, kernel=rbf ..................................\n",
      "[CV] ................... C=0.001, gamma=0.1, kernel=rbf, total=   3.6s\n",
      "[CV] C=0.001, gamma=0.1, kernel=rbf ..................................\n",
      "[CV] ................... C=0.001, gamma=0.1, kernel=rbf, total=   3.6s\n",
      "[CV] C=0.001, gamma=0.1, kernel=linear ...............................\n",
      "[CV] ................ C=0.001, gamma=0.1, kernel=linear, total=   3.7s\n",
      "[CV] C=0.001, gamma=0.1, kernel=linear ...............................\n",
      "[CV] ................ C=0.001, gamma=0.1, kernel=linear, total=   4.7s\n",
      "[CV] C=0.001, gamma=0.1, kernel=linear ...............................\n",
      "[CV] ................ C=0.001, gamma=0.1, kernel=linear, total=   4.8s\n",
      "[CV] C=0.001, gamma=0.01, kernel=rbf .................................\n",
      "[CV] .................. C=0.001, gamma=0.01, kernel=rbf, total=   3.0s\n",
      "[CV] C=0.001, gamma=0.01, kernel=rbf .................................\n",
      "[CV] .................. C=0.001, gamma=0.01, kernel=rbf, total=   3.6s\n",
      "[CV] C=0.001, gamma=0.01, kernel=rbf .................................\n",
      "[CV] .................. C=0.001, gamma=0.01, kernel=rbf, total=   3.7s\n",
      "[CV] C=0.001, gamma=0.01, kernel=linear ..............................\n",
      "[CV] ............... C=0.001, gamma=0.01, kernel=linear, total=   3.8s\n",
      "[CV] C=0.001, gamma=0.01, kernel=linear ..............................\n",
      "[CV] ............... C=0.001, gamma=0.01, kernel=linear, total=   4.7s\n",
      "[CV] C=0.001, gamma=0.01, kernel=linear ..............................\n",
      "[CV] ............... C=0.001, gamma=0.01, kernel=linear, total=   4.7s\n",
      "[CV] C=0.05, gamma=1, kernel=rbf .....................................\n",
      "[CV] ...................... C=0.05, gamma=1, kernel=rbf, total=   5.8s\n",
      "[CV] C=0.05, gamma=1, kernel=rbf .....................................\n",
      "[CV] ...................... C=0.05, gamma=1, kernel=rbf, total=   7.7s\n",
      "[CV] C=0.05, gamma=1, kernel=rbf .....................................\n",
      "[CV] ...................... C=0.05, gamma=1, kernel=rbf, total=   8.0s\n",
      "[CV] C=0.05, gamma=1, kernel=linear ..................................\n",
      "[CV] ................... C=0.05, gamma=1, kernel=linear, total=   4.1s\n",
      "[CV] C=0.05, gamma=1, kernel=linear ..................................\n",
      "[CV] ................... C=0.05, gamma=1, kernel=linear, total=   5.2s\n",
      "[CV] C=0.05, gamma=1, kernel=linear ..................................\n",
      "[CV] ................... C=0.05, gamma=1, kernel=linear, total=   5.2s\n",
      "[CV] C=0.05, gamma=0.1, kernel=rbf ...................................\n",
      "[CV] .................... C=0.05, gamma=0.1, kernel=rbf, total=   5.5s\n",
      "[CV] C=0.05, gamma=0.1, kernel=rbf ...................................\n",
      "[CV] .................... C=0.05, gamma=0.1, kernel=rbf, total=   7.3s\n",
      "[CV] C=0.05, gamma=0.1, kernel=rbf ...................................\n",
      "[CV] .................... C=0.05, gamma=0.1, kernel=rbf, total=   8.6s\n",
      "[CV] C=0.05, gamma=0.1, kernel=linear ................................\n",
      "[CV] ................. C=0.05, gamma=0.1, kernel=linear, total=   4.9s\n",
      "[CV] C=0.05, gamma=0.1, kernel=linear ................................\n",
      "[CV] ................. C=0.05, gamma=0.1, kernel=linear, total=   5.6s\n",
      "[CV] C=0.05, gamma=0.1, kernel=linear ................................\n",
      "[CV] ................. C=0.05, gamma=0.1, kernel=linear, total=   5.3s\n",
      "[CV] C=0.05, gamma=0.01, kernel=rbf ..................................\n",
      "[CV] ................... C=0.05, gamma=0.01, kernel=rbf, total=   6.2s\n",
      "[CV] C=0.05, gamma=0.01, kernel=rbf ..................................\n",
      "[CV] ................... C=0.05, gamma=0.01, kernel=rbf, total=   7.3s\n",
      "[CV] C=0.05, gamma=0.01, kernel=rbf ..................................\n",
      "[CV] ................... C=0.05, gamma=0.01, kernel=rbf, total=   8.2s\n",
      "[CV] C=0.05, gamma=0.01, kernel=linear ...............................\n",
      "[CV] ................ C=0.05, gamma=0.01, kernel=linear, total=   4.5s\n",
      "[CV] C=0.05, gamma=0.01, kernel=linear ...............................\n",
      "[CV] ................ C=0.05, gamma=0.01, kernel=linear, total=   5.1s\n",
      "[CV] C=0.05, gamma=0.01, kernel=linear ...............................\n",
      "[CV] ................ C=0.05, gamma=0.01, kernel=linear, total=   5.1s\n",
      "[CV] C=0.1, gamma=1, kernel=rbf ......................................\n",
      "[CV] ....................... C=0.1, gamma=1, kernel=rbf, total=   5.9s\n",
      "[CV] C=0.1, gamma=1, kernel=rbf ......................................\n",
      "[CV] ....................... C=0.1, gamma=1, kernel=rbf, total=   7.7s\n",
      "[CV] C=0.1, gamma=1, kernel=rbf ......................................\n",
      "[CV] ....................... C=0.1, gamma=1, kernel=rbf, total=   7.9s\n",
      "[CV] C=0.1, gamma=1, kernel=linear ...................................\n",
      "[CV] .................... C=0.1, gamma=1, kernel=linear, total=   4.0s\n",
      "[CV] C=0.1, gamma=1, kernel=linear ...................................\n",
      "[CV] .................... C=0.1, gamma=1, kernel=linear, total=   5.4s\n",
      "[CV] C=0.1, gamma=1, kernel=linear ...................................\n",
      "[CV] .................... C=0.1, gamma=1, kernel=linear, total=   5.2s\n",
      "[CV] C=0.1, gamma=0.1, kernel=rbf ....................................\n",
      "[CV] ..................... C=0.1, gamma=0.1, kernel=rbf, total=   5.6s\n",
      "[CV] C=0.1, gamma=0.1, kernel=rbf ....................................\n",
      "[CV] ..................... C=0.1, gamma=0.1, kernel=rbf, total=   7.4s\n",
      "[CV] C=0.1, gamma=0.1, kernel=rbf ....................................\n",
      "[CV] ..................... C=0.1, gamma=0.1, kernel=rbf, total=   8.0s\n",
      "[CV] C=0.1, gamma=0.1, kernel=linear .................................\n",
      "[CV] .................. C=0.1, gamma=0.1, kernel=linear, total=   4.9s\n",
      "[CV] C=0.1, gamma=0.1, kernel=linear .................................\n",
      "[CV] .................. C=0.1, gamma=0.1, kernel=linear, total=   5.9s\n",
      "[CV] C=0.1, gamma=0.1, kernel=linear .................................\n",
      "[CV] .................. C=0.1, gamma=0.1, kernel=linear, total=   5.2s\n",
      "[CV] C=0.1, gamma=0.01, kernel=rbf ...................................\n",
      "[CV] .................... C=0.1, gamma=0.01, kernel=rbf, total=   5.2s\n",
      "[CV] C=0.1, gamma=0.01, kernel=rbf ...................................\n",
      "[CV] .................... C=0.1, gamma=0.01, kernel=rbf, total=   7.9s\n",
      "[CV] C=0.1, gamma=0.01, kernel=rbf ...................................\n",
      "[CV] .................... C=0.1, gamma=0.01, kernel=rbf, total=   7.2s\n",
      "[CV] C=0.1, gamma=0.01, kernel=linear ................................\n",
      "[CV] ................. C=0.1, gamma=0.01, kernel=linear, total=   4.1s\n",
      "[CV] C=0.1, gamma=0.01, kernel=linear ................................\n",
      "[CV] ................. C=0.1, gamma=0.01, kernel=linear, total=   5.2s\n",
      "[CV] C=0.1, gamma=0.01, kernel=linear ................................\n",
      "[CV] ................. C=0.1, gamma=0.01, kernel=linear, total=   5.2s\n"
     ]
    },
    {
     "name": "stderr",
     "output_type": "stream",
     "text": [
      "[Parallel(n_jobs=1)]: Done  54 out of  54 | elapsed:  4.8min finished\n",
      "C:\\Users\\RAMCHAND_N\\AppData\\Local\\Continuum\\anaconda3\\lib\\site-packages\\sklearn\\model_selection\\_search.py:814: DeprecationWarning: The default of the `iid` parameter will change from True to False in version 0.22 and will be removed in 0.24. This will change numeric results when test-set sizes are unequal.\n",
      "  DeprecationWarning)\n"
     ]
    }
   ],
   "source": [
    "from sklearn import svm\n",
    "\n",
    "param_grid = {'C': [0.001,0.05,0.1], 'gamma': [1,0.1,0.01],'kernel': ['rbf', 'linear']}\n",
    "grid_SVC = GridSearchCV(svm.SVC(),param_grid,refit=True,verbose=2)\n",
    "grid_SVC.fit(scaled_train_x, y_train)\n",
    "y_pred_test_SVC = grid_SVC.predict(scaled_test_x)\n",
    "y_pred_train_SVC = grid_SVC.predict(scaled_train_x)\n",
    "df_algorthm_perfo.loc['r2_score_test','Support_Vector_Machine_Regressor'] = r2_score(y_test, y_pred_test_SVC)\n",
    "df_algorthm_perfo.loc['r2_score_train','Support_Vector_Machine_Regressor'] = r2_score(y_train, y_pred_train_SVC)"
   ]
  },
  {
   "cell_type": "code",
   "execution_count": 311,
   "metadata": {},
   "outputs": [
    {
     "data": {
      "text/html": [
       "<div>\n",
       "<style scoped>\n",
       "    .dataframe tbody tr th:only-of-type {\n",
       "        vertical-align: middle;\n",
       "    }\n",
       "\n",
       "    .dataframe tbody tr th {\n",
       "        vertical-align: top;\n",
       "    }\n",
       "\n",
       "    .dataframe thead th {\n",
       "        text-align: right;\n",
       "    }\n",
       "</style>\n",
       "<table border=\"1\" class=\"dataframe\">\n",
       "  <thead>\n",
       "    <tr style=\"text-align: right;\">\n",
       "      <th></th>\n",
       "      <th>Ada_Boost_Regressor</th>\n",
       "      <th>Support_Vector_Machine_Regressor</th>\n",
       "    </tr>\n",
       "  </thead>\n",
       "  <tbody>\n",
       "    <tr>\n",
       "      <th>r2_score_train</th>\n",
       "      <td>0.581686</td>\n",
       "      <td>0.988625</td>\n",
       "    </tr>\n",
       "    <tr>\n",
       "      <th>r2_score_test</th>\n",
       "      <td>0.514906</td>\n",
       "      <td>0.262458</td>\n",
       "    </tr>\n",
       "  </tbody>\n",
       "</table>\n",
       "</div>"
      ],
      "text/plain": [
       "                Ada_Boost_Regressor  Support_Vector_Machine_Regressor\n",
       "r2_score_train             0.581686                          0.988625\n",
       "r2_score_test              0.514906                          0.262458"
      ]
     },
     "execution_count": 311,
     "metadata": {},
     "output_type": "execute_result"
    }
   ],
   "source": [
    "df_algorthm_perfo.head()"
   ]
  },
  {
   "cell_type": "markdown",
   "metadata": {},
   "source": [
    "### Decision Tree Regressor"
   ]
  },
  {
   "cell_type": "code",
   "execution_count": 312,
   "metadata": {},
   "outputs": [],
   "source": [
    "df_Seattle_listings['Decision_Tree_Regressor'] = 0"
   ]
  },
  {
   "cell_type": "code",
   "execution_count": 313,
   "metadata": {},
   "outputs": [
    {
     "name": "stdout",
     "output_type": "stream",
     "text": [
      "63.37589390065297\n",
      "{'decisiontreeregressor__max_depth': 5, 'decisiontreeregressor__min_samples_leaf': 10}\n"
     ]
    }
   ],
   "source": [
    "from sklearn.pipeline import make_pipeline\n",
    "from sklearn import tree\n",
    "from sklearn.metrics import mean_squared_error\n",
    "from sklearn.metrics import make_scorer\n",
    "\n",
    "def root_mean_squared_error(y_true, y_pred):\n",
    "    ''' Root mean squared error regression loss\n",
    "    \n",
    "    Parameters\n",
    "    ----------\n",
    "    y_true : array-like of shape = (n_samples) or (n_samples, n_outputs)\n",
    "    Ground truth (correct) target values.\n",
    "\n",
    "    y_pred : array-like of shape = (n_samples) or (n_samples, n_outputs)\n",
    "    Estimated target values.\n",
    "    '''\n",
    "    return np.sqrt(mean_squared_error(y_true, y_pred))\n",
    "\n",
    "rmse_scorer = make_scorer(root_mean_squared_error, greater_is_better=False)\n",
    "\n",
    "\n",
    "\n",
    "\n",
    "pipe_tree = make_pipeline(tree.DecisionTreeRegressor(random_state=1))\n",
    "\n",
    "depths = np.arange(1, 20)\n",
    "\n",
    "num_leafs = [1, 5, 10, 20, 50, 100]\n",
    "param_grid = [{'decisiontreeregressor__max_depth':depths,\n",
    "              'decisiontreeregressor__min_samples_leaf':num_leafs}]\n",
    "\n",
    "gs = GridSearchCV(estimator=pipe_tree, param_grid=param_grid, scoring=rmse_scorer, cv=10)\n",
    "\n",
    "gs = gs.fit(X_train, y_train)\n",
    "print(-gs.best_score_)\n",
    "print(gs.best_params_)\n",
    "my_model = gs.best_estimator_\n",
    "my_model.fit(X_train, y_train)\n",
    "y_pred_test_DT = my_model.predict(X_test)\n",
    "y_pred_train_DT = my_model.predict(X_train) \n",
    "df_algorthm_perfo.loc['r2_score_test','Decision_Tree_Regressor'] = r2_score(y_test, y_pred_test_DT)\n",
    "df_algorthm_perfo.loc['r2_score_train','Decision_Tree_Regressor'] = r2_score(y_train, y_pred_train_DT)"
   ]
  },
  {
   "cell_type": "code",
   "execution_count": 314,
   "metadata": {},
   "outputs": [
    {
     "data": {
      "text/html": [
       "<div>\n",
       "<style scoped>\n",
       "    .dataframe tbody tr th:only-of-type {\n",
       "        vertical-align: middle;\n",
       "    }\n",
       "\n",
       "    .dataframe tbody tr th {\n",
       "        vertical-align: top;\n",
       "    }\n",
       "\n",
       "    .dataframe thead th {\n",
       "        text-align: right;\n",
       "    }\n",
       "</style>\n",
       "<table border=\"1\" class=\"dataframe\">\n",
       "  <thead>\n",
       "    <tr style=\"text-align: right;\">\n",
       "      <th></th>\n",
       "      <th>Ada_Boost_Regressor</th>\n",
       "      <th>Support_Vector_Machine_Regressor</th>\n",
       "      <th>Decision_Tree_Regressor</th>\n",
       "    </tr>\n",
       "  </thead>\n",
       "  <tbody>\n",
       "    <tr>\n",
       "      <th>r2_score_train</th>\n",
       "      <td>0.581686</td>\n",
       "      <td>0.988625</td>\n",
       "      <td>0.600745</td>\n",
       "    </tr>\n",
       "    <tr>\n",
       "      <th>r2_score_test</th>\n",
       "      <td>0.514906</td>\n",
       "      <td>0.262458</td>\n",
       "      <td>0.514143</td>\n",
       "    </tr>\n",
       "  </tbody>\n",
       "</table>\n",
       "</div>"
      ],
      "text/plain": [
       "                Ada_Boost_Regressor  Support_Vector_Machine_Regressor  \\\n",
       "r2_score_train             0.581686                          0.988625   \n",
       "r2_score_test              0.514906                          0.262458   \n",
       "\n",
       "                Decision_Tree_Regressor  \n",
       "r2_score_train                 0.600745  \n",
       "r2_score_test                  0.514143  "
      ]
     },
     "execution_count": 314,
     "metadata": {},
     "output_type": "execute_result"
    }
   ],
   "source": [
    "df_algorthm_perfo.head()"
   ]
  },
  {
   "cell_type": "markdown",
   "metadata": {},
   "source": [
    "### Nearest Neighbour Regressor"
   ]
  },
  {
   "cell_type": "code",
   "execution_count": 315,
   "metadata": {},
   "outputs": [],
   "source": [
    "df_Seattle_listings['Nearest_Neighbour_Regressor'] = 0"
   ]
  },
  {
   "cell_type": "code",
   "execution_count": 316,
   "metadata": {},
   "outputs": [
    {
     "name": "stdout",
     "output_type": "stream",
     "text": [
      "Fitting 3 folds for each of 16 candidates, totalling 48 fits\n"
     ]
    },
    {
     "name": "stderr",
     "output_type": "stream",
     "text": [
      "C:\\Users\\RAMCHAND_N\\AppData\\Local\\Continuum\\anaconda3\\lib\\site-packages\\sklearn\\model_selection\\_split.py:657: Warning: The least populated class in y has only 1 members, which is too few. The minimum number of members in any class cannot be less than n_splits=3.\n",
      "  % (min_groups, self.n_splits)), Warning)\n",
      "[Parallel(n_jobs=-1)]: Using backend LokyBackend with 4 concurrent workers.\n"
     ]
    },
    {
     "name": "stdout",
     "output_type": "stream",
     "text": [
      "-0.07862223886184949\n",
      "{'metric': 'manhattan', 'n_neighbors': 19, 'weights': 'distance'}\n"
     ]
    },
    {
     "name": "stderr",
     "output_type": "stream",
     "text": [
      "[Parallel(n_jobs=-1)]: Done  48 out of  48 | elapsed:   18.9s finished\n",
      "C:\\Users\\RAMCHAND_N\\AppData\\Local\\Continuum\\anaconda3\\lib\\site-packages\\sklearn\\model_selection\\_search.py:814: DeprecationWarning: The default of the `iid` parameter will change from True to False in version 0.22 and will be removed in 0.24. This will change numeric results when test-set sizes are unequal.\n",
      "  DeprecationWarning)\n"
     ]
    }
   ],
   "source": [
    "from sklearn.neighbors import KNeighborsClassifier\n",
    "\n",
    "grid_params_KNN = {'n_neighbors': [3,5,11,19], 'weights': ['uniform','distance'],'metric':['euclidean','manhattan']}\n",
    "\n",
    "gs_KNN = GridSearchCV(KNeighborsClassifier(), grid_params_KNN, verbose = 1, cv = 3, n_jobs = -1) \n",
    "\n",
    "gs_KNN = gs_KNN.fit(scaled_train_x, y_train)\n",
    "print(-gs_KNN.best_score_)\n",
    "print(gs_KNN.best_params_)\n",
    "my_model_KNN = gs.best_estimator_\n",
    "my_model_KNN.fit(scaled_train_x, y_train)\n",
    "y_pred_test_KNN = my_model_KNN.predict(scaled_test_x)\n",
    "y_pred_train_KNN = my_model_KNN.predict(scaled_train_x) \n",
    "df_algorthm_perfo.loc['r2_score_test','Nearest_Neighbour_Regressor'] = r2_score(y_test, y_pred_test_KNN)\n",
    "df_algorthm_perfo.loc['r2_score_train','Nearest_Neighbour_Regressor'] = r2_score(y_train, y_pred_train_KNN)"
   ]
  },
  {
   "cell_type": "code",
   "execution_count": 317,
   "metadata": {},
   "outputs": [
    {
     "data": {
      "text/html": [
       "<div>\n",
       "<style scoped>\n",
       "    .dataframe tbody tr th:only-of-type {\n",
       "        vertical-align: middle;\n",
       "    }\n",
       "\n",
       "    .dataframe tbody tr th {\n",
       "        vertical-align: top;\n",
       "    }\n",
       "\n",
       "    .dataframe thead th {\n",
       "        text-align: right;\n",
       "    }\n",
       "</style>\n",
       "<table border=\"1\" class=\"dataframe\">\n",
       "  <thead>\n",
       "    <tr style=\"text-align: right;\">\n",
       "      <th></th>\n",
       "      <th>Ada_Boost_Regressor</th>\n",
       "      <th>Support_Vector_Machine_Regressor</th>\n",
       "      <th>Decision_Tree_Regressor</th>\n",
       "      <th>Nearest_Neighbour_Regressor</th>\n",
       "    </tr>\n",
       "  </thead>\n",
       "  <tbody>\n",
       "    <tr>\n",
       "      <th>r2_score_train</th>\n",
       "      <td>0.581686</td>\n",
       "      <td>0.988625</td>\n",
       "      <td>0.600745</td>\n",
       "      <td>0.600745</td>\n",
       "    </tr>\n",
       "    <tr>\n",
       "      <th>r2_score_test</th>\n",
       "      <td>0.514906</td>\n",
       "      <td>0.262458</td>\n",
       "      <td>0.514143</td>\n",
       "      <td>0.511793</td>\n",
       "    </tr>\n",
       "  </tbody>\n",
       "</table>\n",
       "</div>"
      ],
      "text/plain": [
       "                Ada_Boost_Regressor  Support_Vector_Machine_Regressor  \\\n",
       "r2_score_train             0.581686                          0.988625   \n",
       "r2_score_test              0.514906                          0.262458   \n",
       "\n",
       "                Decision_Tree_Regressor  Nearest_Neighbour_Regressor  \n",
       "r2_score_train                 0.600745                     0.600745  \n",
       "r2_score_test                  0.514143                     0.511793  "
      ]
     },
     "execution_count": 317,
     "metadata": {},
     "output_type": "execute_result"
    }
   ],
   "source": [
    "df_algorthm_perfo.head()"
   ]
  },
  {
   "cell_type": "markdown",
   "metadata": {},
   "source": [
    "# Evaluation"
   ]
  },
  {
   "cell_type": "markdown",
   "metadata": {},
   "source": [
    "We see that the the AdaBoost, Decision Tree and Nearest Neighbour have very similar performances and therefore we could pretty much use any of these algorithms which have a R squared value of 0.514. There is more opimtization that can be done with selecting the best features, imputating the data and the hyperparameters of each algorithm but we see that we already have a desent price prediciton model. "
   ]
  },
  {
   "cell_type": "markdown",
   "metadata": {},
   "source": [
    "# Resources"
   ]
  },
  {
   "cell_type": "markdown",
   "metadata": {},
   "source": [
    "https://data-science-blog.com/en/blog/2018/11/04/sentiment-analysis-using-python/\n",
    "\n",
    "https://medium.com/@erikgreenj/k-neighbors-classifier-with-gridsearchcv-basics-3c445ddeb657\n"
   ]
  },
  {
   "cell_type": "code",
   "execution_count": null,
   "metadata": {},
   "outputs": [],
   "source": []
  }
 ],
 "metadata": {
  "kernelspec": {
   "display_name": "Python 3",
   "language": "python",
   "name": "python3"
  },
  "language_info": {
   "codemirror_mode": {
    "name": "ipython",
    "version": 3
   },
   "file_extension": ".py",
   "mimetype": "text/x-python",
   "name": "python",
   "nbconvert_exporter": "python",
   "pygments_lexer": "ipython3",
   "version": "3.6.8"
  }
 },
 "nbformat": 4,
 "nbformat_minor": 4
}
